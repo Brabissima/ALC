{
 "cells": [
  {
   "cell_type": "code",
   "execution_count": 80,
   "metadata": {},
   "outputs": [],
   "source": [
    "import numpy as np\n",
    "import pandas as pd\n",
    "import itertools as it\n",
    "import math\n",
    "from scipy.linalg import lu\n",
    "from scipy.linalg import lstsq\n",
    "import seaborn as sns\n",
    "import matplotlib.pyplot as plt\n",
    "plt.style.use('seaborn-whitegrid')\n",
    "import time"
   ]
  },
  {
   "cell_type": "markdown",
   "metadata": {},
   "source": [
    "# Gram-Schmidt"
   ]
  },
  {
   "cell_type": "code",
   "execution_count": 81,
   "metadata": {},
   "outputs": [],
   "source": [
    "#Gera uma matriz LI\n",
    "def matrizLI(m,n):\n",
    "    A = np.random.randint(0,5,(m,n))\n",
    "    p,l,u = lu(A)                         #Faz a decomposicao LU dela\n",
    "    #print('A antes=',A)\n",
    "    #print('u=',u)\n",
    "    delj,deli = [],[]\n",
    "    \n",
    "    sup_indices = np.triu_indices(n)      #Retorna 1 lista com os 'i's e outra lista com os 'j's da parte superior\n",
    "    \n",
    "    for i,j in zip(sup_indices[0],sup_indices[1]):\n",
    "        if i!=j and u[i][j]==0:       #Percorre a parte superior da matriz U e checa aonde existe 0 \n",
    "            #print('deleta coluna',j)\n",
    "            deli.append(i)           #Lista as linhas onde existe o 0\n",
    "            delj.append(j)           #Lista as colunas onde existe 0 pra deleta-las\n",
    "               \n",
    "    for i,j in it.product(deli,delj):\n",
    "        A=np.delete(A,j,axis=1)           #Deleta as colunas listadas.\n",
    "        e0=np.eye(m)[i]\n",
    "        #print('e0=',e0)\n",
    "        A=np.insert(A, j, e0, axis=1)     #Coloca o vetor ei(coluna i da identidade) no lugar do vetor que deixava LD\n",
    "    \n",
    "    #print('A depois=',A)\n",
    "    #p,l,u = lu(A)\n",
    "    #print('u depois=',u)\n",
    "    return A\n",
    "\n"
   ]
  },
  {
   "cell_type": "code",
   "execution_count": 82,
   "metadata": {},
   "outputs": [],
   "source": [
    "def gram_schmidt(A):\n",
    "    # Criar matriz Q\n",
    "    Q = np.zeros(A.shape)\n",
    "    # Atualização dos vetores/colunas de    \n",
    "    for i in range(A.shape[1]):\n",
    "        # Vetor i de Q recebe o vetor i de A\n",
    "        Q[:, i] = A[:, i]\n",
    "        # Somatório das projeções dos vetores de A em Q\n",
    "        for j in range(i):\n",
    "            # formula para compor o q chapéu\n",
    "            Q[:, i] -= Q[:, j].T @ A[:, i] * Q[:, j]\n",
    "        # Normalização do vetor q\n",
    "        #Q[:, i] /= np.linalg.norm(Q[:, i])\n",
    "        # arredondamento, se divisao for muito pequena, aproximamos a 1, para reduzir erro numérico\n",
    "        Q[:, i] /= np.linalg.norm(Q[:, i]) < 1e-8 and 1 or np.linalg.norm(Q[:, i])\n",
    "        \n",
    "    R = Q.T @ A\n",
    "    return Q,R"
   ]
  },
  {
   "cell_type": "code",
   "execution_count": 83,
   "metadata": {},
   "outputs": [
    {
     "name": "stdout",
     "output_type": "stream",
     "text": [
      "Matriz A:\n",
      "[[4 2 4 1 1]\n",
      " [0 3 1 0 4]\n",
      " [2 1 2 0 4]\n",
      " [1 2 2 0 2]\n",
      " [0 1 1 0 1]\n",
      " [4 4 4 0 3]\n",
      " [4 4 1 0 2]]\n",
      "\n",
      "Matriz R:\n",
      "[[ 7.2801  6.0439  5.7691  0.5494  4.6703]\n",
      " [-0.      3.8042  0.8233 -0.3472  3.8835]\n",
      " [-0.      0.      3.0065  0.3712  1.6162]\n",
      " [-0.     -0.      0.      0.6632 -1.233 ]\n",
      " [ 0.      0.     -0.      0.      3.1582]]\n",
      "\n",
      "Matriz Q:\n",
      "[[ 0.5494 -0.3472  0.3712  0.6632  0.    ]\n",
      " [ 0.      0.7886  0.1167  0.3476  0.3728]\n",
      " [ 0.2747 -0.1736  0.1856 -0.4224  0.8139]\n",
      " [ 0.1374  0.3075  0.3174 -0.1305 -0.1614]\n",
      " [ 0.      0.2629  0.2606 -0.0083 -0.1432]\n",
      " [ 0.5494  0.1786  0.2272 -0.4889 -0.3893]\n",
      " [ 0.5494  0.1786 -0.7706  0.0696  0.0227]]\n",
      "\n",
      "Q x R:\n",
      "[[ 4.  2.  4.  1.  1.]\n",
      " [ 0.  3.  1.  0.  4.]\n",
      " [ 2.  1.  2. -0.  4.]\n",
      " [ 1.  2.  2. -0.  2.]\n",
      " [ 0.  1.  1. -0.  1.]\n",
      " [ 4.  4.  4. -0.  3.]\n",
      " [ 4.  4.  1. -0.  2.]]\n",
      "\n",
      "Matriz A = Q x R??\n",
      " [[ True  True  True  True  True]\n",
      " [ True  True  True  True  True]\n",
      " [ True  True  True  True  True]\n",
      " [ True  True  True  True  True]\n",
      " [ True  True  True  True  True]\n",
      " [ True  True  True  True  True]\n",
      " [ True  True  True  True  True]]\n"
     ]
    },
    {
     "data": {
      "text/plain": [
       "<matplotlib.lines.Line2D at 0x1c1ef987b70>"
      ]
     },
     "execution_count": 83,
     "metadata": {},
     "output_type": "execute_result"
    },
    {
     "data": {
      "image/png": "[encoded data removed]",
      "text/plain": [
       "<Figure size 432x288 with 1 Axes>"
      ]
     },
     "metadata": {},
     "output_type": "display_data"
    }
   ],
   "source": [
    "m, n = 7,5\n",
    "\n",
    "A = matrizLI(m,n)\n",
    "Q,R = gram_schmidt(A)\n",
    "R = R.round(4)\n",
    "\n",
    "print(\"Matriz A:\\n{}\\n\\nMatriz R:\\n{}\\n\\nMatriz Q:\\n{}\\n\\nQ x R:\\n{}\".format(A, R, Q.round(4), (Q@R).round(4)))\n",
    "print(\"\\nMatriz A = Q x R??\\n\", (A.round(3)==(Q@R).round(3)))\n",
    "\n",
    "plt.spy(R,marker='o',c='b')"
   ]
  },
  {
   "cell_type": "markdown",
   "metadata": {},
   "source": [
    "# Rotação de Givens"
   ]
  },
  {
   "cell_type": "code",
   "execution_count": 84,
   "metadata": {},
   "outputs": [],
   "source": [
    "def entradas(a,b):\n",
    "    # Calcula seno e coseno para entradas da matriz de rotação.\n",
    "    hip = math.hypot(a,b)\n",
    "    cos = a/hip\n",
    "    sen = -b/hip\n",
    "    return (cos,sen)"
   ]
  },
  {
   "cell_type": "code",
   "execution_count": 85,
   "metadata": {},
   "outputs": [],
   "source": [
    "def rotacao_givens(A):\n",
    "    qtd_linhas, qtd_colunas = A.shape\n",
    "                                   \n",
    "    Q = np.identity(A.shape[0])             # Inicializando a matriz ortogonal Q.\n",
    "    R = np.copy(A)                          # Inicializando a matriz triangular superior R.\n",
    "    \n",
    "    # As iterações serão feitas sobre a matriz triangular inferior\n",
    "    linhas, colunas = np.tril_indices(qtd_linhas, -1, qtd_colunas)\n",
    "    #i = 0\n",
    "    for (linha, coluna) in zip(linhas, colunas):\n",
    "        \n",
    "        # As rotações são feitas para os valores da matriz triangular\n",
    "        # inferior que são diferentes de zero.\n",
    "        if(R[linha,coluna] != 0):\n",
    "            cos, sen = entradas(R[coluna, coluna], R[linha,coluna])\n",
    "            G = np.identity(qtd_linhas)\n",
    "            G[coluna, coluna] = cos\n",
    "            G[linha, linha] = cos\n",
    "            G[linha, coluna] = sen\n",
    "            G[coluna, linha] = -sen\n",
    "            R = np.dot(G, R)\n",
    "            Q = np.dot(Q,G.T)\n",
    "        #i = i+1\n",
    "        #print(\"Matriz Q{}:\\n{}\\n\\nMatriz R{}:\\n{}\\n\".format(i, Q.round(5), i, R.round(5)))\n",
    "    return (Q,R)"
   ]
  },
  {
   "cell_type": "code",
   "execution_count": 86,
   "metadata": {
    "scrolled": true
   },
   "outputs": [
    {
     "name": "stdout",
     "output_type": "stream",
     "text": [
      "Matriz A:\n",
      "[[2 4 3 4 2]\n",
      " [3 4 4 3 0]\n",
      " [1 0 1 0 1]\n",
      " [1 1 0 1 2]\n",
      " [4 4 3 4 1]\n",
      " [3 2 0 4 2]\n",
      " [3 3 2 0 2]]\n",
      "\n",
      "Matriz R:\n",
      "[[ 7.       7.42857  5.28571  6.57143  3.28571]\n",
      " [-0.       2.61081  2.57954  1.60244 -0.15634]\n",
      " [-0.      -0.       2.09933 -1.36628 -1.41191]\n",
      " [ 0.       0.      -0.       3.22208 -0.39427]\n",
      " [ 0.      -0.      -0.       0.       2.24292]\n",
      " [ 0.       0.      -0.      -0.       0.     ]\n",
      " [-0.       0.      -0.      -0.      -0.     ]]\n",
      "\n",
      "Matriz Q:\n",
      "[[ 0.2857  0.7191 -0.174   0.2273  0.4537 -0.1635  0.2944]\n",
      " [ 0.4286  0.3127  0.4421  0.089  -0.3121  0.6267 -0.1581]\n",
      " [ 0.1429 -0.4065  0.6161  0.172   0.6263 -0.0136  0.1128]\n",
      " [ 0.1429 -0.0235 -0.3309 -0.1096  0.4532  0.1907 -0.7847]\n",
      " [ 0.5714 -0.0938  0.1055  0.1674 -0.3019 -0.6676 -0.2977]\n",
      " [ 0.4286 -0.4534 -0.522   0.3715 -0.031   0.3134  0.318 ]\n",
      " [ 0.4286 -0.0704 -0.0399 -0.856   0.0834  0.      0.2647]]\n",
      "\n",
      "Inversa de Q:\n",
      "[[ 0.2857  0.4286  0.1429  0.1429  0.5714  0.4286  0.4286]\n",
      " [ 0.7191  0.3127 -0.4065 -0.0235 -0.0938 -0.4534 -0.0704]\n",
      " [-0.174   0.4421  0.6161 -0.3309  0.1055 -0.522  -0.0399]\n",
      " [ 0.2273  0.089   0.172  -0.1096  0.1674  0.3715 -0.856 ]\n",
      " [ 0.4537 -0.3121  0.6263  0.4532 -0.3019 -0.031   0.0834]\n",
      " [-0.1635  0.6267 -0.0136  0.1907 -0.6676  0.3134 -0.    ]\n",
      " [ 0.2944 -0.1581  0.1128 -0.7847 -0.2977  0.318   0.2647]]\n",
      "\n",
      "Q x R:\n",
      "[[ 2.  4.  3.  4.  2.]\n",
      " [ 3.  4.  4.  3. -0.]\n",
      " [ 1. -0.  1. -0.  1.]\n",
      " [ 1.  1. -0.  1.  2.]\n",
      " [ 4.  4.  3.  4.  1.]\n",
      " [ 3.  2. -0.  4.  2.]\n",
      " [ 3.  3.  2.  0.  2.]]\n",
      "\n",
      "Matriz A = Q x R??\n",
      " [[ True  True  True  True  True]\n",
      " [ True  True  True  True  True]\n",
      " [ True  True  True  True  True]\n",
      " [ True  True  True  True  True]\n",
      " [ True  True  True  True  True]\n",
      " [ True  True  True  True  True]\n",
      " [ True  True  True  True  True]]\n"
     ]
    },
    {
     "data": {
      "text/plain": [
       "<matplotlib.lines.Line2D at 0x1c1eeba69e8>"
      ]
     },
     "execution_count": 86,
     "metadata": {},
     "output_type": "execute_result"
    },
    {
     "data": {
      "image/png": "[encoded data removed]",
      "text/plain": [
       "<Figure size 432x288 with 1 Axes>"
      ]
     },
     "metadata": {},
     "output_type": "display_data"
    }
   ],
   "source": [
    "m, n = 7, 5\n",
    "A = np.random.randint(0,5,(m,n))\n",
    "\n",
    "Q, R = rotacao_givens(A)\n",
    "R = R.round(5)\n",
    "\n",
    "print(\"Matriz A:\\n{}\\n\\nMatriz R:\\n{}\\n\\nMatriz Q:\\n{}\\n\\nInversa de Q:\\n{}\\n\\nQ x R:\\n{}\".format(A, R, Q.round(4), np.linalg.inv(Q).round(4), (Q@R).round(4)))\n",
    "\n",
    "print(\"\\nMatriz A = Q x R??\\n\", (A.round(4)==(Q@R).round(4)))\n",
    "\n",
    "plt.spy(R,marker='o',c='b')"
   ]
  },
  {
   "cell_type": "markdown",
   "metadata": {},
   "source": [
    "# Householder"
   ]
  },
  {
   "cell_type": "code",
   "execution_count": 87,
   "metadata": {},
   "outputs": [],
   "source": [
    "def matriz_householder(v):\n",
    "    #Gera a matriz de refleccao para o vetor v\n",
    "    tam_v = v.shape[0]\n",
    "        \n",
    "    e1 = np.eye(tam_v)[0]                        #Primeira coluna da identidade                    \n",
    "    vetor = np.linalg.norm(v) * e1               #Vetor [||v||,0....]\n",
    "    \n",
    "    if v[0] < 0:                                 #Se o primeiro elemento for < 0,troca o sinal\n",
    "        vetor = - vetor\n",
    "    u = v + vetor\n",
    "    \n",
    "    H = np.eye(tam_v) -  ((2 * np.outer(u,u)) / np.dot(u,np.transpose(u)))      #Gera H\n",
    "    \n",
    "    return H"
   ]
  },
  {
   "cell_type": "code",
   "execution_count": 88,
   "metadata": {},
   "outputs": [],
   "source": [
    "def QR_householder(A):\n",
    "    m,n = A.shape                                 \n",
    "    Q = np.eye(m)\n",
    "    R = A\n",
    "    menor_dim = min(m,n)\n",
    "\n",
    "    for i in range(menor_dim):\n",
    "        v = R[i:, i]                               #linha it pra frente e coluna it\n",
    "        Hh = matriz_householder(v)                 #Recebe a matriz de refleccao para o vetor v\n",
    "\n",
    "        H = np.eye(m)                              #Identidade\n",
    "        H[i:, i:] = Hh                             #Preenche com a matriz de refleccao as linhas e colunas i pra frente\n",
    "\n",
    "        R = np.dot(H, R)                           #Gera R\n",
    "        Q = np.dot(Q, H)                           #Gera Q\n",
    "        \n",
    "    return Q,R"
   ]
  },
  {
   "cell_type": "code",
   "execution_count": 89,
   "metadata": {},
   "outputs": [
    {
     "name": "stdout",
     "output_type": "stream",
     "text": [
      "Matriz A:\n",
      "[[0 3 4 1 0]\n",
      " [0 4 0 1 3]\n",
      " [4 4 4 1 3]\n",
      " [4 0 4 0 4]\n",
      " [1 3 3 4 4]\n",
      " [4 3 0 0 1]\n",
      " [3 3 3 1 1]]\n",
      "\n",
      "Matriz R:\n",
      "[[-7.61577 -5.25226 -5.77748 -1.44437 -5.12095]\n",
      " [ 0.      -6.35718 -2.4626  -2.89653 -2.37581]\n",
      " [ 0.      -0.       5.15328  1.45969  1.46764]\n",
      " [ 0.       0.       0.      -2.71904 -2.4198 ]\n",
      " [ 0.       0.       0.      -0.       3.48167]\n",
      " [-0.       0.      -0.      -0.      -0.     ]\n",
      " [ 0.       0.       0.      -0.       0.     ]]\n",
      "\n",
      "Matriz Q:\n",
      "[[-0.     -0.4719  0.5507  0.4306 -0.2549  0.3915 -0.2653]\n",
      " [ 0.     -0.6292 -0.3007  0.1411  0.6571  0.0936  0.2307]\n",
      " [-0.5252 -0.1953  0.094   0.1697  0.0342 -0.7423 -0.3102]\n",
      " [-0.5252  0.4339  0.3947  0.0286  0.526   0.3156  0.0543]\n",
      " [-0.1313 -0.3634  0.2613 -0.8739 -0.0098  0.0701 -0.1167]\n",
      " [-0.5252 -0.038  -0.607  -0.0064 -0.2598  0.4266 -0.3237]\n",
      " [-0.3939 -0.1465  0.0705  0.0354 -0.3973 -0.0232  0.8117]]\n",
      "\n",
      "Inversa de Q:\n",
      "[[ 0.     -0.     -0.5252 -0.5252 -0.1313 -0.5252 -0.3939]\n",
      " [-0.4719 -0.6292 -0.1953  0.4339 -0.3634 -0.038  -0.1465]\n",
      " [ 0.5507 -0.3007  0.094   0.3947  0.2613 -0.607   0.0705]\n",
      " [ 0.4306  0.1411  0.1697  0.0286 -0.8739 -0.0064  0.0354]\n",
      " [-0.2549  0.6571  0.0342  0.526  -0.0098 -0.2598 -0.3973]\n",
      " [ 0.3915  0.0936 -0.7423  0.3156  0.0701  0.4266 -0.0232]\n",
      " [-0.2653  0.2307 -0.3102  0.0543 -0.1167 -0.3237  0.8117]]\n",
      "\n",
      "Q x R:\n",
      "[[ 0.  3.  4.  1.  0.]\n",
      " [ 0.  4.  0.  1.  3.]\n",
      " [ 4.  4.  4.  1.  3.]\n",
      " [ 4.  0.  4.  0.  4.]\n",
      " [ 1.  3.  3.  4.  4.]\n",
      " [ 4.  3. -0. -0.  1.]\n",
      " [ 3.  3.  3.  1.  1.]]\n",
      "\n",
      "Matriz A = Q x R??\n",
      " [[ True  True  True  True  True]\n",
      " [ True  True  True  True  True]\n",
      " [ True  True  True  True  True]\n",
      " [ True  True  True  True  True]\n",
      " [ True  True  True  True  True]\n",
      " [ True  True  True  True  True]\n",
      " [ True  True  True  True  True]]\n"
     ]
    },
    {
     "data": {
      "text/plain": [
       "<matplotlib.lines.Line2D at 0x1c1ed7645f8>"
      ]
     },
     "execution_count": 89,
     "metadata": {},
     "output_type": "execute_result"
    },
    {
     "data": {
      "image/png": "[encoded data removed]",
      "text/plain": [
       "<Figure size 432x288 with 1 Axes>"
      ]
     },
     "metadata": {},
     "output_type": "display_data"
    }
   ],
   "source": [
    "m,n = 7,5\n",
    "A = np.random.randint(0,5,(m,n))\n",
    "\n",
    "Q,R = QR_householder(A)\n",
    "\n",
    "R = R.round(5)\n",
    "\n",
    "print(\"Matriz A:\\n{}\\n\\nMatriz R:\\n{}\\n\\nMatriz Q:\\n{}\\n\\nInversa de Q:\\n{}\\n\\nQ x R:\\n{}\".format(A, R, Q.round(4), np.linalg.inv(Q).round(4), (Q@R).round(4)))\n",
    "print(\"\\nMatriz A = Q x R??\\n\", (A.round(4)==(Q@R).round(4)))\n",
    "\n",
    "plt.spy(R,marker='o',c='b')"
   ]
  },
  {
   "cell_type": "markdown",
   "metadata": {},
   "source": [
    "# Gráficos"
   ]
  },
  {
   "cell_type": "code",
   "execution_count": 100,
   "metadata": {},
   "outputs": [],
   "source": [
    "def rodar(f,dim):\n",
    "    #f: Método a ser rodado\n",
    "    #dim: lista com as dimensoes das matrizes\n",
    "    \n",
    "    tempos = []\n",
    "    temposGeracao = []\n",
    "    flag = False\n",
    "    \n",
    "    if f.__name__ == 'gram_schmidt': flag = True\n",
    "        \n",
    "    for i in dim:\n",
    "        tempo = []\n",
    "        if flag:\n",
    "            t0g = time.time()\n",
    "            A = matrizLI(i,i)\n",
    "            tfg = time.time()\n",
    "            temposGeracao.append(tfg-t0g)\n",
    "        else:\n",
    "            A = np.random.randint(0,5,(i,i))\n",
    "        for _ in range(3):\n",
    "            t0 = time.time()\n",
    "            f(A)\n",
    "            tf = time.time()\n",
    "            tempo.append(tf-t0)\n",
    "        tempos.append(tempo)\n",
    "        \n",
    "    tempos = [np.mean(i) for i in tempos]\n",
    "    #print('Tempos de Geracao da matriz LI=',temposGeracao)\n",
    "    return tempos"
   ]
  },
  {
   "cell_type": "code",
   "execution_count": 101,
   "metadata": {},
   "outputs": [],
   "source": [
    "#TO DO: SETAR OS TICKS\n",
    "def plotar(holder, schmidt, givens, dim):\n",
    "    #dim: lista com as dimensoes das matrizes\n",
    "    \n",
    "    plt.figure(figsize=(14,12))\n",
    "    plt.title('Decomposição QR',size='x-large')\n",
    "    plt.xlabel('Dimensões',size='x-large')\n",
    "    plt.ylabel('Segundos',size='x-large')\n",
    "    plt.yscale('log')\n",
    "    plt.xscale('log')\n",
    "    \n",
    "    plt.plot(dim,holder,marker='v',ms=13.0,label='Householder')\n",
    "    plt.plot(dim,schmidt,marker='^',ms=13.0,label='Gram-Schmidt')\n",
    "    plt.plot(dim,givens,marker='o',ms=13.0,label='Givens')\n",
    "    plt.legend(title='Método:',title_fontsize='xx-large',fontsize='x-large')\n",
    "    plt.show()\n",
    "    "
   ]
  },
  {
   "cell_type": "markdown",
   "metadata": {},
   "source": [
    "### Só rode essa celula abaixo se quiser esperar muito tempo"
   ]
  },
  {
   "cell_type": "code",
   "execution_count": 102,
   "metadata": {},
   "outputs": [],
   "source": [
    "dim = [5, 10, 15, 20]\n",
    "#dim = [100,200,400,600,800,1000,1200]\n",
    "temposHolder = rodar(QR_householder,dim)\n",
    "temposSchmidt = rodar(gram_schmidt,dim)\n",
    "temposGivens = rodar(rotacao_givens,dim)"
   ]
  },
  {
   "cell_type": "code",
   "execution_count": 103,
   "metadata": {},
   "outputs": [
    {
     "data": {
      "text/plain": [
       "[0.0006655057271321615,\n",
       " 0.0006640752156575521,\n",
       " 0.0006653467814127604,\n",
       " 0.0006651083628336588]"
      ]
     },
     "execution_count": 103,
     "metadata": {},
     "output_type": "execute_result"
    }
   ],
   "source": [
    "temposHolder"
   ]
  },
  {
   "cell_type": "code",
   "execution_count": 104,
   "metadata": {},
   "outputs": [
    {
     "data": {
      "text/plain": [
       "[0.00033219655354817707,\n",
       " 0.0006647109985351562,\n",
       " 0.0013292630513509114,\n",
       " 0.0013297398885091145]"
      ]
     },
     "execution_count": 104,
     "metadata": {},
     "output_type": "execute_result"
    }
   ],
   "source": [
    "temposSchmidt"
   ]
  },
  {
   "cell_type": "code",
   "execution_count": 105,
   "metadata": {},
   "outputs": [
    {
     "data": {
      "text/plain": [
       "[0.00033243497212727863,\n",
       " 0.0003325939178466797,\n",
       " 0.0009970664978027344,\n",
       " 0.00299223264058431]"
      ]
     },
     "execution_count": 105,
     "metadata": {},
     "output_type": "execute_result"
    }
   ],
   "source": [
    "temposGivens"
   ]
  },
  {
   "cell_type": "code",
   "execution_count": 106,
   "metadata": {},
   "outputs": [
    {
     "data": {
      "image/png": "[encoded data removed]",
      "text/plain": [
       "<Figure size 1008x864 with 1 Axes>"
      ]
     },
     "metadata": {},
     "output_type": "display_data"
    }
   ],
   "source": [
    "plotar(temposHolder,temposSchmidt,temposGivens,dim)\n",
    "#plotar(temposHolder,temposSchmidt,dim)"
   ]
  },
  {
   "cell_type": "markdown",
   "metadata": {},
   "source": [
    "# Regressão Gram-Schmidt"
   ]
  },
  {
   "cell_type": "markdown",
   "metadata": {},
   "source": [
    "### REGRESSÃO SEM LOG-SCALE "
   ]
  },
  {
   "cell_type": "code",
   "execution_count": 107,
   "metadata": {},
   "outputs": [
    {
     "data": {
      "text/plain": [
       "array([[ 1,  5],\n",
       "       [ 1, 10],\n",
       "       [ 1, 15],\n",
       "       [ 1, 20]], dtype=int32)"
      ]
     },
     "execution_count": 107,
     "metadata": {},
     "output_type": "execute_result"
    }
   ],
   "source": [
    "x = np.array(dim)\n",
    "A = x[:, np.newaxis]**[0,1]               #Criou uma nova coluna só de 1\n",
    "A"
   ]
  },
  {
   "cell_type": "code",
   "execution_count": 108,
   "metadata": {},
   "outputs": [
    {
     "data": {
      "text/plain": [
       "array([-3.17891439e-07,  7.31436412e-05])"
      ]
     },
     "execution_count": 108,
     "metadata": {},
     "output_type": "execute_result"
    }
   ],
   "source": [
    "#Achar y = a*x+b\n",
    "y = np.array(temposSchmidt)\n",
    "p, res, rnk, s = lstsq(A,y)\n",
    "p"
   ]
  },
  {
   "cell_type": "code",
   "execution_count": 109,
   "metadata": {
    "scrolled": true
   },
   "outputs": [
    {
     "data": {
      "image/png": "[encoded data removed]",
      "text/plain": [
       "<Figure size 864x720 with 1 Axes>"
      ]
     },
     "metadata": {},
     "output_type": "display_data"
    }
   ],
   "source": [
    "plt.figure(figsize=(12,10))\n",
    "plt.scatter(x,y,marker= 'o', label='Dados',color='r')\n",
    "\n",
    "yy = p[0] + (p[1]*x)\n",
    "plt.plot(x, yy, label='Mínimos Quadrados, $y = ax + b$')\n",
    "plt.xlabel('x')\n",
    "plt.ylabel('y')\n",
    "plt.legend(framealpha=1, shadow=True,fontsize='x-large')\n",
    "plt.grid(alpha=0.25)\n",
    "plt.show()"
   ]
  },
  {
   "cell_type": "markdown",
   "metadata": {},
   "source": [
    "### REGRESSÃO COM LOG-SCALE"
   ]
  },
  {
   "cell_type": "code",
   "execution_count": 110,
   "metadata": {},
   "outputs": [],
   "source": [
    "logX = np.log(x)\n",
    "logY = np.log(y)"
   ]
  },
  {
   "cell_type": "code",
   "execution_count": 111,
   "metadata": {},
   "outputs": [
    {
     "data": {
      "text/plain": [
       "array([[1.        , 1.60943791],\n",
       "       [1.        , 2.30258509],\n",
       "       [1.        , 2.7080502 ],\n",
       "       [1.        , 2.99573227]])"
      ]
     },
     "execution_count": 111,
     "metadata": {},
     "output_type": "execute_result"
    }
   ],
   "source": [
    "logA = logX[:, np.newaxis]**[0,1]               #Criou uma nova coluna só de 1\n",
    "logA"
   ]
  },
  {
   "cell_type": "code",
   "execution_count": 112,
   "metadata": {},
   "outputs": [
    {
     "data": {
      "text/plain": [
       "array([-9.74196106,  1.08113666])"
      ]
     },
     "execution_count": 112,
     "metadata": {},
     "output_type": "execute_result"
    }
   ],
   "source": [
    "p, res, rnk, s = lstsq(logA,logY)\n",
    "p"
   ]
  },
  {
   "cell_type": "code",
   "execution_count": 113,
   "metadata": {},
   "outputs": [
    {
     "data": {
      "text/plain": [
       "0.05491631093475028"
      ]
     },
     "execution_count": 113,
     "metadata": {},
     "output_type": "execute_result"
    }
   ],
   "source": [
    "res"
   ]
  },
  {
   "cell_type": "code",
   "execution_count": 114,
   "metadata": {},
   "outputs": [
    {
     "data": {
      "image/png": "[encoded data removed]",
      "text/plain": [
       "<Figure size 864x720 with 1 Axes>"
      ]
     },
     "metadata": {},
     "output_type": "display_data"
    }
   ],
   "source": [
    "plt.figure(figsize=(12,10))\n",
    "plt.scatter(logX,logY,marker= 'o', label='Dados',color='r')\n",
    "\n",
    "yy = p[0] + (p[1]*logX)\n",
    "plt.plot(logX, yy, label='Mínimos Quadrados, $y = {}x {}$'.format(np.round(p[1],5),np.round(p[0],5)))\n",
    "plt.xlabel('x')\n",
    "plt.ylabel('y')\n",
    "plt.legend(framealpha=0.5, shadow=False,fontsize='x-large')\n",
    "plt.grid(alpha=0.5)\n",
    "plt.show()"
   ]
  },
  {
   "cell_type": "markdown",
   "metadata": {},
   "source": [
    "# Regressão Rotação de Givens"
   ]
  },
  {
   "cell_type": "markdown",
   "metadata": {},
   "source": [
    "### REGRESSÃO SEM LOG-SCALE "
   ]
  },
  {
   "cell_type": "code",
   "execution_count": 115,
   "metadata": {},
   "outputs": [
    {
     "data": {
      "text/plain": [
       "array([[ 1,  5],\n",
       "       [ 1, 10],\n",
       "       [ 1, 15],\n",
       "       [ 1, 20]], dtype=int32)"
      ]
     },
     "execution_count": 115,
     "metadata": {},
     "output_type": "execute_result"
    }
   ],
   "source": [
    "x = np.array(dim)\n",
    "A = x[:, np.newaxis]**[0,1]               #Criou uma nova coluna só de 1\n",
    "A"
   ]
  },
  {
   "cell_type": "code",
   "execution_count": 116,
   "metadata": {},
   "outputs": [
    {
     "data": {
      "text/plain": [
       "array([-0.00099738,  0.00017288])"
      ]
     },
     "execution_count": 116,
     "metadata": {},
     "output_type": "execute_result"
    }
   ],
   "source": [
    "#Achar y = a*x+b\n",
    "y = np.array(temposGivens)\n",
    "p, res, rnk, s = lstsq(A,y)\n",
    "p"
   ]
  },
  {
   "cell_type": "code",
   "execution_count": 117,
   "metadata": {},
   "outputs": [
    {
     "data": {
      "image/png": "[encoded data removed]",
      "text/plain": [
       "<Figure size 864x720 with 1 Axes>"
      ]
     },
     "metadata": {},
     "output_type": "display_data"
    }
   ],
   "source": [
    "plt.figure(figsize=(12,10))\n",
    "plt.scatter(x,y,marker= 'o', label='Dados',color='r')\n",
    "\n",
    "yy = p[0] + (p[1]*x)\n",
    "plt.plot(x, yy, label='Mínimos Quadrados, $y = ax + b$')\n",
    "plt.xlabel('x')\n",
    "plt.ylabel('y')\n",
    "plt.legend(framealpha=1, shadow=True,fontsize='x-large')\n",
    "plt.grid(alpha=0.25)\n",
    "plt.show()"
   ]
  },
  {
   "cell_type": "markdown",
   "metadata": {},
   "source": [
    "### REGRESSÃO COM LOG-SCALE"
   ]
  },
  {
   "cell_type": "code",
   "execution_count": 118,
   "metadata": {},
   "outputs": [],
   "source": [
    "logX = np.log(x)\n",
    "logY = np.log(y)"
   ]
  },
  {
   "cell_type": "code",
   "execution_count": 119,
   "metadata": {},
   "outputs": [
    {
     "data": {
      "text/plain": [
       "array([[1.        , 1.60943791],\n",
       "       [1.        , 2.30258509],\n",
       "       [1.        , 2.7080502 ],\n",
       "       [1.        , 2.99573227]])"
      ]
     },
     "execution_count": 119,
     "metadata": {},
     "output_type": "execute_result"
    }
   ],
   "source": [
    "logA = logX[:, np.newaxis]**[0,1]               #Criou uma nova coluna só de 1\n",
    "logA"
   ]
  },
  {
   "cell_type": "code",
   "execution_count": 120,
   "metadata": {},
   "outputs": [
    {
     "data": {
      "text/plain": [
       "array([-10.80866966,   1.50737196])"
      ]
     },
     "execution_count": 120,
     "metadata": {},
     "output_type": "execute_result"
    }
   ],
   "source": [
    "p, res, rnk, s = lstsq(logA,logY)\n",
    "p"
   ]
  },
  {
   "cell_type": "code",
   "execution_count": 121,
   "metadata": {},
   "outputs": [
    {
     "data": {
      "text/plain": [
       "0.8549786819538374"
      ]
     },
     "execution_count": 121,
     "metadata": {},
     "output_type": "execute_result"
    }
   ],
   "source": [
    "res"
   ]
  },
  {
   "cell_type": "code",
   "execution_count": 122,
   "metadata": {},
   "outputs": [
    {
     "data": {
      "image/png": "[encoded data removed]",
      "text/plain": [
       "<Figure size 864x720 with 1 Axes>"
      ]
     },
     "metadata": {},
     "output_type": "display_data"
    }
   ],
   "source": [
    "plt.figure(figsize=(12,10))\n",
    "plt.scatter(logX,logY,marker= 'o', label='Dados',color='r')\n",
    "\n",
    "yy = p[0] + (p[1]*logX)\n",
    "plt.plot(logX, yy, label='Mínimos Quadrados, $y = {}x {}$'.format(np.round(p[1],5),np.round(p[0],5)))\n",
    "plt.xlabel('x')\n",
    "plt.ylabel('y')\n",
    "plt.legend(framealpha=0.5, shadow=False,fontsize='x-large')\n",
    "plt.grid(alpha=0.5)\n",
    "plt.show()"
   ]
  },
  {
   "cell_type": "markdown",
   "metadata": {},
   "source": [
    "# Regressão Householder"
   ]
  },
  {
   "cell_type": "markdown",
   "metadata": {},
   "source": [
    "### REGRESSÃO SEM LOG-SCALE "
   ]
  },
  {
   "cell_type": "code",
   "execution_count": 123,
   "metadata": {},
   "outputs": [
    {
     "data": {
      "text/plain": [
       "array([[ 1,  5],\n",
       "       [ 1, 10],\n",
       "       [ 1, 15],\n",
       "       [ 1, 20]], dtype=int32)"
      ]
     },
     "execution_count": 123,
     "metadata": {},
     "output_type": "execute_result"
    }
   ],
   "source": [
    "x = np.array(dim)\n",
    "A = x[:, np.newaxis]**[0,1]               #Criou uma nova coluna só de 1\n",
    "A"
   ]
  },
  {
   "cell_type": "code",
   "execution_count": 124,
   "metadata": {},
   "outputs": [
    {
     "data": {
      "text/plain": [
       "array([6.64989154e-04, 1.58945719e-09])"
      ]
     },
     "execution_count": 124,
     "metadata": {},
     "output_type": "execute_result"
    }
   ],
   "source": [
    "#Achar y = a*x+b\n",
    "y = np.array(temposHolder)\n",
    "p, res, rnk, s = lstsq(A,y)\n",
    "p"
   ]
  },
  {
   "cell_type": "code",
   "execution_count": 125,
   "metadata": {},
   "outputs": [
    {
     "data": {
      "image/png": "[encoded data removed]",
      "text/plain": [
       "<Figure size 864x720 with 1 Axes>"
      ]
     },
     "metadata": {},
     "output_type": "display_data"
    }
   ],
   "source": [
    "plt.figure(figsize=(12,10))\n",
    "plt.scatter(x,y,marker= 'o', label='Dados',color='r')\n",
    "\n",
    "yy = p[0] + (p[1]*x)\n",
    "plt.plot(x, yy, label='Mínimos Quadrados, $y = ax + b$')\n",
    "plt.xlabel('x')\n",
    "plt.ylabel('y')\n",
    "plt.legend(framealpha=1, shadow=True,fontsize='x-large')\n",
    "plt.grid(alpha=0.25)\n",
    "plt.show()"
   ]
  },
  {
   "cell_type": "markdown",
   "metadata": {},
   "source": [
    "### REGRESSÃO COM LOG-SCALE"
   ]
  },
  {
   "cell_type": "code",
   "execution_count": 126,
   "metadata": {},
   "outputs": [],
   "source": [
    "logX = np.log(x)\n",
    "logY = np.log(y)"
   ]
  },
  {
   "cell_type": "code",
   "execution_count": 127,
   "metadata": {},
   "outputs": [
    {
     "data": {
      "text/plain": [
       "array([[1.        , 1.60943791],\n",
       "       [1.        , 2.30258509],\n",
       "       [1.        , 2.7080502 ],\n",
       "       [1.        , 2.99573227]])"
      ]
     },
     "execution_count": 127,
     "metadata": {},
     "output_type": "execute_result"
    }
   ],
   "source": [
    "logA = logX[:, np.newaxis]**[0,1]               #Criou uma nova coluna só de 1\n",
    "logA"
   ]
  },
  {
   "cell_type": "code",
   "execution_count": 128,
   "metadata": {},
   "outputs": [
    {
     "data": {
      "text/plain": [
       "array([-7.31524919e+00, -1.91813227e-04])"
      ]
     },
     "execution_count": 128,
     "metadata": {},
     "output_type": "execute_result"
    }
   ],
   "source": [
    "p, res, rnk, s = lstsq(logA,logY)\n",
    "p"
   ]
  },
  {
   "cell_type": "code",
   "execution_count": 129,
   "metadata": {},
   "outputs": [
    {
     "data": {
      "text/plain": [
       "2.7722725976843867e-06"
      ]
     },
     "execution_count": 129,
     "metadata": {},
     "output_type": "execute_result"
    }
   ],
   "source": [
    "res"
   ]
  },
  {
   "cell_type": "code",
   "execution_count": 130,
   "metadata": {},
   "outputs": [
    {
     "data": {
      "image/png": "[encoded data removed]",
      "text/plain": [
       "<Figure size 864x720 with 1 Axes>"
      ]
     },
     "metadata": {},
     "output_type": "display_data"
    }
   ],
   "source": [
    "plt.figure(figsize=(12,10))\n",
    "plt.scatter(logX,logY,marker= 'o', label='Dados',color='r')\n",
    "\n",
    "yy = p[0] + (p[1]*logX)\n",
    "plt.plot(logX, yy, label='Mínimos Quadrados, $y = {}x {}$'.format(np.round(p[1],5),np.round(p[0],5)))\n",
    "plt.xlabel('x')\n",
    "plt.ylabel('y')\n",
    "plt.legend(framealpha=0.5, shadow=False,fontsize='x-large')\n",
    "plt.grid(alpha=0.5)\n",
    "plt.show()"
   ]
  }
 ],
 "metadata": {
  "kernelspec": {
   "display_name": "Python 3",
   "language": "python",
   "name": "python3"
  }
 },
 "nbformat": 4,
 "nbformat_minor": 2
}
