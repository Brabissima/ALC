{
 "cells": [
  {
   "cell_type": "markdown",
   "metadata": {},
   "source": [
    "# Trabalho de Algebra Linear e Computacional"
   ]
  },
  {
   "cell_type": "markdown",
   "metadata": {},
   "source": [
    "# Introdução"
   ]
  },
  {
   "cell_type": "markdown",
   "metadata": {},
   "source": [
    "   Este trabalho tem como objetivos, mostrar a implementação de 3 métodos de decomposição de matrizes,   \n",
    "    1. Gram-Schmidt\n",
    "    2. Rotação de Givens\n",
    "    3. Householder\n",
    "    \n",
    "   bem como mostrar gráficos e testes demonstrando tempo de execução,vantagens e desvantagens de cada metodo, e modelos de regressão com e sem \n",
    "    log-scale para cada metodo já citado."
   ]
  },
  {
   "cell_type": "code",
   "execution_count": 1,
   "metadata": {},
   "outputs": [],
   "source": [
    "import numpy as np\n",
    "import pandas as pd\n",
    "import itertools as it\n",
    "import math\n",
    "from scipy.linalg import lu\n",
    "from scipy.linalg import lstsq\n",
    "from sklearn.metrics import mean_squared_error\n",
    "import matplotlib.pyplot as plt\n",
    "import time\n",
    "plt.style.use('seaborn-whitegrid')"
   ]
  },
  {
   "cell_type": "markdown",
   "metadata": {},
   "source": [
    "# Gram-Schmidt\n",
    "   Este método obtém uma base ortonormalizada a partir de uma base qualquer, ou seja, transforma um conjunto de vetores linearmente independentes(LI) em um conjunto ortogonal que gera o mesmo espaço vetorial.\n",
    "   \n",
    "   O processo de Gram-Schmidt encontra uma projeção ortogonal $q_n$ para cada vetor de coluna $a_n$ e subtraindo suas projeções para as projeções anteriores. O vetor resultante é então dividido pelo comprimento desse vetor para produzir um vetor unitário.\n",
    "   \n",
    "   Vamos considerar A uma matriz com n vetores-coluna\n",
    "   \n",
    "   $$A = \\left[ a_1 | a_2 | \\cdots | a_n \\right]$$\n",
    "   \n",
    "   Primeiro vamos encontrar a projeção ortogonal de $a_1$\n",
    "   \n",
    "   $$v_1 = a_1, \\qquad e_1 = \\frac{v_1}{||v_1||}$$\n",
    "   \n",
    "   Para o passo seguinte e os demais, devemos subtrair as projeções anteriores: \n",
    "   \n",
    "   $$v_2 = a_2 - proj_{v_1} (a_2) = a_2 - (a_2 \\cdot e_1) e_1, \\qquad e_2 = \\frac{v_2}{||v_2||}$$\n",
    "         \n",
    "   $$v_{k+1} = a_{k+1} - (a_{k+1} \\cdot e_{1}) e_1 - \\cdots - (a_{k+1} \\cdot e_k) e_k, \\qquad e_{k+1} = \\frac{u_{k+1}}{||u_{k+1}||}$$\n",
    "   \n",
    "   No fim, a matriz $A$ pode ser fatorada da seguinte forma \n",
    "\n",
    "$$A = \\left[a_1 | a_2 | \\cdots | a_n \\right] = \\left[e_1 | e_2 | \\cdots | e_n \\right] \\begin{bmatrix}a_1 \\cdot e_1 & a_2 \\cdot e_1 & \\cdots & a_n \\cdot e_1 \\\\ 0 & a_2 \\cdot e_2 & \\cdots & a_n \\cdot e_2 \\\\ \\vdots & \\vdots & & \\vdots \\\\ 0 & 0 & \\cdots & a_n \\cdot e_n\\end{bmatrix} = QR$$\n",
    "   Onde $Q$ é uma matriz ortonormal, ou seja $Q^T Q = I$ onde $I$ é a matriz identidade, e $R$ é uma matriz triangular superior."
   ]
  },
  {
   "cell_type": "code",
   "execution_count": 2,
   "metadata": {},
   "outputs": [],
   "source": [
    "#Gera uma matriz LI\n",
    "def matrizLI(m,n):\n",
    "    A = np.random.randint(0,5,(m,n))\n",
    "    p,l,u = lu(A)                         #Faz a decomposicao LU dela\n",
    "    delj,deli = [],[]\n",
    "    \n",
    "    sup_indices = np.triu_indices(n)      #Retorna uma lista com os 'i's e outra lista com os 'j's da parte superior\n",
    "    \n",
    "    for i,j in zip(sup_indices[0],sup_indices[1]):\n",
    "        if i!=j and u[i][j]==0:       #Percorre a parte superior da matriz U e checa aonde existe 0 \n",
    "            deli.append(i)           #Lista as linhas onde existe o 0\n",
    "            delj.append(j)           #Lista as colunas onde existe 0 pra deleta-las\n",
    "               \n",
    "    for i,j in it.product(deli,delj):\n",
    "        A=np.delete(A,j,axis=1)           #Deleta as colunas listadas.\n",
    "        e0=np.eye(m)[i]\n",
    "        A=np.insert(A, j, e0, axis=1)     #Coloca o vetor ei(coluna i da identidade) no lugar do vetor que deixava LD\n",
    "    \n",
    "    return A\n",
    "\n"
   ]
  },
  {
   "cell_type": "code",
   "execution_count": 3,
   "metadata": {},
   "outputs": [],
   "source": [
    "def gram_schmidt(A):\n",
    "    # Criar matriz Q\n",
    "    Q = np.zeros(A.shape)\n",
    "    # Atualização dos vetores/colunas de    \n",
    "    for i in range(A.shape[1]):\n",
    "        # Vetor i de Q recebe o vetor i de A\n",
    "        Q[:, i] = A[:, i]\n",
    "        # Somatório das projeções dos vetores de A em Q\n",
    "        for j in range(i):\n",
    "            # formula para compor o q chapéu\n",
    "            Q[:, i] -= Q[:, j].T @ A[:, i] * Q[:, j]\n",
    "        # Normalização do vetor q\n",
    "        #Q[:, i] /= np.linalg.norm(Q[:, i])\n",
    "        # arredondamento, se divisao for muito pequena, aproximamos a 1, para reduzir erro numérico\n",
    "        Q[:, i] /= np.linalg.norm(Q[:, i]) < 1e-8 and 1 or np.linalg.norm(Q[:, i])\n",
    "        \n",
    "    R = Q.T @ A\n",
    "    return Q,R"
   ]
  },
  {
   "cell_type": "code",
   "execution_count": 4,
   "metadata": {
    "scrolled": true
   },
   "outputs": [
    {
     "name": "stdout",
     "output_type": "stream",
     "text": [
      "Matriz A:\n",
      "[[3 4 3 0 0]\n",
      " [2 2 4 4 1]\n",
      " [1 1 4 0 0]\n",
      " [2 0 4 2 0]\n",
      " [4 4 4 1 0]\n",
      " [3 2 3 1 0]\n",
      " [4 1 1 4 0]]\n",
      "\n",
      "Matriz R:\n",
      "[[ 7.6811  5.5981  7.551   4.5566  0.2604]\n",
      " [-0.      3.2651  1.4483 -2.2996  0.1661]\n",
      " [-0.      0.      4.8873  0.8028  0.3669]\n",
      " [-0.     -0.      0.      3.3622  0.8628]\n",
      " [ 0.      0.     -0.      0.      0.1598]]\n",
      "\n",
      "Matriz Q:\n",
      "[[ 0.3906  0.5554 -0.1542 -0.1126 -0.2518]\n",
      " [ 0.2604  0.1661  0.3669  0.8628  0.1598]\n",
      " [ 0.1302  0.0831  0.5927 -0.2612 -0.2494]\n",
      " [ 0.2604 -0.4464  0.5485 -0.1943 -0.1704]\n",
      " [ 0.5208  0.3322 -0.0846 -0.1609 -0.1309]\n",
      " [ 0.3906 -0.0571  0.0273 -0.2775  0.8585]\n",
      " [ 0.5208 -0.5866 -0.4261  0.1845 -0.2565]]\n",
      "\n",
      "Q x R:\n",
      "[[ 3.  4.  3.  0.  0.]\n",
      " [ 2.  2.  4.  4.  1.]\n",
      " [ 1.  1.  4. -0. -0.]\n",
      " [ 2.  0.  4.  2. -0.]\n",
      " [ 4.  4.  4.  1.  0.]\n",
      " [ 3.  2.  3.  1.  0.]\n",
      " [ 4.  1.  1.  4.  0.]]\n",
      "\n",
      "Matriz A = Q x R??\n",
      " [[ True  True  True  True  True]\n",
      " [ True  True  True  True  True]\n",
      " [ True  True  True  True  True]\n",
      " [ True  True  True  True  True]\n",
      " [ True  True  True  True  True]\n",
      " [ True  True  True  True  True]\n",
      " [ True  True  True  True  True]]\n"
     ]
    },
    {
     "data": {
      "text/plain": [
       "<matplotlib.lines.Line2D at 0x7fa043f18160>"
      ]
     },
     "execution_count": 4,
     "metadata": {},
     "output_type": "execute_result"
    },
    {
     "data": {
      "image/png": "[encoded data removed]",
      "text/plain": [
       "<Figure size 432x288 with 1 Axes>"
      ]
     },
     "metadata": {
      "needs_background": "light"
     },
     "output_type": "display_data"
    }
   ],
   "source": [
    "m, n = 7,5\n",
    "\n",
    "A = matrizLI(m,n)\n",
    "Q,R = gram_schmidt(A)\n",
    "R = R.round(4)\n",
    "\n",
    "print(\"Matriz A:\\n{}\\n\\nMatriz R:\\n{}\\n\\nMatriz Q:\\n{}\\n\\nQ x R:\\n{}\".format(A, R, Q.round(4), (Q@R).round(4)))\n",
    "print(\"\\nMatriz A = Q x R??\\n\", (A.round(3)==(Q@R).round(3)))\n",
    "\n",
    "plt.spy(R,marker='o',c='b')"
   ]
  },
  {
   "cell_type": "markdown",
   "metadata": {},
   "source": [
    "# Rotação de Givens\n",
    "   A decomposição $QR$ também pode ser feita usando Rotação de Givens, onde cada rotação zera um elemento da subdiagonal da matriz $A$, formando uma matriz $R$, e a matriz $Q$ ortogonal formada pela multiplicação de todas as matrizes $G$.\n",
    "   \n",
    "   Seja $A$ \n",
    "   $$\\begin{bmatrix}\n",
    "       12 & -51 & 4\\\\\n",
    "       6 & 167 & -68\\\\\n",
    "       -4 & 24 & -41 \n",
    "      \\end{bmatrix}$$\n",
    "   Vamos zerar o elemento mais a esquerda e abaixo $a_{31}$ = 4, isso é feito usando o metodo de rotação de givens e vamos chamar de $G_1$ primeiro o vetor $\\begin{bmatrix}\n",
    "       12 & -4\n",
    "      \\end{bmatrix}$ será rotacionado para que aponte para a mesma direção do eixo $x$, este vetor forma um ângulo$\\theta$= $\\arctan(4/12)$ deste modo é criada a $G_1$ $$\\begin{bmatrix}\n",
    "       cos(\\theta) & 0 & -sen(\\theta)\\\\\n",
    "       0 & 1 & 0\\\\\n",
    "       sen(\\theta) & 0 & cos(\\theta) \n",
    "      \\end{bmatrix}$$ $G_1A$ $$\\begin{bmatrix}0.94868 & 0 & -0.31622\\\\0 & 1 & 0\\\\0.31622 & 0 & 0.94868\\end{bmatrix}\\begin{bmatrix}\n",
    "       12 & -51 & 4\\\\\n",
    "       6 & 167 & -68\\\\\n",
    "       -4 & 24 & -41 \n",
    "      \\end{bmatrix}$$      \n",
    "      $$G_1A=\\begin{bmatrix}\n",
    "       12.64911 & -55.97231 & 16.76007\\\\\n",
    "       6 & 167 & -68\\\\\n",
    "       0 & 6.64078 & -37.6311\\end{bmatrix}$$\n",
    "   \n",
    "   \n",
    "   podemos obter de forma analoga matrizes $G_2$ e $G_3$ para zerar os elementos $a_{21}$ e $a_{32}$, formando assim uma matriz triangular $R$, e a matriz $Q^T$=$G_3G_2G_1$.\n",
    "      \n",
    "      "
   ]
  },
  {
   "cell_type": "code",
   "execution_count": 5,
   "metadata": {},
   "outputs": [],
   "source": [
    "def entradas(a,b):\n",
    "    # Calcula seno e coseno para entradas da matriz de rotação.\n",
    "    hip = math.hypot(a,b)\n",
    "    cos = a/hip\n",
    "    sen = -b/hip\n",
    "    return (cos,sen)"
   ]
  },
  {
   "cell_type": "code",
   "execution_count": 48,
   "metadata": {},
   "outputs": [],
   "source": [
    "def rotacao_givens(A):\n",
    "    qtd_linhas, qtd_colunas = A.shape\n",
    "                                   \n",
    "    Q = np.identity(A.shape[0])             # Inicializando a matriz ortogonal Q.\n",
    "    R = np.copy(A)                          # Inicializando a matriz triangular superior R.\n",
    "    \n",
    "    # As iterações serão feitas sobre a matriz triangular inferior\n",
    "    linhas, colunas = np.tril_indices(qtd_linhas, -1, qtd_colunas)\n",
    "    #i = 0\n",
    "    G = np.identity(qtd_linhas)\n",
    "    for (linha, coluna) in zip(linhas, colunas):\n",
    "        # As rotações são feitas para os valores da matriz triangular\n",
    "        # inferior que são diferentes de zero.\n",
    "        if(R[linha,coluna] != 0):\n",
    "            cos, sen = entradas(R[coluna, coluna], R[linha,coluna])          \n",
    "            G[coluna, coluna] = cos\n",
    "            G[linha, linha] = cos\n",
    "            G[linha, coluna] = sen\n",
    "            G[coluna, linha] = -sen\n",
    "            R = np.dot(G, R)\n",
    "            Q = np.dot(Q,G.T)\n",
    "            G[coluna, coluna] = 1\n",
    "            G[linha, linha] = 1\n",
    "            G[linha, coluna] = 0\n",
    "            G[coluna, linha] = 0      \n",
    "        #i = i+1\n",
    "        #print(\"Matriz Q{}:\\n{}\\n\\nMatriz R{}:\\n{}\\n\".format(i, Q.round(5), i, R.round(5)))\n",
    "    return (Q,R)"
   ]
  },
  {
   "cell_type": "code",
   "execution_count": 49,
   "metadata": {
    "scrolled": true
   },
   "outputs": [
    {
     "name": "stdout",
     "output_type": "stream",
     "text": [
      "Matriz A:\n",
      "[[4 4 3 2 3]\n",
      " [4 2 0 1 1]\n",
      " [0 1 1 0 4]\n",
      " [0 0 4 2 2]\n",
      " [4 0 0 2 0]\n",
      " [2 0 2 4 4]\n",
      " [0 1 3 4 1]]\n",
      "\n",
      "Matriz R:\n",
      "[[ 7.2111   3.3282   2.2188   3.8829   3.3282 ]\n",
      " [ 0.       3.30501  2.60677  0.32585  2.39729]\n",
      " [ 0.       0.       5.22319  4.69736  3.51628]\n",
      " [ 0.       0.       0.       2.78418  0.27962]\n",
      " [ 0.      -0.       0.      -0.       4.21113]\n",
      " [ 0.       0.       0.      -0.      -0.     ]\n",
      " [ 0.       0.       0.       0.       0.     ]]\n",
      "\n",
      "Matriz Q:\n",
      "[[ 0.5547  0.6517  0.0135 -0.1543 -0.098   0.3446 -0.3395]\n",
      " [ 0.5547  0.0465 -0.2589  0.0169 -0.0124 -0.7609  0.209 ]\n",
      " [ 0.      0.3026  0.0404 -0.1037  0.7507  0.1436  0.5585]\n",
      " [ 0.      0.      0.7658 -0.5737 -0.1264 -0.2513  0.0726]\n",
      " [ 0.5547 -0.5586  0.0431 -0.0627 -0.1523  0.4594  0.3745]\n",
      " [ 0.2774 -0.2793  0.4045  0.4002  0.5254 -0.0861 -0.4878]\n",
      " [ 0.      0.3026  0.4234  0.687  -0.3339  0.      0.3818]]\n",
      "\n",
      "Inversa de Q:\n",
      "[[ 0.5547  0.5547  0.     -0.      0.5547  0.2774 -0.    ]\n",
      " [ 0.6517  0.0465  0.3026  0.     -0.5586 -0.2793  0.3026]\n",
      " [ 0.0135 -0.2589  0.0404  0.7658  0.0431  0.4045  0.4234]\n",
      " [-0.1543  0.0169 -0.1037 -0.5737 -0.0627  0.4002  0.687 ]\n",
      " [-0.098  -0.0124  0.7507 -0.1264 -0.1523  0.5254 -0.3339]\n",
      " [ 0.3446 -0.7609  0.1436 -0.2513  0.4594 -0.0861  0.    ]\n",
      " [-0.3395  0.209   0.5585  0.0726  0.3745 -0.4878  0.3818]]\n",
      "\n",
      "Q x R:\n",
      "[[ 4.  4.  3.  2.  3.]\n",
      " [ 4.  2. -0.  1.  1.]\n",
      " [ 0.  1.  1.  0.  4.]\n",
      " [ 0.  0.  4.  2.  2.]\n",
      " [ 4. -0. -0.  2.  0.]\n",
      " [ 2. -0.  2.  4.  4.]\n",
      " [ 0.  1.  3.  4.  1.]]\n",
      "\n",
      "Matriz A = Q x R??\n",
      " [[ True  True  True  True  True]\n",
      " [ True  True  True  True  True]\n",
      " [ True  True  True  True  True]\n",
      " [ True  True  True  True  True]\n",
      " [ True  True  True  True  True]\n",
      " [ True  True  True  True  True]\n",
      " [ True  True  True  True  True]]\n"
     ]
    },
    {
     "data": {
      "text/plain": [
       "<matplotlib.lines.Line2D at 0x7fa043de0208>"
      ]
     },
     "execution_count": 49,
     "metadata": {},
     "output_type": "execute_result"
    },
    {
     "data": {
      "image/png": "[encoded data removed]",
      "text/plain": [
       "<Figure size 432x288 with 1 Axes>"
      ]
     },
     "metadata": {
      "needs_background": "light"
     },
     "output_type": "display_data"
    }
   ],
   "source": [
    "m, n = 7, 5\n",
    "A = np.random.randint(0,5,(m,n))\n",
    "\n",
    "Q, R = rotacao_givens(A)\n",
    "R = R.round(5)\n",
    "\n",
    "print(\"Matriz A:\\n{}\\n\\nMatriz R:\\n{}\\n\\nMatriz Q:\\n{}\\n\\nInversa de Q:\\n{}\\n\\nQ x R:\\n{}\".format(A, R, Q.round(4), np.linalg.inv(Q).round(4), (Q@R).round(4)))\n",
    "\n",
    "print(\"\\nMatriz A = Q x R??\\n\", (A.round(4)==(Q@R).round(4)))\n",
    "\n",
    "plt.spy(R,marker='o',c='b')"
   ]
  },
  {
   "cell_type": "markdown",
   "metadata": {},
   "source": [
    "# Householder\n",
    "É a abordagem mais comum para a decomposição do $QR$ uma vez que utilizar Gram-Schmidt não é recomendado, pois pode levar ao cancelamento que causa imprecisão, o que pode resultar em uma matriz $Q$ não ortogonal. As reflexões de Householder são outro método de transformação ortogonal que transforma um vetor x em um vetor unitário y paralelo a x. A matriz de reflexão de Household com vetor normal v assume a forma:$$H = I - 2vv^T$$\n",
    "\n",
    "como\n",
    "$$u = \\frac{v}{||v||}$$\n",
    "\n",
    "temos a seguinte forma:\n",
    "$$H(x) = I - 2vv^T = I - 2 \\frac{uu^T}{u^Tu}$$\n",
    "\n",
    "Este método de decomposição funciona encontrando matrizes $H$ apropriadas e multiplicando-as pela esquerda a matriz original $A$, para construir a matriz triangular superior $R$. Como vimos anteriormente, diferentemente do procedimento de Gram-Schmidt, a abordagem de reflexão de Household não forma explícita a matriz $Q$. No entanto, a matriz $Q$ pode ser encontrada utilizando o produto escalar de cada matriz Household formada sucessivamente.$$Q = H_1 H_2 \\cdots H_{m-2}H_{m-1}$$\n",
    "\n",
    "seja $A$ a seguinte matriz \n",
    "$$A = \\begin{bmatrix}\n",
    "  2 & - 2 & 18 \\\\\n",
    "  2 & 1 & 0 \\\\\n",
    "  1 & 2 & 0\n",
    "\\end{bmatrix}$$\n",
    "\n",
    "\n",
    "$$v_1 = a_1 + sign(a_{11})||a_1||e_1$$\n",
    "\n",
    "$$v_1 = \\begin{bmatrix}2 \\\\ 2 \\\\ 1 \\end{bmatrix} + \\sqrt{\\sum^m_{k=1}{a_1}^2} \\begin{bmatrix}1 \\\\ 0 \\\\ 0 \\end{bmatrix} = \\begin{bmatrix} 5 \\\\ 2 \\\\ 1 \\end{bmatrix}$$\n",
    "\n",
    "A matriz $H_1$ $$H_1 = \\begin{bmatrix} 1 & 0 & 0 \\\\ 0 & 1 & 0 \\\\ 0 & 0 & 1 \\end{bmatrix} - 2 \\frac{\\begin{bmatrix} 2 & 2 & 1 \\end{bmatrix}\\begin{bmatrix} 2 \\\\ 2 \\\\ 1 \\end{bmatrix}}{\\begin{bmatrix} 2 \\\\ 2 \\\\ 1 \\end{bmatrix}\\begin{bmatrix} 2 & 2 & 1 \\end{bmatrix}} =$$\n",
    "$$H_1 = \\begin{bmatrix} -\\frac{2}{3} & -\\frac{2}{3} & -\\frac{1}{3} \\\\ -\\frac{2}{3} & 0.7333 & -0.1333 \\\\ -\\frac{1}{3} & -0.1333 & 0.9333 \\end{bmatrix}$$\n",
    "\n",
    "com a matriz $H_1$ podemos obter $R$ fazendo $H_1A$\n",
    "\n",
    "$$H_1 A = \\begin{bmatrix} -\\frac{2}{3} & -\\frac{2}{3} & -\\frac{1}{3} \\\\ -\\frac{2}{3} & 0.7333 & -0.1333 \\\\ -\\frac{1}{3} & -0.1333 & 0.9333 \\end{bmatrix} \\begin{bmatrix} 2 & - 2 & 18 \\\\ 2 & 1 & 0 \\\\ 1 & 2 & 0 \\end{bmatrix}$$\n",
    "$$H_1 A = \\begin{bmatrix} -3 & 0 & -12 \\\\ 0 & 1.8 & 12 \\\\ 0 & 2.4 & -6 \\end{bmatrix}$$\n",
    "\n",
    "Na proxima iteração $A$ é substituida por $H_1A$ considere agora a submatriz\n",
    "\n",
    "$$A^{(1)} = \\begin{bmatrix} 1.8 & 12 \\\\ 2.4 & -6 \\end{bmatrix}$$\n",
    "\n",
    "$v_2$ é dado por $$\\begin{bmatrix} 1.8 \\\\ 2.4 \\end{bmatrix} + \\sqrt{\\sum^m_{j=1} a_2^2} \\begin{bmatrix} 1 \\\\ 0 \\end{bmatrix} = \\begin{bmatrix} 4.8 \\\\ 2.4 \\end{bmatrix}$$\n",
    "\n",
    "$H_2$\n",
    "\n",
    "$$H_2 = \\begin{bmatrix} 1 & 0 \\\\ 0 & 1 \\end{bmatrix} - 2 \\frac{\\begin{bmatrix} 4.8 & 2.4 \\end{bmatrix} \\begin{bmatrix} 4.8 \\\\ 2.4 \\end{bmatrix}}{\\begin{bmatrix} 4.8 \\\\ 2.4 \\end{bmatrix} \\begin{bmatrix} 4.8 & 2.4 \\end{bmatrix}}$$\n",
    "\n",
    "$$H_2 = \\begin{bmatrix} 1 & 0 & 0 \\\\ 0 & -0.6 & -0.8 \\\\ 0 & -0.8 & 0.6 \\end{bmatrix}$$\n",
    "\n",
    "$H_2A$ $$\\begin{bmatrix} 1 & 0 & 0 \\\\ 0 & -0.6 & -0.8 \\\\ 0 & -0.8 & 0.6 \\end{bmatrix} \\begin{bmatrix} -3 & 0 & -12 \\\\ 0 & 1.8 & 12 \\\\ 0 & 2.4 & -6 \\end{bmatrix}$$\n",
    "\n",
    "$$H_2 A = \\begin{bmatrix} -3 & 0 & -12 \\\\ 0 & -3 & 12 \\\\ 0 & 0 & 6 \\end{bmatrix}$$\n",
    "\n",
    "$v_3$ é dado por $$\\begin{bmatrix} 6 \\end{bmatrix} -  \\sqrt{\\sum^m_{j=1} a_3^2} \\begin{bmatrix} 1 \\end{bmatrix} = 12$$\n",
    "\n",
    "A ultima matriz $H$ a $H_3$ $$H_3 = \\begin{bmatrix} 1 \\end{bmatrix} - 2 \\frac{\\begin{bmatrix} 12 \\end{bmatrix}\\begin{bmatrix} 12 \\end{bmatrix}}{\\begin{bmatrix} 12 \\end{bmatrix}\\begin{bmatrix} 12 \\end{bmatrix}} = \\begin{bmatrix}1 & 0 & 0 \\\\ 0 & 1 & 0 \\\\ 0 & 0 & -1 \\end{bmatrix}$$\n",
    "\n",
    "$$H_3 A = \\begin{bmatrix}1 & 0 & 0 \\\\ 0 & 1 & 0 \\\\ 0 & 0 & -1 \\end{bmatrix} \\begin{bmatrix} -3 & 0 & -12 \\\\ 0 & -3 & 12 \\\\ 0 & 0 & 6 \\end{bmatrix}$$\n",
    "\n",
    "$$H_3 A = R = \\begin{bmatrix} -3 & 0 & -12 \\\\ 0 & -3 & 12 \\\\ 0 & 0 & -6 \\end{bmatrix}$$\n",
    "\n",
    "Como dito anteriormente a matriz $Q$ é encontrada\n",
    "$$H_1 H_2 H_3 = Q$$ $$Q = \\begin{bmatrix} -\\frac{2}{3} & -\\frac{2}{3} & -\\frac{1}{3} \\\\ -\\frac{2}{3} & 0.7333 & -0.1333 \\\\ -\\frac{1}{3} & -0.1333 & 0.9333 \\end{bmatrix} \\begin{bmatrix} 1 & 0 & 0 \\\\ 0 & -0.6 & -0.8 \\\\ 0 & -0.8 & 0.6 \\end{bmatrix} \\begin{bmatrix}1 & 0 & 0 \\\\ 0 & 1 & 0 \\\\ 0 & 0 & -1 \\end{bmatrix}$$ $$Q = \\begin{bmatrix} -\\frac{2}{3} & \\frac{2}{3} & -\\frac{1}{3} \\\\ -\\frac{2}{3} & -\\frac{1}{3} & \\frac{2}{3} \\\\ -\\frac{1}{3} & -\\frac{2}{3} & -\\frac{2}{3} \\end{bmatrix}$$\n",
    "\n",
    "O resultado obtido é o mesmo que obtido pelo Gram-Schmidt \n",
    "$$QR = \\begin{bmatrix} -\\frac{2}{3} & \\frac{2}{3} & -\\frac{1}{3} \\\\ -\\frac{2}{3} & -\\frac{1}{3} & \\frac{2}{3} \\\\ -\\frac{1}{3} & -\\frac{2}{3} & -\\frac{2}{3} \\end{bmatrix} \\begin{bmatrix} -3 & 0 & -12 \\\\ 0 & -3 & 12 \\\\ 0 & 0 & -6 \\end{bmatrix}$$\n"
   ]
  },
  {
   "cell_type": "code",
   "execution_count": 8,
   "metadata": {},
   "outputs": [],
   "source": [
    "def matriz_householder(v):\n",
    "    #Gera a matriz de refleccao para o vetor v\n",
    "    tam_v = v.shape[0]\n",
    "        \n",
    "    e1 = np.eye(tam_v)[0]                        #Primeira coluna da identidade                    \n",
    "    vetor = np.linalg.norm(v) * e1               #Vetor [||v||,0....]\n",
    "    \n",
    "    if v[0] < 0:                                 #Se o primeiro elemento for < 0,troca o sinal\n",
    "        vetor = - vetor\n",
    "    u = v + vetor\n",
    "    \n",
    "    H = np.eye(tam_v) -  ((2 * np.outer(u,u)) / np.dot(u,np.transpose(u)))      #Gera H\n",
    "    \n",
    "    return H"
   ]
  },
  {
   "cell_type": "code",
   "execution_count": 9,
   "metadata": {},
   "outputs": [],
   "source": [
    "def QR_householder(A):\n",
    "    m,n = A.shape                                 \n",
    "    Q = np.eye(m)\n",
    "    R = A\n",
    "    menor_dim = min(m,n)\n",
    "\n",
    "    for i in range(menor_dim):\n",
    "        v = R[i:, i]                               #linha it pra frente e coluna it\n",
    "        Hh = matriz_householder(v)                 #Recebe a matriz de refleccao para o vetor v\n",
    "\n",
    "        H = np.eye(m)                              #Identidade\n",
    "        H[i:, i:] = Hh                             #Preenche com a matriz de refleccao as linhas e colunas i pra frente\n",
    "\n",
    "        R = np.dot(H, R)                           #Gera R\n",
    "        Q = np.dot(Q, H)                           #Gera Q\n",
    "        \n",
    "    return Q,R"
   ]
  },
  {
   "cell_type": "code",
   "execution_count": 10,
   "metadata": {},
   "outputs": [
    {
     "name": "stdout",
     "output_type": "stream",
     "text": [
      "Matriz A:\n",
      "[[3 1 0 4 3]\n",
      " [1 4 4 1 3]\n",
      " [1 2 0 4 2]\n",
      " [2 3 2 3 0]\n",
      " [3 2 4 3 0]\n",
      " [1 4 4 2 1]\n",
      " [1 0 1 3 1]]\n",
      "\n",
      "Matriz R:\n",
      "[[-5.09902 -4.9029  -4.9029  -7.2563  -3.13786]\n",
      " [ 0.      -5.09525 -4.3102  -0.67182 -1.49461]\n",
      " [ 0.       0.       3.22238 -1.69831 -1.49786]\n",
      " [-0.       0.       0.       2.83029  0.59458]\n",
      " [-0.      -0.      -0.      -0.       3.05334]\n",
      " [-0.       0.      -0.      -0.       0.     ]\n",
      " [-0.      -0.      -0.       0.       0.     ]]\n",
      "\n",
      "Matriz Q:\n",
      "[[-0.5883  0.3699 -0.4004 -0.2476  0.4107  0.3559  0.0065]\n",
      " [-0.1961 -0.5963  0.1453 -0.2039  0.6    -0.379   0.1989]\n",
      " [-0.1961 -0.2038 -0.571   0.5195 -0.0276 -0.3535 -0.4454]\n",
      " [-0.3922 -0.2114 -0.2588 -0.1511 -0.6041 -0.1385  0.5723]\n",
      " [-0.5883  0.1736  0.5784 -0.0602 -0.2242 -0.2782 -0.3974]\n",
      " [-0.1961 -0.5963  0.1453  0.1495 -0.1238  0.7097 -0.2084]\n",
      " [-0.1961  0.1887  0.2644  0.7606  0.1999  0.0667  0.4829]]\n",
      "\n",
      "Inversa de Q:\n",
      "[[-0.5883 -0.1961 -0.1961 -0.3922 -0.5883 -0.1961 -0.1961]\n",
      " [ 0.3699 -0.5963 -0.2038 -0.2114  0.1736 -0.5963  0.1887]\n",
      " [-0.4004  0.1453 -0.571  -0.2588  0.5784  0.1453  0.2644]\n",
      " [-0.2476 -0.2039  0.5195 -0.1511 -0.0602  0.1495  0.7606]\n",
      " [ 0.4107  0.6    -0.0276 -0.6041 -0.2242 -0.1238  0.1999]\n",
      " [ 0.3559 -0.379  -0.3535 -0.1385 -0.2782  0.7097  0.0667]\n",
      " [ 0.0065  0.1989 -0.4454  0.5723 -0.3974 -0.2084  0.4829]]\n",
      "\n",
      "Q x R:\n",
      "[[ 3.  1. -0.  4.  3.]\n",
      " [ 1.  4.  4.  1.  3.]\n",
      " [ 1.  2. -0.  4.  2.]\n",
      " [ 2.  3.  2.  3.  0.]\n",
      " [ 3.  2.  4.  3.  0.]\n",
      " [ 1.  4.  4.  2.  1.]\n",
      " [ 1. -0.  1.  3.  1.]]\n",
      "\n",
      "Matriz A = Q x R??\n",
      " [[ True  True  True  True  True]\n",
      " [ True  True  True  True  True]\n",
      " [ True  True  True  True  True]\n",
      " [ True  True  True  True  True]\n",
      " [ True  True  True  True  True]\n",
      " [ True  True  True  True  True]\n",
      " [ True  True  True  True  True]]\n"
     ]
    },
    {
     "data": {
      "text/plain": [
       "<matplotlib.lines.Line2D at 0x7fa043e0a438>"
      ]
     },
     "execution_count": 10,
     "metadata": {},
     "output_type": "execute_result"
    },
    {
     "data": {
      "image/png": "[encoded data removed]",
      "text/plain": [
       "<Figure size 432x288 with 1 Axes>"
      ]
     },
     "metadata": {
      "needs_background": "light"
     },
     "output_type": "display_data"
    }
   ],
   "source": [
    "m,n = 7,5\n",
    "A = np.random.randint(0,5,(m,n))\n",
    "\n",
    "Q,R = QR_householder(A)\n",
    "\n",
    "R = R.round(5)\n",
    "\n",
    "print(\"Matriz A:\\n{}\\n\\nMatriz R:\\n{}\\n\\nMatriz Q:\\n{}\\n\\nInversa de Q:\\n{}\\n\\nQ x R:\\n{}\".format(A, R, Q.round(4), np.linalg.inv(Q).round(4), (Q@R).round(4)))\n",
    "print(\"\\nMatriz A = Q x R??\\n\", (A.round(4)==(Q@R).round(4)))\n",
    "\n",
    "plt.spy(R,marker='o',c='b')"
   ]
  },
  {
   "cell_type": "markdown",
   "metadata": {},
   "source": [
    "# Gráficos"
   ]
  },
  {
   "cell_type": "code",
   "execution_count": 11,
   "metadata": {},
   "outputs": [],
   "source": [
    "def rodar(f,dim):\n",
    "    #f: Método a ser rodado\n",
    "    #dim: lista com as dimensoes das matrizes\n",
    "    \n",
    "    tempos = []\n",
    "    temposGeracao = []\n",
    "    flag = False\n",
    "    \n",
    "    if f.__name__ == 'gram_schmidt': flag = True\n",
    "        \n",
    "    for i in dim:\n",
    "        tempo = []\n",
    "        print(\"Dimensão: {}\".format(i))\n",
    "        if flag:\n",
    "            t0g = time.time()\n",
    "            A = matrizLI(i,i)\n",
    "            tfg = time.time()\n",
    "            temposGeracao.append(tfg-t0g)\n",
    "        else:\n",
    "            A = np.random.randint(0,5,(i,i))\n",
    "        for _ in range(3):\n",
    "            t0 = time.time()\n",
    "            f(A)\n",
    "            tf = time.time()\n",
    "            tempo.append(tf-t0)\n",
    "        tempos.append(tempo)\n",
    "        \n",
    "    tempos = [np.mean(i) for i in tempos]\n",
    "    #print('Tempos de Geracao da matriz LI=',temposGeracao)\n",
    "    return tempos"
   ]
  },
  {
   "cell_type": "code",
   "execution_count": 12,
   "metadata": {},
   "outputs": [],
   "source": [
    "def plotar(holder, schmidt, givens, dim,log=None):\n",
    "    #dim: lista com as dimensoes das matrizes\n",
    "    \n",
    "    plt.figure(figsize=(14,12))\n",
    "    plt.title('Decomposição QR',size='x-large')\n",
    "    plt.xlabel('Dimensões',size='x-large')\n",
    "    plt.ylabel('Segundos',size='x-large')\n",
    "    if log:\n",
    "        plt.yscale('log')\n",
    "        plt.xscale('log')\n",
    "    plt.plot(dim,holder,marker='v',ms=13.0,label='Householder')\n",
    "    plt.plot(dim,schmidt,marker='^',ms=13.0,label='Gram-Schmidt')\n",
    "    plt.plot(dim,givens,marker='o',ms=13.0,label='Givens')\n",
    "    plt.legend(title='Método:',title_fontsize='xx-large',fontsize='x-large')\n",
    "    plt.show()\n",
    "    "
   ]
  },
  {
   "cell_type": "markdown",
   "metadata": {},
   "source": [
    "### Só rode essa celula abaixo se quiser esperar muito tempo"
   ]
  },
  {
   "cell_type": "code",
   "execution_count": 50,
   "metadata": {},
   "outputs": [
    {
     "name": "stdout",
     "output_type": "stream",
     "text": [
      "Dimensão: 50\n",
      "Dimensão: 70\n",
      "Dimensão: 100\n",
      "Dimensão: 150\n",
      "Dimensão: 200\n",
      "Dimensão: 300\n",
      "Dimensão: 50\n",
      "Dimensão: 70\n",
      "Dimensão: 100\n",
      "Dimensão: 150\n",
      "Dimensão: 200\n",
      "Dimensão: 300\n",
      "Dimensão: 50\n",
      "Dimensão: 70\n",
      "Dimensão: 100\n",
      "Dimensão: 150\n",
      "Dimensão: 200\n",
      "Dimensão: 300\n"
     ]
    }
   ],
   "source": [
    "dim = [50, 70, 100, 150, 200, 300]\n",
    "temposHolder = rodar(QR_householder,dim)\n",
    "temposSchmidt = rodar(gram_schmidt,dim)\n",
    "temposGivens = rodar(rotacao_givens,dim)"
   ]
  },
  {
   "cell_type": "code",
   "execution_count": 51,
   "metadata": {},
   "outputs": [
    {
     "data": {
      "text/plain": [
       "[0.004727284113566081,\n",
       " 0.007822672526041666,\n",
       " 0.016164302825927734,\n",
       " 0.0396733283996582,\n",
       " 0.08440836270650227,\n",
       " 0.3289097150166829]"
      ]
     },
     "execution_count": 51,
     "metadata": {},
     "output_type": "execute_result"
    }
   ],
   "source": [
    "temposHolder"
   ]
  },
  {
   "cell_type": "code",
   "execution_count": 52,
   "metadata": {},
   "outputs": [
    {
     "data": {
      "text/plain": [
       "[0.008973439534505209,\n",
       " 0.0177001158396403,\n",
       " 0.03676152229309082,\n",
       " 0.0921018123626709,\n",
       " 0.17030509312947592,\n",
       " 0.41051093737284344]"
      ]
     },
     "execution_count": 52,
     "metadata": {},
     "output_type": "execute_result"
    }
   ],
   "source": [
    "temposSchmidt"
   ]
  },
  {
   "cell_type": "code",
   "execution_count": 53,
   "metadata": {},
   "outputs": [
    {
     "data": {
      "text/plain": [
       "[0.020767768224080402,\n",
       " 0.060575644175211586,\n",
       " 0.22181574503580728,\n",
       " 1.3815024693806965,\n",
       " 4.595195372899373,\n",
       " 34.19594613711039]"
      ]
     },
     "execution_count": 53,
     "metadata": {},
     "output_type": "execute_result"
    }
   ],
   "source": [
    "temposGivens"
   ]
  },
  {
   "cell_type": "markdown",
   "metadata": {},
   "source": [
    "### Rode essa célula abaixo pra pegar os tempos já prontos"
   ]
  },
  {
   "cell_type": "code",
   "execution_count": 17,
   "metadata": {},
   "outputs": [],
   "source": [
    "temposHolder= [0.005318959554036458,0.006981054941813151,0.012311776479085287,0.040215253829956055,0.08510629336039226,0.40923913319905597]\n",
    "temposSchmidt = [0.008976221084594727,0.019946575164794922,0.03757794698079427,0.0890950361887614,0.15392168362935385,0.3726704915364583]\n",
    "temposGivens = [0.03224714597066244,0.09640900293986003,0.3370986779530843,2.012287219365438,7.407861550649007,50.75064746538798]"
   ]
  },
  {
   "cell_type": "code",
   "execution_count": 54,
   "metadata": {},
   "outputs": [
    {
     "data": {
      "image/png": "[encoded data removed]",
      "text/plain": [
       "<Figure size 1008x864 with 1 Axes>"
      ]
     },
     "metadata": {
      "needs_background": "light"
     },
     "output_type": "display_data"
    }
   ],
   "source": [
    "plotar(temposHolder,temposSchmidt,temposGivens,dim,True)"
   ]
  },
  {
   "cell_type": "markdown",
   "metadata": {},
   "source": [
    "# Regressão Gram-Schmidt"
   ]
  },
  {
   "cell_type": "markdown",
   "metadata": {},
   "source": [
    "### REGRESSÃO SEM LOG-SCALE "
   ]
  },
  {
   "cell_type": "code",
   "execution_count": 55,
   "metadata": {},
   "outputs": [
    {
     "data": {
      "text/plain": [
       "array([[  1,  50],\n",
       "       [  1,  70],\n",
       "       [  1, 100],\n",
       "       [  1, 150],\n",
       "       [  1, 200],\n",
       "       [  1, 300]])"
      ]
     },
     "execution_count": 55,
     "metadata": {},
     "output_type": "execute_result"
    }
   ],
   "source": [
    "x = np.array(dim)\n",
    "A = x[:, np.newaxis]**[0,1]               #Criou uma nova coluna só de 1\n",
    "A"
   ]
  },
  {
   "cell_type": "code",
   "execution_count": 56,
   "metadata": {},
   "outputs": [
    {
     "data": {
      "text/plain": [
       "array([-0.10802248,  0.00159137])"
      ]
     },
     "execution_count": 56,
     "metadata": {},
     "output_type": "execute_result"
    }
   ],
   "source": [
    "#Achar y = a*x+b\n",
    "y = np.array(temposSchmidt)\n",
    "p, res, rnk, s = lstsq(A,y)\n",
    "p"
   ]
  },
  {
   "cell_type": "code",
   "execution_count": 57,
   "metadata": {
    "scrolled": true
   },
   "outputs": [
    {
     "data": {
      "image/png": "[encoded data removed]",
      "text/plain": [
       "<Figure size 864x720 with 1 Axes>"
      ]
     },
     "metadata": {
      "needs_background": "light"
     },
     "output_type": "display_data"
    }
   ],
   "source": [
    "plt.figure(figsize=(12,10))\n",
    "plt.scatter(x,y,marker= 'o', label='Dados',color='r')\n",
    "\n",
    "yy = p[0] + (p[1]*x)\n",
    "plt.plot(x, yy, label='Mínimos Quadrados, $y = ax + b$')\n",
    "plt.xlabel('x')\n",
    "plt.ylabel('y')\n",
    "plt.legend(framealpha=1, shadow=True,fontsize='x-large')\n",
    "plt.grid(alpha=0.25)\n",
    "plt.show()"
   ]
  },
  {
   "cell_type": "markdown",
   "metadata": {},
   "source": [
    "### REGRESSÃO COM LOG-SCALE"
   ]
  },
  {
   "cell_type": "code",
   "execution_count": 58,
   "metadata": {},
   "outputs": [],
   "source": [
    "logX = np.log(x)\n",
    "logY = np.log(y)"
   ]
  },
  {
   "cell_type": "code",
   "execution_count": 59,
   "metadata": {},
   "outputs": [
    {
     "data": {
      "text/plain": [
       "array([[1.        , 3.91202301],\n",
       "       [1.        , 4.24849524],\n",
       "       [1.        , 4.60517019],\n",
       "       [1.        , 5.01063529],\n",
       "       [1.        , 5.29831737],\n",
       "       [1.        , 5.70378247]])"
      ]
     },
     "execution_count": 59,
     "metadata": {},
     "output_type": "execute_result"
    }
   ],
   "source": [
    "logA = logX[:, np.newaxis]**[0,1]               #Criou uma nova coluna só de 1\n",
    "logA"
   ]
  },
  {
   "cell_type": "code",
   "execution_count": 60,
   "metadata": {},
   "outputs": [
    {
     "data": {
      "text/plain": [
       "array([-13.13426456,   2.14428828])"
      ]
     },
     "execution_count": 60,
     "metadata": {},
     "output_type": "execute_result"
    }
   ],
   "source": [
    "p, res, rnk, s = lstsq(logA,logY)\n",
    "p"
   ]
  },
  {
   "cell_type": "code",
   "execution_count": 61,
   "metadata": {},
   "outputs": [
    {
     "data": {
      "text/plain": [
       "0.0032768014914310003"
      ]
     },
     "execution_count": 61,
     "metadata": {},
     "output_type": "execute_result"
    }
   ],
   "source": [
    "res"
   ]
  },
  {
   "cell_type": "code",
   "execution_count": 62,
   "metadata": {},
   "outputs": [
    {
     "data": {
      "image/png": "[encoded data removed]",
      "text/plain": [
       "<Figure size 864x720 with 1 Axes>"
      ]
     },
     "metadata": {
      "needs_background": "light"
     },
     "output_type": "display_data"
    }
   ],
   "source": [
    "plt.figure(figsize=(12,10))\n",
    "plt.scatter(logX,logY,marker= 'o', label='Dados',color='r')\n",
    "\n",
    "yy = p[0] + (p[1]*logX)\n",
    "plt.plot(logX, yy, label='Mínimos Quadrados, $y = {} x {}$'.format(np.round(p[1],5),np.round(p[0],5)))\n",
    "plt.xlabel('x')\n",
    "plt.ylabel('y')\n",
    "plt.legend(framealpha=0.5, shadow=False,fontsize='x-large')\n",
    "plt.grid(alpha=0.5)\n",
    "plt.show()"
   ]
  },
  {
   "cell_type": "markdown",
   "metadata": {},
   "source": [
    "### Erro quadrático médio - Gram-Schmidt"
   ]
  },
  {
   "cell_type": "code",
   "execution_count": 63,
   "metadata": {},
   "outputs": [
    {
     "data": {
      "text/plain": [
       "0.0005461335819052367"
      ]
     },
     "execution_count": 63,
     "metadata": {},
     "output_type": "execute_result"
    }
   ],
   "source": [
    "mean_squared_error(logY,yy)"
   ]
  },
  {
   "cell_type": "markdown",
   "metadata": {},
   "source": [
    "# Regressão Rotação de Givens"
   ]
  },
  {
   "cell_type": "markdown",
   "metadata": {},
   "source": [
    "### REGRESSÃO SEM LOG-SCALE "
   ]
  },
  {
   "cell_type": "code",
   "execution_count": 64,
   "metadata": {},
   "outputs": [
    {
     "data": {
      "text/plain": [
       "array([[  1,  50],\n",
       "       [  1,  70],\n",
       "       [  1, 100],\n",
       "       [  1, 150],\n",
       "       [  1, 200],\n",
       "       [  1, 300]])"
      ]
     },
     "execution_count": 64,
     "metadata": {},
     "output_type": "execute_result"
    }
   ],
   "source": [
    "x = np.array(dim)\n",
    "A = x[:, np.newaxis]**[0,1]               #Criou uma nova coluna só de 1\n",
    "A"
   ]
  },
  {
   "cell_type": "code",
   "execution_count": 65,
   "metadata": {},
   "outputs": [
    {
     "data": {
      "text/plain": [
       "array([-11.62683231,   0.12670896])"
      ]
     },
     "execution_count": 65,
     "metadata": {},
     "output_type": "execute_result"
    }
   ],
   "source": [
    "#Achar y = a*x+b\n",
    "y = np.array(temposGivens)\n",
    "p, res, rnk, s = lstsq(A,y)\n",
    "p"
   ]
  },
  {
   "cell_type": "code",
   "execution_count": 66,
   "metadata": {},
   "outputs": [
    {
     "data": {
      "image/png": "[encoded data removed]",
      "text/plain": [
       "<Figure size 864x720 with 1 Axes>"
      ]
     },
     "metadata": {
      "needs_background": "light"
     },
     "output_type": "display_data"
    }
   ],
   "source": [
    "plt.figure(figsize=(12,10))\n",
    "plt.scatter(x,y,marker= 'o', label='Dados',color='r')\n",
    "\n",
    "yy = p[0] + (p[1]*x)\n",
    "plt.plot(x, yy, label='Mínimos Quadrados, $y = ax + b$')\n",
    "plt.xlabel('x')\n",
    "plt.ylabel('y')\n",
    "plt.legend(framealpha=1, shadow=True,fontsize='x-large')\n",
    "plt.grid(alpha=0.25)\n",
    "plt.show()"
   ]
  },
  {
   "cell_type": "markdown",
   "metadata": {},
   "source": [
    "### REGRESSÃO COM LOG-SCALE"
   ]
  },
  {
   "cell_type": "code",
   "execution_count": 67,
   "metadata": {},
   "outputs": [],
   "source": [
    "logX = np.log(x)\n",
    "logY = np.log(y)"
   ]
  },
  {
   "cell_type": "code",
   "execution_count": 68,
   "metadata": {},
   "outputs": [
    {
     "data": {
      "text/plain": [
       "array([[1.        , 3.91202301],\n",
       "       [1.        , 4.24849524],\n",
       "       [1.        , 4.60517019],\n",
       "       [1.        , 5.01063529],\n",
       "       [1.        , 5.29831737],\n",
       "       [1.        , 5.70378247]])"
      ]
     },
     "execution_count": 68,
     "metadata": {},
     "output_type": "execute_result"
    }
   ],
   "source": [
    "logA = logX[:, np.newaxis]**[0,1]               #Criou uma nova coluna só de 1\n",
    "logA"
   ]
  },
  {
   "cell_type": "code",
   "execution_count": 69,
   "metadata": {},
   "outputs": [
    {
     "data": {
      "text/plain": [
       "array([-20.35963104,   4.14734158])"
      ]
     },
     "execution_count": 69,
     "metadata": {},
     "output_type": "execute_result"
    }
   ],
   "source": [
    "p, res, rnk, s = lstsq(logA,logY)\n",
    "p"
   ]
  },
  {
   "cell_type": "code",
   "execution_count": 70,
   "metadata": {},
   "outputs": [
    {
     "data": {
      "text/plain": [
       "0.2057654167226145"
      ]
     },
     "execution_count": 70,
     "metadata": {},
     "output_type": "execute_result"
    }
   ],
   "source": [
    "res"
   ]
  },
  {
   "cell_type": "code",
   "execution_count": 71,
   "metadata": {},
   "outputs": [
    {
     "data": {
      "image/png": "[encoded data removed]",
      "text/plain": [
       "<Figure size 864x720 with 1 Axes>"
      ]
     },
     "metadata": {
      "needs_background": "light"
     },
     "output_type": "display_data"
    }
   ],
   "source": [
    "plt.figure(figsize=(12,10))\n",
    "plt.scatter(logX,logY,marker= 'o', label='Dados',color='r')\n",
    "\n",
    "yy = p[0] + (p[1]*logX)\n",
    "plt.plot(logX, yy, label='Mínimos Quadrados, $y = {}x {}$'.format(np.round(p[1],5),np.round(p[0],5)))\n",
    "plt.xlabel('x')\n",
    "plt.ylabel('y')\n",
    "plt.legend(framealpha=0.5, shadow=False,fontsize='x-large')\n",
    "plt.grid(alpha=0.5)\n",
    "plt.show()"
   ]
  },
  {
   "cell_type": "markdown",
   "metadata": {},
   "source": [
    "### Erro quadrático médio - Givens"
   ]
  },
  {
   "cell_type": "code",
   "execution_count": 72,
   "metadata": {},
   "outputs": [
    {
     "data": {
      "text/plain": [
       "0.034294236120436604"
      ]
     },
     "execution_count": 72,
     "metadata": {},
     "output_type": "execute_result"
    }
   ],
   "source": [
    "mean_squared_error(logY,yy)"
   ]
  },
  {
   "cell_type": "markdown",
   "metadata": {},
   "source": [
    "# Regressão Householder"
   ]
  },
  {
   "cell_type": "markdown",
   "metadata": {},
   "source": [
    "### REGRESSÃO SEM LOG-SCALE "
   ]
  },
  {
   "cell_type": "code",
   "execution_count": 73,
   "metadata": {},
   "outputs": [
    {
     "data": {
      "text/plain": [
       "array([[  1,  50],\n",
       "       [  1,  70],\n",
       "       [  1, 100],\n",
       "       [  1, 150],\n",
       "       [  1, 200],\n",
       "       [  1, 300]])"
      ]
     },
     "execution_count": 73,
     "metadata": {},
     "output_type": "execute_result"
    }
   ],
   "source": [
    "x = np.array(dim)\n",
    "A = x[:, np.newaxis]**[0,1]               #Criou uma nova coluna só de 1\n",
    "A"
   ]
  },
  {
   "cell_type": "code",
   "execution_count": 74,
   "metadata": {},
   "outputs": [
    {
     "data": {
      "text/plain": [
       "array([-0.09888152,  0.00123563])"
      ]
     },
     "execution_count": 74,
     "metadata": {},
     "output_type": "execute_result"
    }
   ],
   "source": [
    "#Achar y = a*x+b\n",
    "y = np.array(temposHolder)\n",
    "p, res, rnk, s = lstsq(A,y)\n",
    "p"
   ]
  },
  {
   "cell_type": "code",
   "execution_count": 75,
   "metadata": {},
   "outputs": [
    {
     "data": {
      "image/png": "[encoded data removed]",
      "text/plain": [
       "<Figure size 864x720 with 1 Axes>"
      ]
     },
     "metadata": {
      "needs_background": "light"
     },
     "output_type": "display_data"
    }
   ],
   "source": [
    "plt.figure(figsize=(12,10))\n",
    "plt.scatter(x,y,marker= 'o', label='Dados',color='r')\n",
    "\n",
    "yy = p[0] + (p[1]*x)\n",
    "plt.plot(x, yy, label='Mínimos Quadrados, $y = ax + b$')\n",
    "plt.xlabel('x')\n",
    "plt.ylabel('y')\n",
    "plt.legend(framealpha=1, shadow=True,fontsize='x-large')\n",
    "plt.grid(alpha=0.25)\n",
    "plt.show()"
   ]
  },
  {
   "cell_type": "markdown",
   "metadata": {},
   "source": [
    "### REGRESSÃO COM LOG-SCALE"
   ]
  },
  {
   "cell_type": "code",
   "execution_count": 76,
   "metadata": {},
   "outputs": [],
   "source": [
    "logX = np.log(x)\n",
    "logY = np.log(y)"
   ]
  },
  {
   "cell_type": "code",
   "execution_count": 77,
   "metadata": {},
   "outputs": [
    {
     "data": {
      "text/plain": [
       "array([[1.        , 3.91202301],\n",
       "       [1.        , 4.24849524],\n",
       "       [1.        , 4.60517019],\n",
       "       [1.        , 5.01063529],\n",
       "       [1.        , 5.29831737],\n",
       "       [1.        , 5.70378247]])"
      ]
     },
     "execution_count": 77,
     "metadata": {},
     "output_type": "execute_result"
    }
   ],
   "source": [
    "logA = logX[:, np.newaxis]**[0,1]               #Criou uma nova coluna só de 1\n",
    "logA"
   ]
  },
  {
   "cell_type": "code",
   "execution_count": 78,
   "metadata": {},
   "outputs": [
    {
     "data": {
      "text/plain": [
       "array([-14.74520092,   2.33959949])"
      ]
     },
     "execution_count": 78,
     "metadata": {},
     "output_type": "execute_result"
    }
   ],
   "source": [
    "p, res, rnk, s = lstsq(logA,logY)\n",
    "p"
   ]
  },
  {
   "cell_type": "code",
   "execution_count": 79,
   "metadata": {},
   "outputs": [
    {
     "data": {
      "text/plain": [
       "0.22286015975583678"
      ]
     },
     "execution_count": 79,
     "metadata": {},
     "output_type": "execute_result"
    }
   ],
   "source": [
    "res"
   ]
  },
  {
   "cell_type": "code",
   "execution_count": 80,
   "metadata": {},
   "outputs": [
    {
     "data": {
      "image/png": "[encoded data removed]",
      "text/plain": [
       "<Figure size 864x720 with 1 Axes>"
      ]
     },
     "metadata": {
      "needs_background": "light"
     },
     "output_type": "display_data"
    }
   ],
   "source": [
    "plt.figure(figsize=(12,10))\n",
    "plt.scatter(logX,logY,marker= 'o', label='Dados',color='r')\n",
    "\n",
    "yy = p[0] + (p[1]*logX)\n",
    "plt.plot(logX, yy, label='Mínimos Quadrados, $y = {}x {}$'.format(np.round(p[1],5),np.round(p[0],5)))\n",
    "plt.xlabel('x')\n",
    "plt.ylabel('y')\n",
    "plt.legend(framealpha=0.5, shadow=False,fontsize='x-large')\n",
    "plt.grid(alpha=0.5)\n",
    "plt.show()"
   ]
  },
  {
   "cell_type": "markdown",
   "metadata": {},
   "source": [
    "### Erro quadrático médio - Householder"
   ]
  },
  {
   "cell_type": "code",
   "execution_count": 81,
   "metadata": {},
   "outputs": [
    {
     "data": {
      "text/plain": [
       "0.0371433599593067"
      ]
     },
     "execution_count": 81,
     "metadata": {},
     "output_type": "execute_result"
    }
   ],
   "source": [
    "mean_squared_error(logY,yy)"
   ]
  },
  {
   "cell_type": "markdown",
   "metadata": {},
   "source": [
    "# Considerações Finais\n",
    "O processo de Gram–Schmidt é tipicamente instável numericamente. Se por um lado a aplicação das projeções tem um apelo atraente á geométrica para a ortogonalização, a ortogonalização em si é propensa a erros numéricos. Uma grande vantagem, porém, é a facilidade de implementação, o que o torna um algoritmo útil para prototipagem.\n",
    "\n",
    "As transformações de Householder são a forma simples dos algoritmos de decomposição $QR$, numericamente estáveis devido a forma de produção dos zeros na matriz R. No entanto, o algoritmo de reflexão de Householder tem largura de banda pesada e não é paralelizável, já que cada transformação pode alterar completamente tanto a matriz $Q$ quanto $R$.\n",
    "\n",
    "A decomposição $QR$ utilizando rotações de Givens é mais complicada de implementar, a ordenação necessária das linhas para explorar plenamente o algoritmo  não é trivial. Ela tem uma vantagem significativa, pois cada novo elemento zero $a_{ij}$ afeta apenas a linha com o elemento a ser zerado e uma linha acima . Isso torna o algoritmo eficiente em largura de banda e paralelizável, diferentemente da técnica de reflexão de Householder."
   ]
  },
  {
   "cell_type": "markdown",
   "metadata": {},
   "source": [
    "# FIM \n",
    "## Obrigado pela atenção!"
   ]
  }
 ],
 "metadata": {
  "kernelspec": {
   "display_name": "Python 3",
   "language": "python",
   "name": "python3"
  },
  "language_info": {
   "codemirror_mode": {
    "name": "ipython",
    "version": 3
   },
   "file_extension": ".py",
   "mimetype": "text/x-python",
   "name": "python",
   "nbconvert_exporter": "python",
   "pygments_lexer": "ipython3",
   "version": "3.7.3"
  }
 },
 "nbformat": 4,
 "nbformat_minor": 2
}
