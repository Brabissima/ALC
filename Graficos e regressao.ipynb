{
 "cells": [
  {
   "cell_type": "markdown",
   "metadata": {},
   "source": [
    "# Trabalho de Algebra Linear e Computacional"
   ]
  },
  {
   "cell_type": "markdown",
   "metadata": {},
   "source": [
    "# Introdução"
   ]
  },
  {
   "cell_type": "markdown",
   "metadata": {},
   "source": [
    "   Este trabalho tem como objetivos, mostrar a implementação de 3 métodos de decomposição de matrizes,   \n",
    "    1. Gram-Schmidt\n",
    "    2. Rotação de Givens\n",
    "    3. Householder\n",
    "    \n",
    "   bem como mostrar gráficos e testes demonstrando tempo de execução,vantagens e desvantagens de cada metodo, e modelos de regressão com e sem \n",
    "    log-scale para cada metodo já citado."
   ]
  },
  {
   "cell_type": "code",
   "execution_count": 1,
   "metadata": {},
   "outputs": [],
   "source": [
    "import numpy as np\n",
    "import pandas as pd\n",
    "import itertools as it\n",
    "import math\n",
    "from scipy.linalg import lu\n",
    "from scipy.linalg import lstsq\n",
    "from sklearn.metrics import mean_squared_error\n",
    "import matplotlib.pyplot as plt\n",
    "import time\n",
    "plt.style.use('seaborn-whitegrid')"
   ]
  },
  {
   "cell_type": "markdown",
   "metadata": {},
   "source": [
    "# Gram-Schmidt\n",
    "   Este método obtém uma base ortonormalizada a partir de uma base qualquer, ou seja, transforma um conjunto de vetores linearmente independentes(LI) em um conjunto ortogonal que gera o mesmo espaço vetorial.\n",
    "   \n",
    "   O processo de Gram-Schmidt encontra uma projeção ortogonal $q_n$ para cada vetor de coluna $a_n$ e subtraindo suas projeções para as projeções anteriores. O vetor resultante é então dividido pelo comprimento desse vetor para produzir um vetor unitário.\n",
    "   \n",
    "   Vamos considerar A uma matriz com n vetores-coluna\n",
    "   \n",
    "   $$A = \\left[ a_1 | a_2 | \\cdots | a_n \\right]$$\n",
    "   \n",
    "   Primeiro vamos encontrar a projeção ortogonal de $a_1$\n",
    "   \n",
    "   $$v_1 = a_1, \\qquad e_1 = \\frac{v_1}{||v_1||}$$\n",
    "   \n",
    "   Para o passo seguinte e os demais, devemos subtrair as projeções anteriores: \n",
    "   \n",
    "   $$v_2 = a_2 - proj_{v_1} (a_2) = a_2 - (a_2 \\cdot e_1) e_1, \\qquad e_2 = \\frac{v_2}{||v_2||}$$\n",
    "         \n",
    "   $$v_{k+1} = a_{k+1} - (a_{k+1} \\cdot e_{1}) e_1 - \\cdots - (a_{k+1} \\cdot e_k) e_k, \\qquad e_{k+1} = \\frac{u_{k+1}}{||u_{k+1}||}$$\n",
    "   \n",
    "   No fim, a matriz $A$ pode ser fatorada da seguinte forma \n",
    "\n",
    "$$A = \\left[a_1 | a_2 | \\cdots | a_n \\right] = \\left[e_1 | e_2 | \\cdots | e_n \\right] \\begin{bmatrix}a_1 \\cdot e_1 & a_2 \\cdot e_1 & \\cdots & a_n \\cdot e_1 \\\\ 0 & a_2 \\cdot e_2 & \\cdots & a_n \\cdot e_2 \\\\ \\vdots & \\vdots & & \\vdots \\\\ 0 & 0 & \\cdots & a_n \\cdot e_n\\end{bmatrix} = QR$$\n",
    "   Onde $Q$ é uma matriz ortonormal, ou seja $Q^T Q = I$ onde $I$ é a matriz identidade, e $R$ é uma matriz triangular superior."
   ]
  },
  {
   "cell_type": "code",
   "execution_count": 2,
   "metadata": {},
   "outputs": [],
   "source": [
    "#Gera uma matriz LI\n",
    "def matrizLI(m,n):\n",
    "    A = np.random.randint(0,5,(m,n))\n",
    "    p,l,u = lu(A)                         #Faz a decomposicao LU dela\n",
    "    delj,deli = [],[]\n",
    "    \n",
    "    sup_indices = np.triu_indices(n)      #Retorna uma lista com os 'i's e outra lista com os 'j's da parte superior\n",
    "    \n",
    "    for i,j in zip(sup_indices[0],sup_indices[1]):\n",
    "        if i!=j and u[i][j]==0:       #Percorre a parte superior da matriz U e checa aonde existe 0 \n",
    "            deli.append(i)           #Lista as linhas onde existe o 0\n",
    "            delj.append(j)           #Lista as colunas onde existe 0 pra deleta-las\n",
    "               \n",
    "    for i,j in it.product(deli,delj):\n",
    "        A=np.delete(A,j,axis=1)           #Deleta as colunas listadas.\n",
    "        e0=np.eye(m)[i]\n",
    "        A=np.insert(A, j, e0, axis=1)     #Coloca o vetor ei(coluna i da identidade) no lugar do vetor que deixava LD\n",
    "    \n",
    "    return A\n",
    "\n"
   ]
  },
  {
   "cell_type": "code",
   "execution_count": 3,
   "metadata": {},
   "outputs": [],
   "source": [
    "def gram_schmidt(A):\n",
    "    # Criar matriz Q\n",
    "    Q = np.zeros(A.shape)\n",
    "    # Atualização dos vetores/colunas de    \n",
    "    for i in range(A.shape[1]):\n",
    "        # Vetor i de Q recebe o vetor i de A\n",
    "        Q[:, i] = A[:, i]\n",
    "        # Somatório das projeções dos vetores de A em Q\n",
    "        for j in range(i):\n",
    "            # formula para compor o q chapéu\n",
    "            Q[:, i] -= Q[:, j].T @ A[:, i] * Q[:, j]\n",
    "        # Normalização do vetor q\n",
    "        #Q[:, i] /= np.linalg.norm(Q[:, i])\n",
    "        # arredondamento, se divisao for muito pequena, aproximamos a 1, para reduzir erro numérico\n",
    "        Q[:, i] /= np.linalg.norm(Q[:, i]) < 1e-8 and 1 or np.linalg.norm(Q[:, i])\n",
    "        \n",
    "    R = Q.T @ A\n",
    "    return Q,R"
   ]
  },
  {
   "cell_type": "code",
   "execution_count": 4,
   "metadata": {
    "scrolled": true
   },
   "outputs": [
    {
     "name": "stdout",
     "output_type": "stream",
     "text": [
      "Matriz A:\n",
      "[[3 4 3 0 0]\n",
      " [2 2 4 4 1]\n",
      " [1 1 4 0 0]\n",
      " [2 0 4 2 0]\n",
      " [4 4 4 1 0]\n",
      " [3 2 3 1 0]\n",
      " [4 1 1 4 0]]\n",
      "\n",
      "Matriz R:\n",
      "[[ 7.6811  5.5981  7.551   4.5566  0.2604]\n",
      " [-0.      3.2651  1.4483 -2.2996  0.1661]\n",
      " [-0.      0.      4.8873  0.8028  0.3669]\n",
      " [-0.     -0.      0.      3.3622  0.8628]\n",
      " [ 0.      0.     -0.      0.      0.1598]]\n",
      "\n",
      "Matriz Q:\n",
      "[[ 0.3906  0.5554 -0.1542 -0.1126 -0.2518]\n",
      " [ 0.2604  0.1661  0.3669  0.8628  0.1598]\n",
      " [ 0.1302  0.0831  0.5927 -0.2612 -0.2494]\n",
      " [ 0.2604 -0.4464  0.5485 -0.1943 -0.1704]\n",
      " [ 0.5208  0.3322 -0.0846 -0.1609 -0.1309]\n",
      " [ 0.3906 -0.0571  0.0273 -0.2775  0.8585]\n",
      " [ 0.5208 -0.5866 -0.4261  0.1845 -0.2565]]\n",
      "\n",
      "Q x R:\n",
      "[[ 3.  4.  3.  0.  0.]\n",
      " [ 2.  2.  4.  4.  1.]\n",
      " [ 1.  1.  4. -0. -0.]\n",
      " [ 2.  0.  4.  2. -0.]\n",
      " [ 4.  4.  4.  1.  0.]\n",
      " [ 3.  2.  3.  1.  0.]\n",
      " [ 4.  1.  1.  4.  0.]]\n",
      "\n",
      "Matriz A = Q x R??\n",
      " [[ True  True  True  True  True]\n",
      " [ True  True  True  True  True]\n",
      " [ True  True  True  True  True]\n",
      " [ True  True  True  True  True]\n",
      " [ True  True  True  True  True]\n",
      " [ True  True  True  True  True]\n",
      " [ True  True  True  True  True]]\n"
     ]
    },
    {
     "data": {
      "text/plain": [
       "<matplotlib.lines.Line2D at 0x7fa043f18160>"
      ]
     },
     "execution_count": 4,
     "metadata": {},
     "output_type": "execute_result"
    },
    {
     "data": {
      "image/png": "[encoded data removed]",
      "text/plain": [
       "<Figure size 432x288 with 1 Axes>"
      ]
     },
     "metadata": {
      "needs_background": "light"
     },
     "output_type": "display_data"
    }
   ],
   "source": [
    "m, n = 7,5\n",
    "\n",
    "A = matrizLI(m,n)\n",
    "Q,R = gram_schmidt(A)\n",
    "R = R.round(4)\n",
    "\n",
    "print(\"Matriz A:\\n{}\\n\\nMatriz R:\\n{}\\n\\nMatriz Q:\\n{}\\n\\nQ x R:\\n{}\".format(A, R, Q.round(4), (Q@R).round(4)))\n",
    "print(\"\\nMatriz A = Q x R??\\n\", (A.round(3)==(Q@R).round(3)))\n",
    "\n",
    "plt.spy(R,marker='o',c='b')"
   ]
  },
  {
   "cell_type": "markdown",
   "metadata": {},
   "source": [
    "# Rotação de Givens\n",
    "   A decomposição $QR$ também pode ser feita usando Rotação de Givens, onde cada rotação zera um elemento da subdiagonal da matriz $A$, formando uma matriz $R$, e a matriz $Q$ ortogonal formada pela multiplicação de todas as matrizes $G$.\n",
    "   \n",
    "   Seja $A$ \n",
    "   $$\\begin{bmatrix}\n",
    "       12 & -51 & 4\\\\\n",
    "       6 & 167 & -68\\\\\n",
    "       -4 & 24 & -41 \n",
    "      \\end{bmatrix}$$\n",
    "   Vamos zerar o elemento mais a esquerda e abaixo $a_{31}$ = 4, isso é feito usando o metodo de rotação de givens e vamos chamar de $G_1$ primeiro o vetor $\\begin{bmatrix}\n",
    "       12 & -4\n",
    "      \\end{bmatrix}$ será rotacionado para que aponte para a mesma direção do eixo $x$, este vetor forma um ângulo$\\theta$= $\\arctan(4/12)$ deste modo é criada a $G_1$ $$\\begin{bmatrix}\n",
    "       cos(\\theta) & 0 & -sen(\\theta)\\\\\n",
    "       0 & 1 & 0\\\\\n",
    "       sen(\\theta) & 0 & cos(\\theta) \n",
    "      \\end{bmatrix}$$ $G_1A$ $$\\begin{bmatrix}0.94868 & 0 & -0.31622\\\\0 & 1 & 0\\\\0.31622 & 0 & 0.94868\\end{bmatrix}\\begin{bmatrix}\n",
    "       12 & -51 & 4\\\\\n",
    "       6 & 167 & -68\\\\\n",
    "       -4 & 24 & -41 \n",
    "      \\end{bmatrix}$$      \n",
    "      $$G_1A=\\begin{bmatrix}\n",
    "       12.64911 & -55.97231 & 16.76007\\\\\n",
    "       6 & 167 & -68\\\\\n",
    "       0 & 6.64078 & -37.6311\\end{bmatrix}$$\n",
    "   \n",
    "   \n",
    "   podemos obter de forma analoga matrizes $G_2$ e $G_3$ para zerar os elementos $a_{21}$ e $a_{32}$, formando assim uma matriz triangular $R$, e a matriz $Q^T$=$G_3G_2G_1$.\n",
    "      \n",
    "      "
   ]
  },
  {
   "cell_type": "code",
   "execution_count": 5,
   "metadata": {},
   "outputs": [],
   "source": [
    "def entradas(a,b):\n",
    "    # Calcula seno e coseno para entradas da matriz de rotação.\n",
    "    hip = math.hypot(a,b)\n",
    "    cos = a/hip\n",
    "    sen = -b/hip\n",
    "    return (cos,sen)"
   ]
  },
  {
   "cell_type": "code",
   "execution_count": 6,
   "metadata": {},
   "outputs": [],
   "source": [
    "def rotacao_givens(A):\n",
    "    qtd_linhas, qtd_colunas = A.shape\n",
    "                                   \n",
    "    Q = np.identity(A.shape[0])             # Inicializando a matriz ortogonal Q.\n",
    "    R = np.copy(A)                          # Inicializando a matriz triangular superior R.\n",
    "    \n",
    "    # As iterações serão feitas sobre a matriz triangular inferior\n",
    "    linhas, colunas = np.tril_indices(qtd_linhas, -1, qtd_colunas)\n",
    "    #i = 0\n",
    "    for (linha, coluna) in zip(linhas, colunas):\n",
    "        \n",
    "        # As rotações são feitas para os valores da matriz triangular\n",
    "        # inferior que são diferentes de zero.\n",
    "        if(R[linha,coluna] != 0):\n",
    "            cos, sen = entradas(R[coluna, coluna], R[linha,coluna])\n",
    "            G = np.identity(qtd_linhas)\n",
    "            G[coluna, coluna] = cos\n",
    "            G[linha, linha] = cos\n",
    "            G[linha, coluna] = sen\n",
    "            G[coluna, linha] = -sen\n",
    "            R = np.dot(G, R)\n",
    "            Q = np.dot(Q,G.T)\n",
    "        #i = i+1\n",
    "        #print(\"Matriz Q{}:\\n{}\\n\\nMatriz R{}:\\n{}\\n\".format(i, Q.round(5), i, R.round(5)))\n",
    "    return (Q,R)"
   ]
  },
  {
   "cell_type": "code",
   "execution_count": 7,
   "metadata": {
    "scrolled": true
   },
   "outputs": [
    {
     "name": "stdout",
     "output_type": "stream",
     "text": [
      "Matriz A:\n",
      "[[2 1 1 4 2]\n",
      " [1 1 1 0 0]\n",
      " [4 0 1 0 1]\n",
      " [3 1 2 0 1]\n",
      " [4 1 4 2 0]\n",
      " [1 1 2 0 1]\n",
      " [2 0 3 3 1]]\n",
      "\n",
      "Matriz R:\n",
      "[[ 7.14143  1.54031  5.18104  3.08062  1.96039]\n",
      " [-0.       1.62094  1.24595  0.77418  0.60483]\n",
      " [ 0.      -0.       2.75762  1.47759 -0.33016]\n",
      " [ 0.      -0.      -0.       4.08989  1.21773]\n",
      " [ 0.       0.       0.      -0.       1.48296]\n",
      " [ 0.      -0.      -0.       0.       0.     ]\n",
      " [ 0.      -0.      -0.      -0.       0.     ]]\n",
      "\n",
      "Matriz Q:\n",
      "[[ 0.2801  0.3508 -0.322   0.817   0.0928 -0.     -0.1367]\n",
      " [ 0.14    0.4839 -0.1191 -0.154  -0.2825 -0.378   0.6969]\n",
      " [ 0.5601 -0.5322 -0.4492 -0.1588  0.1814 -0.378   0.0137]\n",
      " [ 0.4201  0.2177 -0.1624 -0.299   0.2395  0.7559  0.1776]\n",
      " [ 0.5601  0.0847  0.3599 -0.0789 -0.63    0.     -0.3826]\n",
      " [ 0.14    0.4839  0.2436 -0.2851  0.5802 -0.378  -0.3553]\n",
      " [ 0.2801 -0.2661  0.682   0.3266  0.2963  0.      0.4373]]\n",
      "\n",
      "Inversa de Q:\n",
      "[[ 0.2801  0.14    0.5601  0.4201  0.5601  0.14    0.2801]\n",
      " [ 0.3508  0.4839 -0.5322  0.2177  0.0847  0.4839 -0.2661]\n",
      " [-0.322  -0.1191 -0.4492 -0.1624  0.3599  0.2436  0.682 ]\n",
      " [ 0.817  -0.154  -0.1588 -0.299  -0.0789 -0.2851  0.3266]\n",
      " [ 0.0928 -0.2825  0.1814  0.2395 -0.63    0.5802  0.2963]\n",
      " [ 0.     -0.378  -0.378   0.7559  0.     -0.378  -0.    ]\n",
      " [-0.1367  0.6969  0.0137  0.1776 -0.3826 -0.3553  0.4373]]\n",
      "\n",
      "Q x R:\n",
      "[[ 2.  1.  1.  4.  2.]\n",
      " [ 1.  1.  1. -0.  0.]\n",
      " [ 4.  0.  1.  0.  1.]\n",
      " [ 3.  1.  2.  0.  1.]\n",
      " [ 4.  1.  4.  2. -0.]\n",
      " [ 1.  1.  2.  0.  1.]\n",
      " [ 2.  0.  3.  3.  1.]]\n",
      "\n",
      "Matriz A = Q x R??\n",
      " [[ True  True  True  True  True]\n",
      " [ True  True  True  True  True]\n",
      " [ True  True  True  True  True]\n",
      " [ True  True  True  True  True]\n",
      " [ True  True  True  True  True]\n",
      " [ True  True  True  True  True]\n",
      " [ True  True  True  True  True]]\n"
     ]
    },
    {
     "data": {
      "text/plain": [
       "<matplotlib.lines.Line2D at 0x7fa043ea57b8>"
      ]
     },
     "execution_count": 7,
     "metadata": {},
     "output_type": "execute_result"
    },
    {
     "data": {
      "image/png": "[encoded data removed]",
      "text/plain": [
       "<Figure size 432x288 with 1 Axes>"
      ]
     },
     "metadata": {
      "needs_background": "light"
     },
     "output_type": "display_data"
    }
   ],
   "source": [
    "m, n = 7, 5\n",
    "A = np.random.randint(0,5,(m,n))\n",
    "\n",
    "Q, R = rotacao_givens(A)\n",
    "R = R.round(5)\n",
    "\n",
    "print(\"Matriz A:\\n{}\\n\\nMatriz R:\\n{}\\n\\nMatriz Q:\\n{}\\n\\nInversa de Q:\\n{}\\n\\nQ x R:\\n{}\".format(A, R, Q.round(4), np.linalg.inv(Q).round(4), (Q@R).round(4)))\n",
    "\n",
    "print(\"\\nMatriz A = Q x R??\\n\", (A.round(4)==(Q@R).round(4)))\n",
    "\n",
    "plt.spy(R,marker='o',c='b')"
   ]
  },
  {
   "cell_type": "markdown",
   "metadata": {},
   "source": [
    "# Householder\n",
    "É a abordagem mais comum para a decomposição do $QR$ uma vez que utilizar Gram-Schmidt não é recomendado, pois pode levar ao cancelamento que causa imprecisão, o que pode resultar em uma matriz $Q$ não ortogonal. As reflexões de Householder são outro método de transformação ortogonal que transforma um vetor x em um vetor unitário y paralelo a x. A matriz de reflexão de Household com vetor normal v assume a forma:$$H = I - 2vv^T$$\n",
    "\n",
    "como\n",
    "$$u = \\frac{v}{||v||}$$\n",
    "\n",
    "temos a seguinte forma:\n",
    "$$H(x) = I - 2vv^T = I - 2 \\frac{uu^T}{u^Tu}$$\n",
    "\n",
    "Este método de decomposição funciona encontrando matrizes $H$ apropriadas e multiplicando-as pela esquerda a matriz original $A$, para construir a matriz triangular superior $R$. Como vimos anteriormente, diferentemente do procedimento de Gram-Schmidt, a abordagem de reflexão de Household não forma explícita a matriz $Q$. No entanto, a matriz $Q$ pode ser encontrada utilizando o produto escalar de cada matriz Household formada sucessivamente.$$Q = H_1 H_2 \\cdots H_{m-2}H_{m-1}$$\n",
    "\n",
    "seja $A$ a seguinte matriz \n",
    "$$A = \\begin{bmatrix}\n",
    "  2 & - 2 & 18 \\\\\n",
    "  2 & 1 & 0 \\\\\n",
    "  1 & 2 & 0\n",
    "\\end{bmatrix}$$\n",
    "\n",
    "\n",
    "$$v_1 = a_1 + sign(a_{11})||a_1||e_1$$\n",
    "\n",
    "$$v_1 = \\begin{bmatrix}2 \\\\ 2 \\\\ 1 \\end{bmatrix} + \\sqrt{\\sum^m_{k=1}{a_1}^2} \\begin{bmatrix}1 \\\\ 0 \\\\ 0 \\end{bmatrix} = \\begin{bmatrix} 5 \\\\ 2 \\\\ 1 \\end{bmatrix}$$\n",
    "\n",
    "A matriz $H_1$ $$H_1 = \\begin{bmatrix} 1 & 0 & 0 \\\\ 0 & 1 & 0 \\\\ 0 & 0 & 1 \\end{bmatrix} - 2 \\frac{\\begin{bmatrix} 2 & 2 & 1 \\end{bmatrix}\\begin{bmatrix} 2 \\\\ 2 \\\\ 1 \\end{bmatrix}}{\\begin{bmatrix} 2 \\\\ 2 \\\\ 1 \\end{bmatrix}\\begin{bmatrix} 2 & 2 & 1 \\end{bmatrix}} =$$\n",
    "$$H_1 = \\begin{bmatrix} -\\frac{2}{3} & -\\frac{2}{3} & -\\frac{1}{3} \\\\ -\\frac{2}{3} & 0.7333 & -0.1333 \\\\ -\\frac{1}{3} & -0.1333 & 0.9333 \\end{bmatrix}$$\n",
    "\n",
    "com a matriz $H_1$ podemos obter $R$ fazendo $H_1A$\n",
    "\n",
    "$$H_1 A = \\begin{bmatrix} -\\frac{2}{3} & -\\frac{2}{3} & -\\frac{1}{3} \\\\ -\\frac{2}{3} & 0.7333 & -0.1333 \\\\ -\\frac{1}{3} & -0.1333 & 0.9333 \\end{bmatrix} \\begin{bmatrix} 2 & - 2 & 18 \\\\ 2 & 1 & 0 \\\\ 1 & 2 & 0 \\end{bmatrix}$$\n",
    "$$H_1 A = \\begin{bmatrix} -3 & 0 & -12 \\\\ 0 & 1.8 & 12 \\\\ 0 & 2.4 & -6 \\end{bmatrix}$$\n",
    "\n",
    "Na proxima iteração $A$ é substituida por $H_1A$ considere agora a submatriz\n",
    "\n",
    "$$A^{(1)} = \\begin{bmatrix} 1.8 & 12 \\\\ 2.4 & -6 \\end{bmatrix}$$\n",
    "\n",
    "$v_2$ é dado por $$\\begin{bmatrix} 1.8 \\\\ 2.4 \\end{bmatrix} + \\sqrt{\\sum^m_{j=1} a_2^2} \\begin{bmatrix} 1 \\\\ 0 \\end{bmatrix} = \\begin{bmatrix} 4.8 \\\\ 2.4 \\end{bmatrix}$$\n",
    "\n",
    "$H_2$\n",
    "\n",
    "$$H_2 = \\begin{bmatrix} 1 & 0 \\\\ 0 & 1 \\end{bmatrix} - 2 \\frac{\\begin{bmatrix} 4.8 & 2.4 \\end{bmatrix} \\begin{bmatrix} 4.8 \\\\ 2.4 \\end{bmatrix}}{\\begin{bmatrix} 4.8 \\\\ 2.4 \\end{bmatrix} \\begin{bmatrix} 4.8 & 2.4 \\end{bmatrix}}$$\n",
    "\n",
    "$$H_2 = \\begin{bmatrix} 1 & 0 & 0 \\\\ 0 & -0.6 & -0.8 \\\\ 0 & -0.8 & 0.6 \\end{bmatrix}$$\n",
    "\n",
    "$H_2A$ $$\\begin{bmatrix} 1 & 0 & 0 \\\\ 0 & -0.6 & -0.8 \\\\ 0 & -0.8 & 0.6 \\end{bmatrix} \\begin{bmatrix} -3 & 0 & -12 \\\\ 0 & 1.8 & 12 \\\\ 0 & 2.4 & -6 \\end{bmatrix}$$\n",
    "\n",
    "$$H_2 A = \\begin{bmatrix} -3 & 0 & -12 \\\\ 0 & -3 & 12 \\\\ 0 & 0 & 6 \\end{bmatrix}$$\n",
    "\n",
    "$v_3$ é dado por $$\\begin{bmatrix} 6 \\end{bmatrix} -  \\sqrt{\\sum^m_{j=1} a_3^2} \\begin{bmatrix} 1 \\end{bmatrix} = 12$$\n",
    "\n",
    "A ultima matriz $H$ a $H_3$ $$H_3 = \\begin{bmatrix} 1 \\end{bmatrix} - 2 \\frac{\\begin{bmatrix} 12 \\end{bmatrix}\\begin{bmatrix} 12 \\end{bmatrix}}{\\begin{bmatrix} 12 \\end{bmatrix}\\begin{bmatrix} 12 \\end{bmatrix}} = \\begin{bmatrix}1 & 0 & 0 \\\\ 0 & 1 & 0 \\\\ 0 & 0 & -1 \\end{bmatrix}$$\n",
    "\n",
    "$$H_3 A = \\begin{bmatrix}1 & 0 & 0 \\\\ 0 & 1 & 0 \\\\ 0 & 0 & -1 \\end{bmatrix} \\begin{bmatrix} -3 & 0 & -12 \\\\ 0 & -3 & 12 \\\\ 0 & 0 & 6 \\end{bmatrix}$$\n",
    "\n",
    "$$H_3 A = R = \\begin{bmatrix} -3 & 0 & -12 \\\\ 0 & -3 & 12 \\\\ 0 & 0 & -6 \\end{bmatrix}$$\n",
    "\n",
    "Como dito anteriormente a matriz $Q$ é encontrada\n",
    "$$H_1 H_2 H_3 = Q$$ $$Q = \\begin{bmatrix} -\\frac{2}{3} & -\\frac{2}{3} & -\\frac{1}{3} \\\\ -\\frac{2}{3} & 0.7333 & -0.1333 \\\\ -\\frac{1}{3} & -0.1333 & 0.9333 \\end{bmatrix} \\begin{bmatrix} 1 & 0 & 0 \\\\ 0 & -0.6 & -0.8 \\\\ 0 & -0.8 & 0.6 \\end{bmatrix} \\begin{bmatrix}1 & 0 & 0 \\\\ 0 & 1 & 0 \\\\ 0 & 0 & -1 \\end{bmatrix}$$ $$Q = \\begin{bmatrix} -\\frac{2}{3} & \\frac{2}{3} & -\\frac{1}{3} \\\\ -\\frac{2}{3} & -\\frac{1}{3} & \\frac{2}{3} \\\\ -\\frac{1}{3} & -\\frac{2}{3} & -\\frac{2}{3} \\end{bmatrix}$$\n",
    "\n",
    "O resultado obtido é o mesmo que obtido pelo Gram-Schmidt \n",
    "$$QR = \\begin{bmatrix} -\\frac{2}{3} & \\frac{2}{3} & -\\frac{1}{3} \\\\ -\\frac{2}{3} & -\\frac{1}{3} & \\frac{2}{3} \\\\ -\\frac{1}{3} & -\\frac{2}{3} & -\\frac{2}{3} \\end{bmatrix} \\begin{bmatrix} -3 & 0 & -12 \\\\ 0 & -3 & 12 \\\\ 0 & 0 & -6 \\end{bmatrix}$$\n"
   ]
  },
  {
   "cell_type": "code",
   "execution_count": 8,
   "metadata": {},
   "outputs": [],
   "source": [
    "def matriz_householder(v):\n",
    "    #Gera a matriz de refleccao para o vetor v\n",
    "    tam_v = v.shape[0]\n",
    "        \n",
    "    e1 = np.eye(tam_v)[0]                        #Primeira coluna da identidade                    \n",
    "    vetor = np.linalg.norm(v) * e1               #Vetor [||v||,0....]\n",
    "    \n",
    "    if v[0] < 0:                                 #Se o primeiro elemento for < 0,troca o sinal\n",
    "        vetor = - vetor\n",
    "    u = v + vetor\n",
    "    \n",
    "    H = np.eye(tam_v) -  ((2 * np.outer(u,u)) / np.dot(u,np.transpose(u)))      #Gera H\n",
    "    \n",
    "    return H"
   ]
  },
  {
   "cell_type": "code",
   "execution_count": 9,
   "metadata": {},
   "outputs": [],
   "source": [
    "def QR_householder(A):\n",
    "    m,n = A.shape                                 \n",
    "    Q = np.eye(m)\n",
    "    R = A\n",
    "    menor_dim = min(m,n)\n",
    "\n",
    "    for i in range(menor_dim):\n",
    "        v = R[i:, i]                               #linha it pra frente e coluna it\n",
    "        Hh = matriz_householder(v)                 #Recebe a matriz de refleccao para o vetor v\n",
    "\n",
    "        H = np.eye(m)                              #Identidade\n",
    "        H[i:, i:] = Hh                             #Preenche com a matriz de refleccao as linhas e colunas i pra frente\n",
    "\n",
    "        R = np.dot(H, R)                           #Gera R\n",
    "        Q = np.dot(Q, H)                           #Gera Q\n",
    "        \n",
    "    return Q,R"
   ]
  },
  {
   "cell_type": "code",
   "execution_count": 10,
   "metadata": {},
   "outputs": [
    {
     "name": "stdout",
     "output_type": "stream",
     "text": [
      "Matriz A:\n",
      "[[3 1 0 4 3]\n",
      " [1 4 4 1 3]\n",
      " [1 2 0 4 2]\n",
      " [2 3 2 3 0]\n",
      " [3 2 4 3 0]\n",
      " [1 4 4 2 1]\n",
      " [1 0 1 3 1]]\n",
      "\n",
      "Matriz R:\n",
      "[[-5.09902 -4.9029  -4.9029  -7.2563  -3.13786]\n",
      " [ 0.      -5.09525 -4.3102  -0.67182 -1.49461]\n",
      " [ 0.       0.       3.22238 -1.69831 -1.49786]\n",
      " [-0.       0.       0.       2.83029  0.59458]\n",
      " [-0.      -0.      -0.      -0.       3.05334]\n",
      " [-0.       0.      -0.      -0.       0.     ]\n",
      " [-0.      -0.      -0.       0.       0.     ]]\n",
      "\n",
      "Matriz Q:\n",
      "[[-0.5883  0.3699 -0.4004 -0.2476  0.4107  0.3559  0.0065]\n",
      " [-0.1961 -0.5963  0.1453 -0.2039  0.6    -0.379   0.1989]\n",
      " [-0.1961 -0.2038 -0.571   0.5195 -0.0276 -0.3535 -0.4454]\n",
      " [-0.3922 -0.2114 -0.2588 -0.1511 -0.6041 -0.1385  0.5723]\n",
      " [-0.5883  0.1736  0.5784 -0.0602 -0.2242 -0.2782 -0.3974]\n",
      " [-0.1961 -0.5963  0.1453  0.1495 -0.1238  0.7097 -0.2084]\n",
      " [-0.1961  0.1887  0.2644  0.7606  0.1999  0.0667  0.4829]]\n",
      "\n",
      "Inversa de Q:\n",
      "[[-0.5883 -0.1961 -0.1961 -0.3922 -0.5883 -0.1961 -0.1961]\n",
      " [ 0.3699 -0.5963 -0.2038 -0.2114  0.1736 -0.5963  0.1887]\n",
      " [-0.4004  0.1453 -0.571  -0.2588  0.5784  0.1453  0.2644]\n",
      " [-0.2476 -0.2039  0.5195 -0.1511 -0.0602  0.1495  0.7606]\n",
      " [ 0.4107  0.6    -0.0276 -0.6041 -0.2242 -0.1238  0.1999]\n",
      " [ 0.3559 -0.379  -0.3535 -0.1385 -0.2782  0.7097  0.0667]\n",
      " [ 0.0065  0.1989 -0.4454  0.5723 -0.3974 -0.2084  0.4829]]\n",
      "\n",
      "Q x R:\n",
      "[[ 3.  1. -0.  4.  3.]\n",
      " [ 1.  4.  4.  1.  3.]\n",
      " [ 1.  2. -0.  4.  2.]\n",
      " [ 2.  3.  2.  3.  0.]\n",
      " [ 3.  2.  4.  3.  0.]\n",
      " [ 1.  4.  4.  2.  1.]\n",
      " [ 1. -0.  1.  3.  1.]]\n",
      "\n",
      "Matriz A = Q x R??\n",
      " [[ True  True  True  True  True]\n",
      " [ True  True  True  True  True]\n",
      " [ True  True  True  True  True]\n",
      " [ True  True  True  True  True]\n",
      " [ True  True  True  True  True]\n",
      " [ True  True  True  True  True]\n",
      " [ True  True  True  True  True]]\n"
     ]
    },
    {
     "data": {
      "text/plain": [
       "<matplotlib.lines.Line2D at 0x7fa043e0a438>"
      ]
     },
     "execution_count": 10,
     "metadata": {},
     "output_type": "execute_result"
    },
    {
     "data": {
      "image/png": "[encoded data removed]",
      "text/plain": [
       "<Figure size 432x288 with 1 Axes>"
      ]
     },
     "metadata": {
      "needs_background": "light"
     },
     "output_type": "display_data"
    }
   ],
   "source": [
    "m,n = 7,5\n",
    "A = np.random.randint(0,5,(m,n))\n",
    "\n",
    "Q,R = QR_householder(A)\n",
    "\n",
    "R = R.round(5)\n",
    "\n",
    "print(\"Matriz A:\\n{}\\n\\nMatriz R:\\n{}\\n\\nMatriz Q:\\n{}\\n\\nInversa de Q:\\n{}\\n\\nQ x R:\\n{}\".format(A, R, Q.round(4), np.linalg.inv(Q).round(4), (Q@R).round(4)))\n",
    "print(\"\\nMatriz A = Q x R??\\n\", (A.round(4)==(Q@R).round(4)))\n",
    "\n",
    "plt.spy(R,marker='o',c='b')"
   ]
  },
  {
   "cell_type": "markdown",
   "metadata": {},
   "source": [
    "# Gráficos"
   ]
  },
  {
   "cell_type": "code",
   "execution_count": 11,
   "metadata": {},
   "outputs": [],
   "source": [
    "def rodar(f,dim):\n",
    "    #f: Método a ser rodado\n",
    "    #dim: lista com as dimensoes das matrizes\n",
    "    \n",
    "    tempos = []\n",
    "    temposGeracao = []\n",
    "    flag = False\n",
    "    \n",
    "    if f.__name__ == 'gram_schmidt': flag = True\n",
    "        \n",
    "    for i in dim:\n",
    "        tempo = []\n",
    "        print(\"Dimensão: {}\".format(i))\n",
    "        if flag:\n",
    "            t0g = time.time()\n",
    "            A = matrizLI(i,i)\n",
    "            tfg = time.time()\n",
    "            temposGeracao.append(tfg-t0g)\n",
    "        else:\n",
    "            A = np.random.randint(0,5,(i,i))\n",
    "        for _ in range(3):\n",
    "            t0 = time.time()\n",
    "            f(A)\n",
    "            tf = time.time()\n",
    "            tempo.append(tf-t0)\n",
    "        tempos.append(tempo)\n",
    "        \n",
    "    tempos = [np.mean(i) for i in tempos]\n",
    "    #print('Tempos de Geracao da matriz LI=',temposGeracao)\n",
    "    return tempos"
   ]
  },
  {
   "cell_type": "code",
   "execution_count": 12,
   "metadata": {},
   "outputs": [],
   "source": [
    "def plotar(holder, schmidt, givens, dim,log=None):\n",
    "    #dim: lista com as dimensoes das matrizes\n",
    "    \n",
    "    plt.figure(figsize=(14,12))\n",
    "    plt.title('Decomposição QR',size='x-large')\n",
    "    plt.xlabel('Dimensões',size='x-large')\n",
    "    plt.ylabel('Segundos',size='x-large')\n",
    "    if log:\n",
    "        plt.yscale('log')\n",
    "        plt.xscale('log')\n",
    "    plt.plot(dim,holder,marker='v',ms=13.0,label='Householder')\n",
    "    plt.plot(dim,schmidt,marker='^',ms=13.0,label='Gram-Schmidt')\n",
    "    plt.plot(dim,givens,marker='o',ms=13.0,label='Givens')\n",
    "    plt.legend(title='Método:',title_fontsize='xx-large',fontsize='x-large')\n",
    "    plt.show()\n",
    "    "
   ]
  },
  {
   "cell_type": "markdown",
   "metadata": {},
   "source": [
    "### Só rode essa celula abaixo se quiser esperar muito tempo"
   ]
  },
  {
   "cell_type": "code",
   "execution_count": 13,
   "metadata": {},
   "outputs": [
    {
     "name": "stdout",
     "output_type": "stream",
     "text": [
      "Dimensão: 50\n",
      "Dimensão: 70\n",
      "Dimensão: 100\n",
      "Dimensão: 150\n",
      "Dimensão: 200\n",
      "Dimensão: 300\n",
      "Dimensão: 50\n",
      "Dimensão: 70\n",
      "Dimensão: 100\n",
      "Dimensão: 150\n",
      "Dimensão: 200\n",
      "Dimensão: 300\n",
      "Dimensão: 50\n",
      "Dimensão: 70\n",
      "Dimensão: 100\n",
      "Dimensão: 150\n",
      "Dimensão: 200\n",
      "Dimensão: 300\n"
     ]
    }
   ],
   "source": [
    "dim = [50, 70, 100, 150, 200, 300]\n",
    "temposHolder = rodar(QR_householder,dim)\n",
    "temposSchmidt = rodar(gram_schmidt,dim)\n",
    "temposGivens = rodar(rotacao_givens,dim)"
   ]
  },
  {
   "cell_type": "code",
   "execution_count": 14,
   "metadata": {},
   "outputs": [
    {
     "data": {
      "text/plain": [
       "[0.0051326751708984375,\n",
       " 0.007666190465291341,\n",
       " 0.0154420534769694,\n",
       " 0.0336305300394694,\n",
       " 0.08023500442504883,\n",
       " 0.35820523897806805]"
      ]
     },
     "execution_count": 14,
     "metadata": {},
     "output_type": "execute_result"
    }
   ],
   "source": [
    "temposHolder"
   ]
  },
  {
   "cell_type": "code",
   "execution_count": 15,
   "metadata": {},
   "outputs": [
    {
     "data": {
      "text/plain": [
       "[0.008998394012451172,\n",
       " 0.0173492431640625,\n",
       " 0.03882741928100586,\n",
       " 0.09525235493977864,\n",
       " 0.17697318394978842,\n",
       " 0.41152532895406085]"
      ]
     },
     "execution_count": 15,
     "metadata": {},
     "output_type": "execute_result"
    }
   ],
   "source": [
    "temposSchmidt"
   ]
  },
  {
   "cell_type": "code",
   "execution_count": 16,
   "metadata": {},
   "outputs": [
    {
     "data": {
      "text/plain": [
       "[0.02938954035441081,\n",
       " 0.0791472593943278,\n",
       " 0.269561767578125,\n",
       " 1.590407133102417,\n",
       " 5.1671938101450605,\n",
       " 36.9437681833903]"
      ]
     },
     "execution_count": 16,
     "metadata": {},
     "output_type": "execute_result"
    }
   ],
   "source": [
    "temposGivens"
   ]
  },
  {
   "cell_type": "markdown",
   "metadata": {},
   "source": [
    "### Rode essa célula abaixo pra pegar os tempos já prontos"
   ]
  },
  {
   "cell_type": "code",
   "execution_count": 17,
   "metadata": {},
   "outputs": [],
   "source": [
    "temposHolder= [0.005318959554036458,0.006981054941813151,0.012311776479085287,0.040215253829956055,0.08510629336039226,0.40923913319905597]\n",
    "temposSchmidt = [0.008976221084594727,0.019946575164794922,0.03757794698079427,0.0890950361887614,0.15392168362935385,0.3726704915364583]\n",
    "temposGivens = [0.03224714597066244,0.09640900293986003,0.3370986779530843,2.012287219365438,7.407861550649007,50.75064746538798]"
   ]
  },
  {
   "cell_type": "code",
   "execution_count": 18,
   "metadata": {},
   "outputs": [
    {
     "data": {
      "image/png": "[encoded data removed]",
      "text/plain": [
       "<Figure size 1008x864 with 1 Axes>"
      ]
     },
     "metadata": {
      "needs_background": "light"
     },
     "output_type": "display_data"
    }
   ],
   "source": [
    "plotar(temposHolder,temposSchmidt,temposGivens,dim,True)"
   ]
  },
  {
   "cell_type": "markdown",
   "metadata": {},
   "source": [
    "# Regressão Gram-Schmidt"
   ]
  },
  {
   "cell_type": "markdown",
   "metadata": {},
   "source": [
    "### REGRESSÃO SEM LOG-SCALE "
   ]
  },
  {
   "cell_type": "code",
   "execution_count": 19,
   "metadata": {},
   "outputs": [
    {
     "data": {
      "text/plain": [
       "array([[  1,  50],\n",
       "       [  1,  70],\n",
       "       [  1, 100],\n",
       "       [  1, 150],\n",
       "       [  1, 200],\n",
       "       [  1, 300]])"
      ]
     },
     "execution_count": 19,
     "metadata": {},
     "output_type": "execute_result"
    }
   ],
   "source": [
    "x = np.array(dim)\n",
    "A = x[:, np.newaxis]**[0,1]               #Criou uma nova coluna só de 1\n",
    "A"
   ]
  },
  {
   "cell_type": "code",
   "execution_count": 20,
   "metadata": {},
   "outputs": [
    {
     "data": {
      "text/plain": [
       "array([-0.09389346,  0.00143167])"
      ]
     },
     "execution_count": 20,
     "metadata": {},
     "output_type": "execute_result"
    }
   ],
   "source": [
    "#Achar y = a*x+b\n",
    "y = np.array(temposSchmidt)\n",
    "p, res, rnk, s = lstsq(A,y)\n",
    "p"
   ]
  },
  {
   "cell_type": "code",
   "execution_count": 21,
   "metadata": {
    "scrolled": true
   },
   "outputs": [
    {
     "data": {
      "image/png": "[encoded data removed]",
      "text/plain": [
       "<Figure size 864x720 with 1 Axes>"
      ]
     },
     "metadata": {
      "needs_background": "light"
     },
     "output_type": "display_data"
    }
   ],
   "source": [
    "plt.figure(figsize=(12,10))\n",
    "plt.scatter(x,y,marker= 'o', label='Dados',color='r')\n",
    "\n",
    "yy = p[0] + (p[1]*x)\n",
    "plt.plot(x, yy, label='Mínimos Quadrados, $y = ax + b$')\n",
    "plt.xlabel('x')\n",
    "plt.ylabel('y')\n",
    "plt.legend(framealpha=1, shadow=True,fontsize='x-large')\n",
    "plt.grid(alpha=0.25)\n",
    "plt.show()"
   ]
  },
  {
   "cell_type": "markdown",
   "metadata": {},
   "source": [
    "### REGRESSÃO COM LOG-SCALE"
   ]
  },
  {
   "cell_type": "code",
   "execution_count": 22,
   "metadata": {},
   "outputs": [],
   "source": [
    "logX = np.log(x)\n",
    "logY = np.log(y)"
   ]
  },
  {
   "cell_type": "code",
   "execution_count": 23,
   "metadata": {},
   "outputs": [
    {
     "data": {
      "text/plain": [
       "array([[1.        , 3.91202301],\n",
       "       [1.        , 4.24849524],\n",
       "       [1.        , 4.60517019],\n",
       "       [1.        , 5.01063529],\n",
       "       [1.        , 5.29831737],\n",
       "       [1.        , 5.70378247]])"
      ]
     },
     "execution_count": 23,
     "metadata": {},
     "output_type": "execute_result"
    }
   ],
   "source": [
    "logA = logX[:, np.newaxis]**[0,1]               #Criou uma nova coluna só de 1\n",
    "logA"
   ]
  },
  {
   "cell_type": "code",
   "execution_count": 24,
   "metadata": {},
   "outputs": [
    {
     "data": {
      "text/plain": [
       "array([-12.68756462,   2.04805353])"
      ]
     },
     "execution_count": 24,
     "metadata": {},
     "output_type": "execute_result"
    }
   ],
   "source": [
    "p, res, rnk, s = lstsq(logA,logY)\n",
    "p"
   ]
  },
  {
   "cell_type": "code",
   "execution_count": 25,
   "metadata": {},
   "outputs": [
    {
     "data": {
      "text/plain": [
       "0.008841601760461592"
      ]
     },
     "execution_count": 25,
     "metadata": {},
     "output_type": "execute_result"
    }
   ],
   "source": [
    "res"
   ]
  },
  {
   "cell_type": "code",
   "execution_count": 26,
   "metadata": {},
   "outputs": [
    {
     "data": {
      "image/png": "[encoded data removed]",
      "text/plain": [
       "<Figure size 864x720 with 1 Axes>"
      ]
     },
     "metadata": {
      "needs_background": "light"
     },
     "output_type": "display_data"
    }
   ],
   "source": [
    "plt.figure(figsize=(12,10))\n",
    "plt.scatter(logX,logY,marker= 'o', label='Dados',color='r')\n",
    "\n",
    "yy = p[0] + (p[1]*logX)\n",
    "plt.plot(logX, yy, label='Mínimos Quadrados, $y = {} x {}$'.format(np.round(p[1],5),np.round(p[0],5)))\n",
    "plt.xlabel('x')\n",
    "plt.ylabel('y')\n",
    "plt.legend(framealpha=0.5, shadow=False,fontsize='x-large')\n",
    "plt.grid(alpha=0.5)\n",
    "plt.show()"
   ]
  },
  {
   "cell_type": "markdown",
   "metadata": {},
   "source": [
    "### Erro quadrático médio - Gram-Schmidt"
   ]
  },
  {
   "cell_type": "code",
   "execution_count": 27,
   "metadata": {},
   "outputs": [
    {
     "data": {
      "text/plain": [
       "0.0014736002934101556"
      ]
     },
     "execution_count": 27,
     "metadata": {},
     "output_type": "execute_result"
    }
   ],
   "source": [
    "mean_squared_error(logY,yy)"
   ]
  },
  {
   "cell_type": "markdown",
   "metadata": {},
   "source": [
    "# Regressão Rotação de Givens"
   ]
  },
  {
   "cell_type": "markdown",
   "metadata": {},
   "source": [
    "### REGRESSÃO SEM LOG-SCALE "
   ]
  },
  {
   "cell_type": "code",
   "execution_count": 28,
   "metadata": {},
   "outputs": [
    {
     "data": {
      "text/plain": [
       "array([[  1,  50],\n",
       "       [  1,  70],\n",
       "       [  1, 100],\n",
       "       [  1, 150],\n",
       "       [  1, 200],\n",
       "       [  1, 300]])"
      ]
     },
     "execution_count": 28,
     "metadata": {},
     "output_type": "execute_result"
    }
   ],
   "source": [
    "x = np.array(dim)\n",
    "A = x[:, np.newaxis]**[0,1]               #Criou uma nova coluna só de 1\n",
    "A"
   ]
  },
  {
   "cell_type": "code",
   "execution_count": 29,
   "metadata": {},
   "outputs": [
    {
     "data": {
      "text/plain": [
       "array([-17.26454095,   0.18876298])"
      ]
     },
     "execution_count": 29,
     "metadata": {},
     "output_type": "execute_result"
    }
   ],
   "source": [
    "#Achar y = a*x+b\n",
    "y = np.array(temposGivens)\n",
    "p, res, rnk, s = lstsq(A,y)\n",
    "p"
   ]
  },
  {
   "cell_type": "code",
   "execution_count": 30,
   "metadata": {},
   "outputs": [
    {
     "data": {
      "image/png": "[encoded data removed]",
      "text/plain": [
       "<Figure size 864x720 with 1 Axes>"
      ]
     },
     "metadata": {
      "needs_background": "light"
     },
     "output_type": "display_data"
    }
   ],
   "source": [
    "plt.figure(figsize=(12,10))\n",
    "plt.scatter(x,y,marker= 'o', label='Dados',color='r')\n",
    "\n",
    "yy = p[0] + (p[1]*x)\n",
    "plt.plot(x, yy, label='Mínimos Quadrados, $y = ax + b$')\n",
    "plt.xlabel('x')\n",
    "plt.ylabel('y')\n",
    "plt.legend(framealpha=1, shadow=True,fontsize='x-large')\n",
    "plt.grid(alpha=0.25)\n",
    "plt.show()"
   ]
  },
  {
   "cell_type": "markdown",
   "metadata": {},
   "source": [
    "### REGRESSÃO COM LOG-SCALE"
   ]
  },
  {
   "cell_type": "code",
   "execution_count": 31,
   "metadata": {},
   "outputs": [],
   "source": [
    "logX = np.log(x)\n",
    "logY = np.log(y)"
   ]
  },
  {
   "cell_type": "code",
   "execution_count": 32,
   "metadata": {},
   "outputs": [
    {
     "data": {
      "text/plain": [
       "array([[1.        , 3.91202301],\n",
       "       [1.        , 4.24849524],\n",
       "       [1.        , 4.60517019],\n",
       "       [1.        , 5.01063529],\n",
       "       [1.        , 5.29831737],\n",
       "       [1.        , 5.70378247]])"
      ]
     },
     "execution_count": 32,
     "metadata": {},
     "output_type": "execute_result"
    }
   ],
   "source": [
    "logA = logX[:, np.newaxis]**[0,1]               #Criou uma nova coluna só de 1\n",
    "logA"
   ]
  },
  {
   "cell_type": "code",
   "execution_count": 33,
   "metadata": {},
   "outputs": [
    {
     "data": {
      "text/plain": [
       "array([-19.83400491,   4.1271165 ])"
      ]
     },
     "execution_count": 33,
     "metadata": {},
     "output_type": "execute_result"
    }
   ],
   "source": [
    "p, res, rnk, s = lstsq(logA,logY)\n",
    "p"
   ]
  },
  {
   "cell_type": "code",
   "execution_count": 34,
   "metadata": {},
   "outputs": [
    {
     "data": {
      "text/plain": [
       "0.20454006430408284"
      ]
     },
     "execution_count": 34,
     "metadata": {},
     "output_type": "execute_result"
    }
   ],
   "source": [
    "res"
   ]
  },
  {
   "cell_type": "code",
   "execution_count": 35,
   "metadata": {},
   "outputs": [
    {
     "data": {
      "image/png": "[encoded data removed]",
      "text/plain": [
       "<Figure size 864x720 with 1 Axes>"
      ]
     },
     "metadata": {
      "needs_background": "light"
     },
     "output_type": "display_data"
    }
   ],
   "source": [
    "plt.figure(figsize=(12,10))\n",
    "plt.scatter(logX,logY,marker= 'o', label='Dados',color='r')\n",
    "\n",
    "yy = p[0] + (p[1]*logX)\n",
    "plt.plot(logX, yy, label='Mínimos Quadrados, $y = {}x {}$'.format(np.round(p[1],5),np.round(p[0],5)))\n",
    "plt.xlabel('x')\n",
    "plt.ylabel('y')\n",
    "plt.legend(framealpha=0.5, shadow=False,fontsize='x-large')\n",
    "plt.grid(alpha=0.5)\n",
    "plt.show()"
   ]
  },
  {
   "cell_type": "markdown",
   "metadata": {},
   "source": [
    "### Erro quadrático médio - Givens"
   ]
  },
  {
   "cell_type": "code",
   "execution_count": 36,
   "metadata": {},
   "outputs": [
    {
     "data": {
      "text/plain": [
       "0.03409001071734826"
      ]
     },
     "execution_count": 36,
     "metadata": {},
     "output_type": "execute_result"
    }
   ],
   "source": [
    "mean_squared_error(logY,yy)"
   ]
  },
  {
   "cell_type": "markdown",
   "metadata": {},
   "source": [
    "# Regressão Householder"
   ]
  },
  {
   "cell_type": "markdown",
   "metadata": {},
   "source": [
    "### REGRESSÃO SEM LOG-SCALE "
   ]
  },
  {
   "cell_type": "code",
   "execution_count": 37,
   "metadata": {},
   "outputs": [
    {
     "data": {
      "text/plain": [
       "array([[  1,  50],\n",
       "       [  1,  70],\n",
       "       [  1, 100],\n",
       "       [  1, 150],\n",
       "       [  1, 200],\n",
       "       [  1, 300]])"
      ]
     },
     "execution_count": 37,
     "metadata": {},
     "output_type": "execute_result"
    }
   ],
   "source": [
    "x = np.array(dim)\n",
    "A = x[:, np.newaxis]**[0,1]               #Criou uma nova coluna só de 1\n",
    "A"
   ]
  },
  {
   "cell_type": "code",
   "execution_count": 38,
   "metadata": {},
   "outputs": [
    {
     "data": {
      "text/plain": [
       "array([-0.12797045,  0.00152528])"
      ]
     },
     "execution_count": 38,
     "metadata": {},
     "output_type": "execute_result"
    }
   ],
   "source": [
    "#Achar y = a*x+b\n",
    "y = np.array(temposHolder)\n",
    "p, res, rnk, s = lstsq(A,y)\n",
    "p"
   ]
  },
  {
   "cell_type": "code",
   "execution_count": 39,
   "metadata": {},
   "outputs": [
    {
     "data": {
      "image/png": "[encoded data removed]",
      "text/plain": [
       "<Figure size 864x720 with 1 Axes>"
      ]
     },
     "metadata": {
      "needs_background": "light"
     },
     "output_type": "display_data"
    }
   ],
   "source": [
    "plt.figure(figsize=(12,10))\n",
    "plt.scatter(x,y,marker= 'o', label='Dados',color='r')\n",
    "\n",
    "yy = p[0] + (p[1]*x)\n",
    "plt.plot(x, yy, label='Mínimos Quadrados, $y = ax + b$')\n",
    "plt.xlabel('x')\n",
    "plt.ylabel('y')\n",
    "plt.legend(framealpha=1, shadow=True,fontsize='x-large')\n",
    "plt.grid(alpha=0.25)\n",
    "plt.show()"
   ]
  },
  {
   "cell_type": "markdown",
   "metadata": {},
   "source": [
    "### REGRESSÃO COM LOG-SCALE"
   ]
  },
  {
   "cell_type": "code",
   "execution_count": 40,
   "metadata": {},
   "outputs": [],
   "source": [
    "logX = np.log(x)\n",
    "logY = np.log(y)"
   ]
  },
  {
   "cell_type": "code",
   "execution_count": 41,
   "metadata": {},
   "outputs": [
    {
     "data": {
      "text/plain": [
       "array([[1.        , 3.91202301],\n",
       "       [1.        , 4.24849524],\n",
       "       [1.        , 4.60517019],\n",
       "       [1.        , 5.01063529],\n",
       "       [1.        , 5.29831737],\n",
       "       [1.        , 5.70378247]])"
      ]
     },
     "execution_count": 41,
     "metadata": {},
     "output_type": "execute_result"
    }
   ],
   "source": [
    "logA = logX[:, np.newaxis]**[0,1]               #Criou uma nova coluna só de 1\n",
    "logA"
   ]
  },
  {
   "cell_type": "code",
   "execution_count": 42,
   "metadata": {},
   "outputs": [
    {
     "data": {
      "text/plain": [
       "array([-15.21116968,   2.43578205])"
      ]
     },
     "execution_count": 42,
     "metadata": {},
     "output_type": "execute_result"
    }
   ],
   "source": [
    "p, res, rnk, s = lstsq(logA,logY)\n",
    "p"
   ]
  },
  {
   "cell_type": "code",
   "execution_count": 43,
   "metadata": {},
   "outputs": [
    {
     "data": {
      "text/plain": [
       "0.619923728093657"
      ]
     },
     "execution_count": 43,
     "metadata": {},
     "output_type": "execute_result"
    }
   ],
   "source": [
    "res"
   ]
  },
  {
   "cell_type": "code",
   "execution_count": 44,
   "metadata": {},
   "outputs": [
    {
     "data": {
      "image/png": "[encoded data removed]",
      "text/plain": [
       "<Figure size 864x720 with 1 Axes>"
      ]
     },
     "metadata": {
      "needs_background": "light"
     },
     "output_type": "display_data"
    }
   ],
   "source": [
    "plt.figure(figsize=(12,10))\n",
    "plt.scatter(logX,logY,marker= 'o', label='Dados',color='r')\n",
    "\n",
    "yy = p[0] + (p[1]*logX)\n",
    "plt.plot(logX, yy, label='Mínimos Quadrados, $y = {}x {}$'.format(np.round(p[1],5),np.round(p[0],5)))\n",
    "plt.xlabel('x')\n",
    "plt.ylabel('y')\n",
    "plt.legend(framealpha=0.5, shadow=False,fontsize='x-large')\n",
    "plt.grid(alpha=0.5)\n",
    "plt.show()"
   ]
  },
  {
   "cell_type": "markdown",
   "metadata": {},
   "source": [
    "### Erro quadrático médio - Householder"
   ]
  },
  {
   "cell_type": "code",
   "execution_count": 45,
   "metadata": {},
   "outputs": [
    {
     "data": {
      "text/plain": [
       "0.1033206213489441"
      ]
     },
     "execution_count": 45,
     "metadata": {},
     "output_type": "execute_result"
    }
   ],
   "source": [
    "mean_squared_error(logY,yy)"
   ]
  },
  {
   "cell_type": "markdown",
   "metadata": {},
   "source": [
    "# Considerações Finais\n",
    "O processo de Gram–Schmidt é tipicamente instável numericamente. Se por um lado a aplicação das projeções tem um apelo atraente á geométrica para a ortogonalização, a ortogonalização em si é propensa a erros numéricos. Uma grande vantagem, porém, é a facilidade de implementação, o que o torna um algoritmo útil para prototipagem.\n",
    "\n",
    "As transformações de Householder são a forma simples dos algoritmos de decomposição $QR$, numericamente estáveis devido a forma de produção dos zeros na matriz R. No entanto, o algoritmo de reflexão de Householder tem largura de banda pesada e não é paralelizável, já que cada transformação pode alterar completamente tanto a matriz $Q$ quanto $R$.\n",
    "\n",
    "A decomposição $QR$ utilizando rotações de Givens é mais complicada de implementar, a ordenação necessária das linhas para explorar plenamente o algoritmo  não é trivial. Ela tem uma vantagem significativa, pois cada novo elemento zero $a_{ij}$ afeta apenas a linha com o elemento a ser zerado e uma linha acima . Isso torna o algoritmo eficiente em largura de banda e paralelizável, diferentemente da técnica de reflexão de Householder."
   ]
  },
  {
   "cell_type": "markdown",
   "metadata": {},
   "source": [
    "# FIM \n",
    "## Obrigado pela atenção!"
   ]
  }
 ],
 "metadata": {
  "kernelspec": {
   "display_name": "Python 3",
   "language": "python",
   "name": "python3"
  },
  "language_info": {
   "codemirror_mode": {
    "name": "ipython",
    "version": 3
   },
   "file_extension": ".py",
   "mimetype": "text/x-python",
   "name": "python",
   "nbconvert_exporter": "python",
   "pygments_lexer": "ipython3",
   "version": "3.7.3"
  }
 },
 "nbformat": 4,
 "nbformat_minor": 2
}
