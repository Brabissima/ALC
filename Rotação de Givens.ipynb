{
 "cells": [
  {
   "cell_type": "code",
   "execution_count": 36,
   "metadata": {},
   "outputs": [],
   "source": [
    "import numpy as np\n",
    "import math"
   ]
  },
  {
   "cell_type": "code",
   "execution_count": 88,
   "metadata": {},
   "outputs": [],
   "source": [
    "def rotation(a,b):\n",
    "    norma = math.hypot(a,b)\n",
    "    cos = a/norma\n",
    "    sen = -b/norma\n",
    "    return (cos,sen)"
   ]
  },
  {
   "cell_type": "code",
   "execution_count": 114,
   "metadata": {},
   "outputs": [],
   "source": [
    "def givens_rotation(A):\n",
    "    qtd_linhas, qtd_colunas = A.shape\n",
    "    Q = np.identity(A.shape[0])\n",
    "    R = np.copy(A)\n",
    "    linhas, colunas = np.tril_indices(qtd_linhas, -1, qtd_colunas)\n",
    "    i = 0\n",
    "    for (linha, coluna) in zip(linhas, colunas):\n",
    "        if(R[linha,coluna] != 0):\n",
    "            cos, sen = rotation(R[coluna, coluna], R[linha,coluna])\n",
    "            G = np.identity(qtd_linhas)\n",
    "            G[[coluna,linha],[coluna,linha]] = cos\n",
    "            G[linha, coluna] = sen\n",
    "            G[coluna, linha] = -sen\n",
    "            R = np.dot(G, R)\n",
    "            Q = np.dot(Q,G.T)\n",
    "        i = i+1\n",
    "        print(\"Matriz Q{}:\\n{}\".format(i, Q))\n",
    "    return (Q,R)"
   ]
  },
  {
   "cell_type": "code",
   "execution_count": 120,
   "metadata": {},
   "outputs": [
    {
     "name": "stdout",
     "output_type": "stream",
     "text": [
      "Matriz Q1:\n",
      "[[ 0.89442719 -0.4472136   0.        ]\n",
      " [ 0.4472136   0.89442719  0.        ]\n",
      " [ 0.          0.          1.        ]]\n",
      "Matriz Q2:\n",
      "[[ 0.85714286 -0.4472136   0.25555063]\n",
      " [ 0.42857143  0.89442719  0.12777531]\n",
      " [-0.28571429  0.          0.95831485]]\n",
      "Matriz Q3:\n",
      "[[ 0.85714286 -0.39428571  0.33142857]\n",
      " [ 0.42857143  0.90285714 -0.03428571]\n",
      " [-0.28571429  0.17142857  0.94285714]]\n",
      "Matriz Q:\n",
      "[[ 0.85714286 -0.39428571  0.33142857]\n",
      " [ 0.42857143  0.90285714 -0.03428571]\n",
      " [-0.28571429  0.17142857  0.94285714]]\n",
      "\n",
      "Matriz R:\n",
      "[[ 1.40000000e+01  2.10000000e+01 -1.40000000e+01]\n",
      " [ 7.94410929e-17  1.75000000e+02 -7.00000000e+01]\n",
      " [ 4.36926011e-16 -3.78902318e-16 -3.50000000e+01]]\n",
      "\n"
     ]
    },
    {
     "data": {
      "text/plain": [
       "array([[ 12., -51.,   4.],\n",
       "       [  6., 167., -68.],\n",
       "       [ -4.,  24., -41.]])"
      ]
     },
     "execution_count": 120,
     "metadata": {},
     "output_type": "execute_result"
    }
   ],
   "source": [
    "A = np.array([[12,-51,4],\n",
    "            [6,167,-68],\n",
    "            [-4,24,-41]])\n",
    "\n",
    "Q, R = givens_rotation(A)\n",
    "print(\"Matriz Q:\\n{}\\n\".format(Q))\n",
    "print(\"Matriz R:\\n{}\\n\".format(R))"
   ]
  },
  {
   "cell_type": "code",
   "execution_count": 121,
   "metadata": {},
   "outputs": [
    {
     "data": {
      "text/plain": [
       "array([[ 0.85714286,  0.42857143, -0.28571429],\n",
       "       [-0.39428571,  0.90285714,  0.17142857],\n",
       "       [ 0.33142857, -0.03428571,  0.94285714]])"
      ]
     },
     "execution_count": 121,
     "metadata": {},
     "output_type": "execute_result"
    }
   ],
   "source": [
    "a = np.linalg.inv(Q)\n",
    "a"
   ]
  },
  {
   "cell_type": "code",
   "execution_count": 92,
   "metadata": {},
   "outputs": [
    {
     "data": {
      "text/plain": [
       "array([[ 1.,  0.,  0.],\n",
       "       [ 0.,  1., -0.],\n",
       "       [ 0., -0.,  1.]])"
      ]
     },
     "execution_count": 92,
     "metadata": {},
     "output_type": "execute_result"
    }
   ],
   "source": [
    "(Q.T@Q).round(4)"
   ]
  }
 ],
 "metadata": {
  "kernelspec": {
   "display_name": "Python 3",
   "language": "python",
   "name": "python3"
  },
  "language_info": {
   "codemirror_mode": {
    "name": "ipython",
    "version": 3
   },
   "file_extension": ".py",
   "mimetype": "text/x-python",
   "name": "python",
   "nbconvert_exporter": "python",
   "pygments_lexer": "ipython3",
   "version": "3.7.3"
  }
 },
 "nbformat": 4,
 "nbformat_minor": 2
}
