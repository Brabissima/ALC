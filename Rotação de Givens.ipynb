{
 "cells": [
  {
   "cell_type": "code",
   "execution_count": 36,
   "metadata": {},
   "outputs": [],
   "source": [
    "import numpy as np\n",
    "import math"
   ]
  },
  {
   "cell_type": "code",
   "execution_count": 88,
   "metadata": {},
   "outputs": [],
   "source": [
    "def rotation(a,b):\n",
    "    norma = math.hypot(a,b)\n",
    "    cos = a/norma\n",
    "    sen = -b/norma\n",
    "    return (cos,sen)"
   ]
  },
  {
   "cell_type": "code",
   "execution_count": 137,
   "metadata": {},
   "outputs": [],
   "source": [
    "def givens_rotation(A):\n",
    "    qtd_linhas, qtd_colunas = A.shape\n",
    "    Q = np.identity(A.shape[0])\n",
    "    R = np.copy(A)\n",
    "    linhas, colunas = np.tril_indices(qtd_linhas, -1, qtd_colunas)\n",
    "    i = 0\n",
    "    for (linha, coluna) in zip(linhas, colunas):\n",
    "        if(R[linha,coluna] != 0):\n",
    "            cos, sen = rotation(R[coluna, coluna], R[linha,coluna])\n",
    "            G = np.identity(qtd_linhas)\n",
    "            G[[coluna,linha],[coluna,linha]] = cos\n",
    "            G[linha, coluna] = sen\n",
    "            G[coluna, linha] = -sen\n",
    "            R = np.dot(G, R)\n",
    "            Q = np.dot(Q,G.T)\n",
    "        i = i+1\n",
    "        print(\"Matriz Q{}:\\n{}\".format(i, Q.round(5)))\n",
    "    return (Q,R)"
   ]
  },
  {
   "cell_type": "code",
   "execution_count": 138,
   "metadata": {},
   "outputs": [
    {
     "name": "stdout",
     "output_type": "stream",
     "text": [
      "Matriz Q1:\n",
      "[[ 0.89443 -0.44721  0.     ]\n",
      " [ 0.44721  0.89443  0.     ]\n",
      " [ 0.       0.       1.     ]]\n",
      "Matriz Q2:\n",
      "[[ 0.85714 -0.44721  0.25555]\n",
      " [ 0.42857  0.89443  0.12778]\n",
      " [-0.28571  0.       0.95831]]\n",
      "Matriz Q3:\n",
      "[[ 0.85714 -0.39429  0.33143]\n",
      " [ 0.42857  0.90286 -0.03429]\n",
      " [-0.28571  0.17143  0.94286]]\n",
      "----------------------------------------\n",
      "Matriz Q:\n",
      "[[ 0.85714 -0.39429  0.33143]\n",
      " [ 0.42857  0.90286 -0.03429]\n",
      " [-0.28571  0.17143  0.94286]]\n",
      "Matriz R:\n",
      "[[ 14.  21. -14.]\n",
      " [  0. 175. -70.]\n",
      " [  0.  -0. -35.]]\n",
      "\n"
     ]
    }
   ],
   "source": [
    "A = np.array([[12,-51,4],\n",
    "            [6,167,-68],\n",
    "            [-4,24,-41]])\n",
    "\n",
    "Q, R = givens_rotation(A)\n",
    "separador = 40*'-'\n",
    "print(\"{}\\nMatriz Q:\\n{}\\nMatriz R:\\n{}\\n\".format(separador,Q.round(5), R.round(5)))"
   ]
  },
  {
   "cell_type": "code",
   "execution_count": 139,
   "metadata": {},
   "outputs": [
    {
     "name": "stdout",
     "output_type": "stream",
     "text": [
      "Matriz QR:\n",
      "[[ 12. -51.   4.]\n",
      " [  6. 167. -68.]\n",
      " [ -4.  24. -41.]]\n",
      "\n",
      "Matriz A:\n",
      "[[ 12 -51   4]\n",
      " [  6 167 -68]\n",
      " [ -4  24 -41]]\n",
      "\n"
     ]
    }
   ],
   "source": [
    "print(\"Matriz QR:\\n{}\\n\\nMatriz A:\\n{}\\n\".format(Q@R, A))"
   ]
  },
  {
   "cell_type": "code",
   "execution_count": 140,
   "metadata": {},
   "outputs": [
    {
     "data": {
      "text/plain": [
       "array([[ 0.85714286,  0.42857143, -0.28571429],\n",
       "       [-0.39428571,  0.90285714,  0.17142857],\n",
       "       [ 0.33142857, -0.03428571,  0.94285714]])"
      ]
     },
     "execution_count": 140,
     "metadata": {},
     "output_type": "execute_result"
    }
   ],
   "source": [
    "a = np.linalg.inv(Q)\n",
    "a"
   ]
  },
  {
   "cell_type": "code",
   "execution_count": 141,
   "metadata": {},
   "outputs": [
    {
     "data": {
      "text/plain": [
       "array([[ 1.,  0.,  0.],\n",
       "       [ 0.,  1., -0.],\n",
       "       [ 0., -0.,  1.]])"
      ]
     },
     "execution_count": 141,
     "metadata": {},
     "output_type": "execute_result"
    }
   ],
   "source": [
    "(Q.T@Q).round(4)"
   ]
  },
  {
   "cell_type": "code",
   "execution_count": 143,
   "metadata": {},
   "outputs": [
    {
     "name": "stdout",
     "output_type": "stream",
     "text": [
      "Matriz Q1:\n",
      "[[1. 0. 0. 0.]\n",
      " [0. 1. 0. 0.]\n",
      " [0. 0. 1. 0.]\n",
      " [0. 0. 0. 1.]]\n",
      "Matriz Q2:\n",
      "[[ 0.70711  0.      -0.70711  0.     ]\n",
      " [ 0.       1.       0.       0.     ]\n",
      " [ 0.70711  0.       0.70711  0.     ]\n",
      " [ 0.       0.       0.       1.     ]]\n",
      "Matriz Q3:\n",
      "[[ 0.70711 -0.70711  0.       0.     ]\n",
      " [ 0.       0.      -1.       0.     ]\n",
      " [ 0.70711  0.70711  0.       0.     ]\n",
      " [ 0.       0.       0.       1.     ]]\n",
      "Matriz Q4:\n",
      "[[ 0.57735 -0.70711  0.      -0.40825]\n",
      " [ 0.       0.      -1.       0.     ]\n",
      " [ 0.57735  0.70711  0.      -0.40825]\n",
      " [ 0.57735  0.       0.       0.8165 ]]\n",
      "Matriz Q5:\n",
      "[[ 0.57735  0.       0.      -0.8165 ]\n",
      " [ 0.       0.      -1.       0.     ]\n",
      " [ 0.57735  0.70711  0.       0.40825]\n",
      " [ 0.57735 -0.70711  0.       0.40825]]\n",
      "Matriz Q6:\n",
      "[[ 0.57735  0.       0.8165   0.     ]\n",
      " [ 0.       0.       0.      -1.     ]\n",
      " [ 0.57735  0.70711 -0.40825  0.     ]\n",
      " [ 0.57735 -0.70711 -0.40825  0.     ]]\n",
      "----------------------------------------\n",
      "Matriz Q:\n",
      "[[ 0.5774  0.      0.8165  0.    ]\n",
      " [ 0.      0.      0.     -1.    ]\n",
      " [ 0.5774  0.7071 -0.4082  0.    ]\n",
      " [ 0.5774 -0.7071 -0.4082  0.    ]]\n",
      "Matriz R:\n",
      "[[ 1.7321  1.7321  3.4641  0.5774  2.8868  2.3094]\n",
      " [ 0.      1.4142  1.4142  0.7071  1.4142  0.7071]\n",
      " [ 0.      0.      0.     -0.4082 -0.8165 -0.4082]\n",
      " [ 0.      0.      0.     -1.     -2.     -1.    ]]\n",
      "\n"
     ]
    }
   ],
   "source": [
    "A = np.array([[1, 1, 2, 0, 1, 1],\n",
    "              [0, 0, 0, 1, 2, 1],\n",
    "              [1, 2, 3, 1, 3, 2],\n",
    "              [1, 0, 1, 0, 1, 1]])\n",
    "\n",
    "Q,R = givens_rotation(A)\n",
    "print(\"{}\\nMatriz Q:\\n{}\\nMatriz R:\\n{}\\n\".format(separador,Q.round(4),R.round(4)))"
   ]
  }
 ],
 "metadata": {
  "kernelspec": {
   "display_name": "Python 3",
   "language": "python",
   "name": "python3"
  },
  "language_info": {
   "codemirror_mode": {
    "name": "ipython",
    "version": 3
   },
   "file_extension": ".py",
   "mimetype": "text/x-python",
   "name": "python",
   "nbconvert_exporter": "python",
   "pygments_lexer": "ipython3",
   "version": "3.7.3"
  }
 },
 "nbformat": 4,
 "nbformat_minor": 2
}
