{
 "cells": [
  {
   "cell_type": "code",
   "execution_count": 6,
   "metadata": {},
   "outputs": [],
   "source": [
    "import numpy as np\n",
    "import math"
   ]
  },
  {
   "cell_type": "code",
   "execution_count": 7,
   "metadata": {},
   "outputs": [],
   "source": [
    "def entradas(a,b):\n",
    "    # Calcula seno e coseno para entradas da matriz de rotação.\n",
    "    norma = math.hypot(a,b)\n",
    "    cos = a/norma\n",
    "    sen = -b/norma\n",
    "    return (cos,sen)"
   ]
  },
  {
   "cell_type": "code",
   "execution_count": 40,
   "metadata": {},
   "outputs": [],
   "source": [
    "def rotacao_givens(A):\n",
    "    qtd_linhas, qtd_colunas = A.shape\n",
    "    \n",
    "    # Inicializando a matriz ortogonal Q e a triangular superior R.\n",
    "    Q = np.identity(A.shape[0])\n",
    "    R = np.copy(A)\n",
    "    \n",
    "    # As iterações serão feitas sobre a matriz triangular inferior\n",
    "    linhas, colunas = np.tril_indices(qtd_linhas, -1, qtd_colunas)\n",
    "    i = 0\n",
    "    for (linha, coluna) in zip(linhas, colunas):\n",
    "        \n",
    "        # As rotações são feitas para os valores da matriz triangular\n",
    "        # inferior que são diferentes de zero.\n",
    "        if(R[linha,coluna] != 0):\n",
    "            cos, sen = entradas(R[coluna, coluna], R[linha,coluna])\n",
    "            G = np.identity(qtd_linhas)\n",
    "            G[[coluna,linha],[coluna,linha]] = cos\n",
    "            G[linha, coluna] = sen\n",
    "            G[coluna, linha] = -sen\n",
    "            R = np.dot(G, R)\n",
    "            Q = np.dot(Q,G.T)\n",
    "        i = i+1\n",
    "        print(\"Matriz Q{}:\\n{}\\n\\nMatriz R{}:\\n{}\\n\".format(i, Q.round(5), i, R.round(5)))\n",
    "    return (Q,R)"
   ]
  },
  {
   "cell_type": "code",
   "execution_count": 41,
   "metadata": {},
   "outputs": [
    {
     "name": "stdout",
     "output_type": "stream",
     "text": [
      "G: \n",
      "[[1. 0. 0.]\n",
      " [0. 1. 0.]\n",
      " [0. 0. 1.]]\n",
      "coluna,linha? (0, 1)\n",
      "[1. 1.]\n",
      "Matriz Q1:\n",
      "[[ 0.89443 -0.44721  0.     ]\n",
      " [ 0.44721  0.89443  0.     ]\n",
      " [ 0.       0.       1.     ]]\n",
      "\n",
      "Matriz R1:\n",
      "[[ 13.41641  29.06888 -26.83282]\n",
      " [  0.      172.17723 -62.6099 ]\n",
      " [ -4.       24.      -41.     ]]\n",
      "\n",
      "G: \n",
      "[[1. 0. 0.]\n",
      " [0. 1. 0.]\n",
      " [0. 0. 1.]]\n",
      "coluna,linha? (0, 2)\n",
      "[1. 1.]\n",
      "Matriz Q2:\n",
      "[[ 0.85714 -0.44721  0.25555]\n",
      " [ 0.42857  0.89443  0.12778]\n",
      " [-0.28571  0.       0.95831]]\n",
      "\n",
      "Matriz R2:\n",
      "[[ 14.       21.      -14.     ]\n",
      " [  0.      172.17723 -62.6099 ]\n",
      " [  0.       31.30495 -46.95743]]\n",
      "\n",
      "G: \n",
      "[[1. 0. 0.]\n",
      " [0. 1. 0.]\n",
      " [0. 0. 1.]]\n",
      "coluna,linha? (1, 2)\n",
      "[1. 1.]\n",
      "Matriz Q3:\n",
      "[[ 0.85714 -0.39429  0.33143]\n",
      " [ 0.42857  0.90286 -0.03429]\n",
      " [-0.28571  0.17143  0.94286]]\n",
      "\n",
      "Matriz R3:\n",
      "[[ 14.  21. -14.]\n",
      " [  0. 175. -70.]\n",
      " [  0.  -0. -35.]]\n",
      "\n",
      "\n",
      "----------------------------------------\n",
      "Matriz Q:\n",
      "[[ 0.85714 -0.39429  0.33143]\n",
      " [ 0.42857  0.90286 -0.03429]\n",
      " [-0.28571  0.17143  0.94286]]\n",
      "Matriz R:\n",
      "[[ 14.  21. -14.]\n",
      " [  0. 175. -70.]\n",
      " [  0.  -0. -35.]]\n",
      "\n"
     ]
    }
   ],
   "source": [
    "A = np.array([[12,-51,4],\n",
    "            [6,167,-68],\n",
    "            [-4,24,-41]])\n",
    "\n",
    "Q, R = rotacao_givens(A)\n",
    "separador = 40*'-'\n",
    "print(\"\\n{}\\nMatriz Q:\\n{}\\nMatriz R:\\n{}\\n\".format(separador,Q.round(5), R.round(5)))"
   ]
  },
  {
   "cell_type": "code",
   "execution_count": 11,
   "metadata": {},
   "outputs": [
    {
     "name": "stdout",
     "output_type": "stream",
     "text": [
      "Matriz QR:\n",
      "[[ 12. -51.   4.]\n",
      " [  6. 167. -68.]\n",
      " [ -4.  24. -41.]]\n",
      "\n",
      "Matriz A:\n",
      "[[ 12 -51   4]\n",
      " [  6 167 -68]\n",
      " [ -4  24 -41]]\n",
      "\n"
     ]
    }
   ],
   "source": [
    "print(\"Matriz QR:\\n{}\\n\\nMatriz A:\\n{}\\n\".format(Q@R, A))"
   ]
  },
  {
   "cell_type": "code",
   "execution_count": 12,
   "metadata": {},
   "outputs": [
    {
     "data": {
      "text/plain": [
       "array([[ 0.85714286,  0.42857143, -0.28571429],\n",
       "       [-0.39428571,  0.90285714,  0.17142857],\n",
       "       [ 0.33142857, -0.03428571,  0.94285714]])"
      ]
     },
     "execution_count": 12,
     "metadata": {},
     "output_type": "execute_result"
    }
   ],
   "source": [
    "a = np.linalg.inv(Q)\n",
    "a"
   ]
  },
  {
   "cell_type": "code",
   "execution_count": 13,
   "metadata": {},
   "outputs": [
    {
     "data": {
      "text/plain": [
       "array([[ 1.,  0.,  0.],\n",
       "       [ 0.,  1., -0.],\n",
       "       [ 0., -0.,  1.]])"
      ]
     },
     "execution_count": 13,
     "metadata": {},
     "output_type": "execute_result"
    }
   ],
   "source": [
    "(Q.T@Q).round(4)"
   ]
  },
  {
   "cell_type": "code",
   "execution_count": 15,
   "metadata": {},
   "outputs": [
    {
     "name": "stdout",
     "output_type": "stream",
     "text": [
      "Matriz Q1:\n",
      "[[1. 0. 0. 0.]\n",
      " [0. 1. 0. 0.]\n",
      " [0. 0. 1. 0.]\n",
      " [0. 0. 0. 1.]]\n",
      "Matriz Q2:\n",
      "[[ 0.70711  0.      -0.70711  0.     ]\n",
      " [ 0.       1.       0.       0.     ]\n",
      " [ 0.70711  0.       0.70711  0.     ]\n",
      " [ 0.       0.       0.       1.     ]]\n",
      "Matriz Q3:\n",
      "[[ 0.70711 -0.70711  0.       0.     ]\n",
      " [ 0.       0.      -1.       0.     ]\n",
      " [ 0.70711  0.70711  0.       0.     ]\n",
      " [ 0.       0.       0.       1.     ]]\n",
      "Matriz Q4:\n",
      "[[ 0.57735 -0.70711  0.      -0.40825]\n",
      " [ 0.       0.      -1.       0.     ]\n",
      " [ 0.57735  0.70711  0.      -0.40825]\n",
      " [ 0.57735  0.       0.       0.8165 ]]\n",
      "Matriz Q5:\n",
      "[[ 0.57735  0.       0.      -0.8165 ]\n",
      " [ 0.       0.      -1.       0.     ]\n",
      " [ 0.57735  0.70711  0.       0.40825]\n",
      " [ 0.57735 -0.70711  0.       0.40825]]\n",
      "Matriz Q6:\n",
      "[[ 0.57735  0.       0.8165   0.     ]\n",
      " [ 0.       0.       0.      -1.     ]\n",
      " [ 0.57735  0.70711 -0.40825  0.     ]\n",
      " [ 0.57735 -0.70711 -0.40825  0.     ]]\n",
      "----------------------------------------\n",
      "Matriz Q:\n",
      "[[ 0.5774  0.      0.8165  0.    ]\n",
      " [ 0.      0.      0.     -1.    ]\n",
      " [ 0.5774  0.7071 -0.4082  0.    ]\n",
      " [ 0.5774 -0.7071 -0.4082  0.    ]]\n",
      "Matriz R:\n",
      "[[ 1.7321  1.7321  3.4641  0.5774  2.8868  2.3094]\n",
      " [ 0.      1.4142  1.4142  0.7071  1.4142  0.7071]\n",
      " [ 0.      0.      0.     -0.4082 -0.8165 -0.4082]\n",
      " [ 0.      0.      0.     -1.     -2.     -1.    ]]\n",
      "\n"
     ]
    }
   ],
   "source": [
    "A = np.array([[1, 1, 2, 0, 1, 1],\n",
    "              [0, 0, 0, 1, 2, 1],\n",
    "              [1, 2, 3, 1, 3, 2],\n",
    "              [1, 0, 1, 0, 1, 1]])\n",
    "\n",
    "Q,R = rotacao_givens(A)\n",
    "print(\"{}\\nMatriz Q:\\n{}\\nMatriz R:\\n{}\\n\".format(separador,Q.round(4),R.round(4)))"
   ]
  }
 ],
 "metadata": {
  "kernelspec": {
   "display_name": "Python 3",
   "language": "python",
   "name": "python3"
  },
  "language_info": {
   "codemirror_mode": {
    "name": "ipython",
    "version": 3
   },
   "file_extension": ".py",
   "mimetype": "text/x-python",
   "name": "python",
   "nbconvert_exporter": "python",
   "pygments_lexer": "ipython3",
   "version": "3.7.3"
  }
 },
 "nbformat": 4,
 "nbformat_minor": 2
}
