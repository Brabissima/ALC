{
 "cells": [
  {
   "cell_type": "code",
   "execution_count": 29,
   "metadata": {},
   "outputs": [],
   "source": [
    "import numpy as np"
   ]
  },
  {
   "cell_type": "code",
   "execution_count": 30,
   "metadata": {},
   "outputs": [],
   "source": [
    "def qtd_rotacoes(n):\n",
    "    qtd = 0\n",
    "    for i in range(n,0,-1):\n",
    "        qtd += n-i\n",
    "    return qtd"
   ]
  },
  {
   "cell_type": "code",
   "execution_count": 31,
   "metadata": {},
   "outputs": [],
   "source": [
    "def teta(a,b):\n",
    "    return np.arctan(-a/b)"
   ]
  },
  {
   "cell_type": "markdown",
   "metadata": {},
   "source": [
    "### Isso é só a primeira iteração p ver se entendi"
   ]
  },
  {
   "cell_type": "code",
   "execution_count": 32,
   "metadata": {},
   "outputs": [],
   "source": [
    "def givens_rotation(A):\n",
    "    G = np.identity(A.shape[0])\n",
    "    n = A.shape[0]\n",
    "    a,b = A[n-1][0], A[0][0]\n",
    "    G[0,0], G[n-1,0] = np.cos(teta(a,b)), -np.sin(teta(a,b))\n",
    "    G[n-1,0], G[n-1,n-1] = np.sin(teta(a,b)), np.cos(teta(a,b))\n",
    "    return G"
   ]
  },
  {
   "cell_type": "code",
   "execution_count": 33,
   "metadata": {},
   "outputs": [
    {
     "name": "stdout",
     "output_type": "stream",
     "text": [
      "Matriz de rotação G:\n",
      "[[0.9486833  0.         0.        ]\n",
      " [0.         1.         0.        ]\n",
      " [0.31622777 0.         0.9486833 ]]\n",
      "G*A:\n",
      "[[ 11.38419958 -48.3828482    3.79473319]\n",
      " [  6.         167.         -68.        ]\n",
      " [  0.           6.64078309 -37.63110416]]\n"
     ]
    }
   ],
   "source": [
    "A = np.array([[12,-51,4],\n",
    "            [6,167,-68],\n",
    "            [-4,24,-41]])\n",
    "G = givens_rotation(A)\n",
    "print(\"Matriz de rotação G:\\n{}\".format(G))\n",
    "print(\"G*A:\\n{}\".format(G @ A))"
   ]
  }
 ],
 "metadata": {
  "kernelspec": {
   "display_name": "Python 3",
   "language": "python",
   "name": "python3"
  },
  "language_info": {
   "codemirror_mode": {
    "name": "ipython",
    "version": 3
   },
   "file_extension": ".py",
   "mimetype": "text/x-python",
   "name": "python",
   "nbconvert_exporter": "python",
   "pygments_lexer": "ipython3",
   "version": "3.7.3"
  }
 },
 "nbformat": 4,
 "nbformat_minor": 2
}
