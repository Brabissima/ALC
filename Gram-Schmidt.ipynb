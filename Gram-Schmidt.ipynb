{
 "cells": [
  {
   "cell_type": "code",
   "execution_count": 5,
   "metadata": {},
   "outputs": [],
   "source": [
    "import numpy as np\n",
    "import itertools as it\n",
    "from scipy.linalg import lu\n",
    "import matplotlib.pyplot as plt"
   ]
  },
  {
   "cell_type": "code",
   "execution_count": 11,
   "metadata": {},
   "outputs": [],
   "source": [
    "def gram_schmidt(A):\n",
    "    # Criar matriz Q\n",
    "    Q = np.zeros(A.shape)\n",
    "    # Atualização dos vetores/colunas de    \n",
    "    for i in range(A.shape[1]):\n",
    "        # Vetor i de Q recebe o vetor i de A\n",
    "        Q[:, i] = A[:, i]\n",
    "        # Somatório das projeções dos vetores de A em Q\n",
    "        for j in range(i):\n",
    "            # formula para compor o q chapéu\n",
    "            Q[:, i] -= Q[:, j].T @ A[:, i] * Q[:, j]\n",
    "        # Normalização do vetor q\n",
    "        #Q[:, i] /= np.linalg.norm(Q[:, i])\n",
    "        # arredondamento, se divisao for muito pequena, aproximamos a 1, para reduzir erro numérico\n",
    "        Q[:, i] /= np.linalg.norm(Q[:, i]) < 1e-8 and 1 or np.linalg.norm(Q[:, i])\n",
    "        \n",
    "    R = Q.T @ A\n",
    "    return Q,R"
   ]
  },
  {
   "cell_type": "code",
   "execution_count": 25,
   "metadata": {},
   "outputs": [],
   "source": [
    "#Gera uma matriz LI\n",
    "#obs: Manter os prints :) \n",
    "\n",
    "def matrizLI(m,n):\n",
    "    A=np.random.randint(0,5,(m,n))        #Gera uma mxn aleatória\n",
    "    p,l,u = lu(A)                         #Faz a decomposicao LU dela\n",
    "    #print('A antes=',A)\n",
    "    #print('u=',u)\n",
    "    delj,deli = [],[]\n",
    "    \n",
    "    for i in range(m):\n",
    "        for j in range(n):\n",
    "            if i<=j and u[i][j]==0:      #Percorre toda matriz U e checa aonde existe 0 na parte superior\n",
    "                #print('deleta coluna',j)\n",
    "                deli.append(i)           #Lista as linhas onde existe o 0\n",
    "                delj.append(j)           #Lista as colunas onde existe 0 pra deleta-las \n",
    "               \n",
    "    for i,j in it.product(deli,delj):\n",
    "        e0 = [0]*m\n",
    "        A=np.delete(A,j,axis=1)           #Deleta as colunas listadas.\n",
    "        e0[i] = 1\n",
    "        #print('e0=',e0)\n",
    "        A=np.insert(A, j, e0, axis=1)     #Coloca o vetor ei(coluna i da identidade) no lugar do vetor que deixava LD\n",
    "    \n",
    "    #print('A depois=',A)\n",
    "    #p,l,u = lu(A)\n",
    "    #print('u depois=',u)\n",
    "    return A"
   ]
  },
  {
   "cell_type": "code",
   "execution_count": 27,
   "metadata": {},
   "outputs": [
    {
     "name": "stdout",
     "output_type": "stream",
     "text": [
      "A= [[0 1 2 1 1]\n",
      " [3 0 0 4 0]\n",
      " [1 0 2 3 0]\n",
      " [4 0 2 1 0]\n",
      " [2 0 4 2 0]\n",
      " [1 0 0 4 0]\n",
      " [0 0 1 2 0]] \n",
      "\n",
      "Q= [[ 0.       1.       0.       0.       0.     ]\n",
      " [ 0.53882  0.      -0.45669  0.32586  0.     ]\n",
      " [ 0.17961  0.       0.37212  0.37229  0.     ]\n",
      " [ 0.71842  0.      -0.08457 -0.47599  0.     ]\n",
      " [ 0.35921  0.       0.74424 -0.03818  0.     ]\n",
      " [ 0.17961  0.      -0.15223  0.63046  0.     ]\n",
      " [ 0.       0.       0.26218  0.36014  0.     ]]\n"
     ]
    }
   ],
   "source": [
    "# Corrigir erros de arredondamento.\n",
    "\n",
    "# Matriz LI\n",
    "A = matrizLI(7,5)\n",
    "print('A=',A,'\\n')\n",
    "#A = np.array([\n",
    "#    [1, 1, -1],\n",
    "#    [1, 2, 1],\n",
    "#    [1, 3, 0]\n",
    "#], dtype=float)\n",
    "\n",
    "# Matriz Q\n",
    "Q,R = gram_schmidt(A)\n",
    "# Arredondando a 5 casas decimais\n",
    "print('Q=',Q.round(5))"
   ]
  },
  {
   "cell_type": "code",
   "execution_count": 28,
   "metadata": {},
   "outputs": [
    {
     "data": {
      "text/plain": [
       "array([[ 1.,  0.,  0., -0.,  0.],\n",
       "       [ 0.,  1.,  0.,  0.,  0.],\n",
       "       [ 0.,  0.,  1.,  0.,  0.],\n",
       "       [-0.,  0.,  0.,  1.,  0.],\n",
       "       [ 0.,  0.,  0.,  0.,  0.]])"
      ]
     },
     "execution_count": 28,
     "metadata": {},
     "output_type": "execute_result"
    }
   ],
   "source": [
    "# Q ortogonal\n",
    "(Q.T @ Q).round(5)"
   ]
  },
  {
   "cell_type": "code",
   "execution_count": 269,
   "metadata": {},
   "outputs": [
    {
     "data": {
      "text/plain": [
       "2.23607"
      ]
     },
     "execution_count": 269,
     "metadata": {},
     "output_type": "execute_result"
    }
   ],
   "source": [
    "# Teoricamente normalizada\n",
    "np.linalg.norm(Q).round(5)"
   ]
  },
  {
   "cell_type": "code",
   "execution_count": 29,
   "metadata": {},
   "outputs": [
    {
     "data": {
      "text/plain": [
       "array([[ 5.56776,  0.     ,  3.2329 ,  4.84934,  0.     ],\n",
       "       [ 0.     ,  1.     ,  2.     ,  1.     ,  1.     ],\n",
       "       [-0.     ,  0.     ,  3.81423,  0.60892,  0.     ],\n",
       "       [-0.     ,  0.     , -0.     ,  5.1101 ,  0.     ],\n",
       "       [ 0.     ,  0.     ,  0.     ,  0.     ,  0.     ]])"
      ]
     },
     "execution_count": 29,
     "metadata": {},
     "output_type": "execute_result"
    }
   ],
   "source": [
    "# Matriz R\n",
    "R.round(5)"
   ]
  },
  {
   "cell_type": "code",
   "execution_count": 30,
   "metadata": {},
   "outputs": [
    {
     "data": {
      "text/plain": [
       "array([[ 0.,  1.,  2.,  1.,  1.],\n",
       "       [ 3.,  0.,  0.,  4.,  0.],\n",
       "       [ 1.,  0.,  2.,  3.,  0.],\n",
       "       [ 4.,  0.,  2.,  1.,  0.],\n",
       "       [ 2.,  0.,  4.,  2.,  0.],\n",
       "       [ 1.,  0., -0.,  4.,  0.],\n",
       "       [-0.,  0.,  1.,  2.,  0.]])"
      ]
     },
     "execution_count": 30,
     "metadata": {},
     "output_type": "execute_result"
    }
   ],
   "source": [
    "# Decomposição Completa\n",
    "(Q @ R).round(5)"
   ]
  },
  {
   "cell_type": "code",
   "execution_count": null,
   "metadata": {},
   "outputs": [],
   "source": []
  },
  {
   "cell_type": "code",
   "execution_count": null,
   "metadata": {},
   "outputs": [],
   "source": []
  }
 ],
 "metadata": {
  "@webio": {
   "lastCommId": null,
   "lastKernelId": null
  },
  "kernelspec": {
   "display_name": "Python 3",
   "language": "python",
   "name": "python3"
  },
  "language_info": {
   "codemirror_mode": {
    "name": "ipython",
    "version": 3
   },
   "file_extension": ".py",
   "mimetype": "text/x-python",
   "name": "python",
   "nbconvert_exporter": "python",
   "pygments_lexer": "ipython3",
   "version": "3.7.4"
  }
 },
 "nbformat": 4,
 "nbformat_minor": 2
}
