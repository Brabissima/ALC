{
 "cells": [
  {
   "cell_type": "code",
   "execution_count": 2,
   "metadata": {},
   "outputs": [],
   "source": [
    "import numpy as np\n",
    "import itertools as it\n",
    "from scipy.linalg import lu\n",
    "import matplotlib.pyplot as plt"
   ]
  },
  {
   "cell_type": "code",
   "execution_count": 3,
   "metadata": {},
   "outputs": [],
   "source": [
    "def gram_schmidt(A):\n",
    "    # Criar matriz Q\n",
    "    Q = np.zeros(A.shape)\n",
    "    # Atualização dos vetores/colunas de    \n",
    "    for i in range(A.shape[1]):\n",
    "        # Vetor i de Q recebe o vetor i de A\n",
    "        Q[:, i] = A[:, i]\n",
    "        # Somatório das projeções dos vetores de A em Q\n",
    "        for j in range(i):\n",
    "            # formula para compor o q chapéu\n",
    "            Q[:, i] -= Q[:, j].T @ A[:, i] * Q[:, j]\n",
    "        # Normalização do vetor q\n",
    "        #Q[:, i] /= np.linalg.norm(Q[:, i])\n",
    "        # arredondamento, se divisao for muito pequena, aproximamos a 1, para reduzir erro numérico\n",
    "        Q[:, i] /= np.linalg.norm(Q[:, i]) < 1e-8 and 1 or np.linalg.norm(Q[:, i])\n",
    "        \n",
    "    R = Q.T @ A\n",
    "    return Q,R"
   ]
  },
  {
   "cell_type": "code",
   "execution_count": 11,
   "metadata": {},
   "outputs": [],
   "source": [
    "#Gera uma matriz LI\n",
    "#obs: Manter os prints :) \n",
    "def matrizLI(m,n):\n",
    "    A=np.random.randint(0,5,(m,n))        #Gera uma mxn aleatória\n",
    "    p,l,u = lu(A)                         #Faz a decomposicao LU dela\n",
    "    #print('A antes=',A)\n",
    "    #print('u=',u)\n",
    "    delj,deli = [],[]\n",
    "    \n",
    "    sup_indices = np.triu_indices(n)      #Retorna 1 lista com os 'i's e outra lista com os 'j's da parte superior\n",
    "    \n",
    "    for i,j in zip(sup_indices[0],sup_indices[1]):\n",
    "        if i!=j and u[i][j]==0:       #Percorre a parte superior da matriz U e checa aonde existe 0 \n",
    "            #print('deleta coluna',j)\n",
    "            deli.append(i)           #Lista as linhas onde existe o 0\n",
    "            delj.append(j)           #Lista as colunas onde existe 0 pra deleta-las\n",
    "               \n",
    "    for i,j in it.product(deli,delj):\n",
    "        A=np.delete(A,j,axis=1)           #Deleta as colunas listadas.\n",
    "        e0 = np.eye(m)[i]\n",
    "        #print('e0=',e0)\n",
    "        A=np.insert(A, j, e0, axis=1)     #Coloca o vetor ei(coluna i da identidade) no lugar do vetor que deixava LD\n",
    "    \n",
    "    #print('A depois=',A)\n",
    "    #p,l,u = lu(A)\n",
    "    #print('u depois=',u)\n",
    "    return A\n",
    "\n"
   ]
  },
  {
   "cell_type": "code",
   "execution_count": 13,
   "metadata": {},
   "outputs": [
    {
     "name": "stdout",
     "output_type": "stream",
     "text": [
      "A= [[1 1 1 4 1]\n",
      " [0 2 0 3 0]\n",
      " [2 1 0 1 0]\n",
      " [1 1 0 1 0]\n",
      " [4 2 0 2 0]\n",
      " [2 1 0 2 0]\n",
      " [3 1 0 2 0]] \n",
      "\n",
      "Q= [[ 0.16903  0.23615  0.9569  -0.      -0.     ]\n",
      " [ 0.       0.91835 -0.22663  0.20438  0.     ]\n",
      " [ 0.33806  0.01312 -0.06295 -0.24526 -0.     ]\n",
      " [ 0.16903  0.23615 -0.08814 -0.26569 -0.     ]\n",
      " [ 0.67612  0.02624 -0.12591 -0.49051 -0.     ]\n",
      " [ 0.33806  0.01312 -0.06295  0.53139  0.     ]\n",
      " [ 0.50709 -0.20991 -0.03777  0.55183  0.     ]]\n"
     ]
    }
   ],
   "source": [
    "# Corrigir erros de arredondamento.\n",
    "\n",
    "# Matriz LI\n",
    "A = matrizLI(7,5)\n",
    "print('A=',A,'\\n')\n",
    "#A = np.array([\n",
    "#    [1, 1, -1],\n",
    "#    [1, 2, 1],\n",
    "#    [1, 3, 0]\n",
    "#], dtype=float)\n",
    "\n",
    "# Matriz Q\n",
    "Q,R = gram_schmidt(A)\n",
    "# Arredondando a 5 casas decimais\n",
    "print('Q=',Q.round(5))"
   ]
  },
  {
   "cell_type": "code",
   "execution_count": 14,
   "metadata": {},
   "outputs": [
    {
     "data": {
      "text/plain": [
       "array([[ 1.,  0., -0.,  0.,  0.],\n",
       "       [ 0.,  1., -0., -0., -0.],\n",
       "       [-0., -0.,  1., -0., -0.],\n",
       "       [ 0., -0., -0.,  1.,  0.],\n",
       "       [ 0., -0., -0.,  0.,  0.]])"
      ]
     },
     "execution_count": 14,
     "metadata": {},
     "output_type": "execute_result"
    }
   ],
   "source": [
    "# Q ortogonal\n",
    "(Q.T @ Q).round(5)"
   ]
  },
  {
   "cell_type": "code",
   "execution_count": 15,
   "metadata": {},
   "outputs": [
    {
     "data": {
      "text/plain": [
       "2.0"
      ]
     },
     "execution_count": 15,
     "metadata": {},
     "output_type": "execute_result"
    }
   ],
   "source": [
    "# Teoricamente normalizada\n",
    "np.linalg.norm(Q).round(5)"
   ]
  },
  {
   "cell_type": "code",
   "execution_count": 16,
   "metadata": {},
   "outputs": [
    {
     "data": {
      "text/plain": [
       "array([[ 5.91608,  2.87352,  0.16903,  4.22577,  0.16903],\n",
       "       [ 0.     ,  2.17781,  0.23615,  3.60782,  0.23615],\n",
       "       [ 0.     , -0.     ,  0.9569 ,  2.54335,  0.9569 ],\n",
       "       [ 0.     , -0.     , -0.     ,  1.28759, -0.     ],\n",
       "       [ 0.     , -0.     , -0.     ,  0.     , -0.     ]])"
      ]
     },
     "execution_count": 16,
     "metadata": {},
     "output_type": "execute_result"
    }
   ],
   "source": [
    "# Matriz R\n",
    "R.round(5)"
   ]
  },
  {
   "cell_type": "code",
   "execution_count": 17,
   "metadata": {},
   "outputs": [
    {
     "data": {
      "text/plain": [
       "array([[ 1.,  1.,  1.,  4.,  1.],\n",
       "       [ 0.,  2., -0.,  3., -0.],\n",
       "       [ 2.,  1.,  0.,  1.,  0.],\n",
       "       [ 1.,  1.,  0.,  1.,  0.],\n",
       "       [ 4.,  2.,  0.,  2.,  0.],\n",
       "       [ 2.,  1., -0.,  2., -0.],\n",
       "       [ 3.,  1., -0.,  2., -0.]])"
      ]
     },
     "execution_count": 17,
     "metadata": {},
     "output_type": "execute_result"
    }
   ],
   "source": [
    "# Decomposição Completa\n",
    "(Q @ R).round(5)"
   ]
  },
  {
   "cell_type": "code",
   "execution_count": null,
   "metadata": {},
   "outputs": [],
   "source": []
  },
  {
   "cell_type": "code",
   "execution_count": null,
   "metadata": {},
   "outputs": [],
   "source": []
  }
 ],
 "metadata": {
  "@webio": {
   "lastCommId": null,
   "lastKernelId": null
  },
  "kernelspec": {
   "display_name": "Python 3",
   "language": "python",
   "name": "python3"
  },
  "language_info": {
   "codemirror_mode": {
    "name": "ipython",
    "version": 3
   },
   "file_extension": ".py",
   "mimetype": "text/x-python",
   "name": "python",
   "nbconvert_exporter": "python",
   "pygments_lexer": "ipython3",
   "version": "3.7.4"
  }
 },
 "nbformat": 4,
 "nbformat_minor": 2
}
