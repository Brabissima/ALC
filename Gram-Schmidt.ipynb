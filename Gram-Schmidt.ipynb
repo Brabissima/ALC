{
 "cells": [
  {
   "cell_type": "code",
   "execution_count": 240,
   "metadata": {},
   "outputs": [],
   "source": [
    "import numpy as np\n",
    "from scipy.linalg import lu\n",
    "import matplotlib.pyplot as plt"
   ]
  },
  {
   "cell_type": "code",
   "execution_count": 253,
   "metadata": {},
   "outputs": [],
   "source": [
    "def gram_schmidt(A):\n",
    "    # Criar matriz Q\n",
    "    Q = np.zeros(A.shape)\n",
    "    # Atualização dos vetores/colunas de    \n",
    "    for i in range(A.shape[1]):\n",
    "        # Vetor i de Q recebe o vetor i de A\n",
    "        Q[:, i] = A[:, i]\n",
    "        # Somatório das projeções dos vetores de A em Q\n",
    "        for j in range(i):\n",
    "            # formula para compor o q chapéu\n",
    "            Q[:, i] -= Q[:, j].T @ A[:, i] * Q[:, j]\n",
    "        # Normalização do vetor q\n",
    "        #Q[:, i] /= np.linalg.norm(Q[:, i])\n",
    "        # arredondamento, se divisao for muito pequena, aproximamos a 1, para reduzir erro numérico\n",
    "        Q[:, i] /= np.linalg.norm(Q[:, i]) < 1e-8 and 1 or np.linalg.norm(Q[:, i])\n",
    "        \n",
    "    R = Q.T @ A\n",
    "    return Q,R"
   ]
  },
  {
   "cell_type": "code",
   "execution_count": 254,
   "metadata": {},
   "outputs": [],
   "source": [
    "#Gera uma matriz LI\n",
    "#obs: Manter os prints :) \n",
    "\n",
    "def matrizLI(m,n):\n",
    "    A=np.random.randint(0,5,(m,n))        #Gera uma mxn aleatória\n",
    "    p,l,u = lu(A)                         #Faz a decomposicao LU dela\n",
    "    #print('A antes=',A)\n",
    "    #print('u=',u)\n",
    "    dels = []\n",
    "    \n",
    "    for i in range(m):\n",
    "        for j in range(n):\n",
    "            if i<=j and u[i][j]==0:      #Percorre toda matriz U e checa aonde existe 0 na parte superior\n",
    "                #print('deleta coluna',j)\n",
    "                dels.append(j)           #Lista as colunas onde existe 0 pra deleta-las \n",
    "               \n",
    "    A=np.delete(A,dels,axis=1)           #Deleta as colunas listadas.\n",
    "    \n",
    "    #print('A depois=',A)\n",
    "    #p,l,u = lu(A)\n",
    "    #print('u depois=',u)\n",
    "    return A"
   ]
  },
  {
   "cell_type": "code",
   "execution_count": 267,
   "metadata": {},
   "outputs": [
    {
     "name": "stdout",
     "output_type": "stream",
     "text": [
      "A= [[3 3 2 4 4]\n",
      " [1 4 1 0 2]\n",
      " [3 2 4 0 4]\n",
      " [3 2 4 3 3]\n",
      " [3 1 0 0 0]\n",
      " [2 1 1 0 2]\n",
      " [2 2 1 4 1]] \n",
      "\n",
      "Q= [[ 0.44721  0.201   -0.14112  0.40771  0.63703]\n",
      " [ 0.14907  0.88927 -0.11926 -0.35286 -0.18427]\n",
      " [ 0.44721 -0.07309  0.51132 -0.42575  0.11742]\n",
      " [ 0.44721 -0.07309  0.51132  0.22865 -0.40711]\n",
      " [ 0.44721 -0.34718 -0.62214 -0.31021 -0.33189]\n",
      " [ 0.29814 -0.14009 -0.13615 -0.24107  0.40067]\n",
      " [ 0.29814  0.134   -0.1933   0.5669  -0.3317 ]]\n"
     ]
    }
   ],
   "source": [
    "# Corrigir erros de arredondamento.\n",
    "\n",
    "# Matriz LI\n",
    "A = matrizLI(7,5)\n",
    "print('A=',A,'\\n')\n",
    "#A = np.array([\n",
    "#    [1, 1, -1],\n",
    "#    [1, 2, 1],\n",
    "#    [1, 3, 0]\n",
    "#], dtype=float)\n",
    "\n",
    "# Matriz Q\n",
    "Q,R = gram_schmidt(A)\n",
    "# Arredondando a 5 casas decimais\n",
    "print('Q=',Q.round(5))"
   ]
  },
  {
   "cell_type": "code",
   "execution_count": 268,
   "metadata": {},
   "outputs": [
    {
     "data": {
      "text/plain": [
       "array([[ 1.,  0.,  0.,  0., -0.],\n",
       "       [ 0.,  1., -0.,  0.,  0.],\n",
       "       [ 0., -0.,  1., -0., -0.],\n",
       "       [ 0.,  0., -0.,  1., -0.],\n",
       "       [-0.,  0., -0., -0.,  1.]])"
      ]
     },
     "execution_count": 268,
     "metadata": {},
     "output_type": "execute_result"
    }
   ],
   "source": [
    "# Q ortogonal\n",
    "(Q.T @ Q).round(5)"
   ]
  },
  {
   "cell_type": "code",
   "execution_count": 269,
   "metadata": {},
   "outputs": [
    {
     "data": {
      "text/plain": [
       "2.23607"
      ]
     },
     "execution_count": 269,
     "metadata": {},
     "output_type": "execute_result"
    }
   ],
   "source": [
    "# Teoricamente normalizada\n",
    "np.linalg.norm(Q).round(5)"
   ]
  },
  {
   "cell_type": "code",
   "execution_count": 270,
   "metadata": {},
   "outputs": [
    {
     "data": {
      "text/plain": [
       "array([[ 6.7082 ,  5.06842,  5.21749,  4.32306,  6.11192],\n",
       "       [ 0.     ,  3.64844,  0.70045,  1.12072,  1.92472],\n",
       "       [ 0.     ,  0.     ,  3.35963,  0.19628,  2.31065],\n",
       "       [ 0.     ,  0.     ,  0.     ,  4.58438, -0.00716],\n",
       "       [-0.     , -0.     , -0.     , -0.     ,  1.89756]])"
      ]
     },
     "execution_count": 270,
     "metadata": {},
     "output_type": "execute_result"
    }
   ],
   "source": [
    "# Matriz R\n",
    "R.round(5)"
   ]
  },
  {
   "cell_type": "code",
   "execution_count": 271,
   "metadata": {},
   "outputs": [
    {
     "data": {
      "text/plain": [
       "array([[ 3.,  3.,  2.,  4.,  4.],\n",
       "       [ 1.,  4.,  1.,  0.,  2.],\n",
       "       [ 3.,  2.,  4., -0.,  4.],\n",
       "       [ 3.,  2.,  4.,  3.,  3.],\n",
       "       [ 3.,  1.,  0.,  0.,  0.],\n",
       "       [ 2.,  1.,  1., -0.,  2.],\n",
       "       [ 2.,  2.,  1.,  4.,  1.]])"
      ]
     },
     "execution_count": 271,
     "metadata": {},
     "output_type": "execute_result"
    }
   ],
   "source": [
    "# Decomposição Completa\n",
    "(Q @ R).round(5)"
   ]
  },
  {
   "cell_type": "code",
   "execution_count": null,
   "metadata": {},
   "outputs": [],
   "source": []
  },
  {
   "cell_type": "code",
   "execution_count": null,
   "metadata": {},
   "outputs": [],
   "source": []
  },
  {
   "cell_type": "code",
   "execution_count": null,
   "metadata": {},
   "outputs": [],
   "source": []
  }
 ],
 "metadata": {
  "@webio": {
   "lastCommId": null,
   "lastKernelId": null
  },
  "kernelspec": {
   "display_name": "Python 3",
   "language": "python",
   "name": "python3"
  },
  "language_info": {
   "codemirror_mode": {
    "name": "ipython",
    "version": 3
   },
   "file_extension": ".py",
   "mimetype": "text/x-python",
   "name": "python",
   "nbconvert_exporter": "python",
   "pygments_lexer": "ipython3",
   "version": "3.7.4"
  }
 },
 "nbformat": 4,
 "nbformat_minor": 2
}
