{
 "cells": [
  {
   "cell_type": "code",
   "execution_count": 312,
   "metadata": {},
   "outputs": [],
   "source": [
    "import numpy as np\n",
    "import matplotlib.pyplot as plt\n",
    "plt.style.use('seaborn')"
   ]
  },
  {
   "cell_type": "code",
   "execution_count": 198,
   "metadata": {},
   "outputs": [],
   "source": [
    "def matriz_householder(v):\n",
    "    #Gera a matriz de refleccao para o vetor v\n",
    "    \n",
    "    v = np.array([v])                              #Transforma v em vetor coluna\n",
    "    tam_v = v.shape[1]\n",
    "    \n",
    "    e1 = [0]*tam_v\n",
    "    e1[0] = 1\n",
    "    e1=np.transpose(e1)                            #Primeira coluna da identidade\n",
    "    vetor = np.linalg.norm(v) * e1                 #Vetor [||v||,0....]\n",
    "    \n",
    "    if v[0,0] < 0:                                 #Se o primeiro elemento for < 0,troca o sinal\n",
    "        vetor = - vetor\n",
    "    u = v + vetor\n",
    "    \n",
    "    H = np.eye(tam_v) -  ((2 * np.outer(u,u)) / np.dot(u,np.transpose(u)))      #Gera H\n",
    "    \n",
    "    return H"
   ]
  },
  {
   "cell_type": "code",
   "execution_count": 199,
   "metadata": {},
   "outputs": [],
   "source": [
    "def QR_householder(A):\n",
    "    m,n = A.shape                                 \n",
    "    Q = np.eye(m)\n",
    "    R = A\n",
    "    menor_dim = min(m,n)\n",
    "\n",
    "    for i in range(menor_dim):\n",
    "        v = R[i:, i]                               #linha it pra frente e coluna it\n",
    "        Hh = matriz_householder(v)                 #Recebe a matriz de refleccao para o vetor v\n",
    "\n",
    "        H = np.eye(m)                              #Identidade\n",
    "        H[i:, i:] = Hh                             #Preenche com a matriz de refleccao as linhas e colunas i pra frente\n",
    "\n",
    "        #R = np.dot(H, R)                           #Gera R\n",
    "        Q = np.dot(Q, H)                           #Gera Q\n",
    "        \n",
    "    R = np.dot(Q.T,A)
    "    return Q,R"
   ]
  },
  {
   "cell_type": "code",
   "execution_count": 313,
   "metadata": {},
   "outputs": [
    {
     "name": "stdout",
     "output_type": "stream",
     "text": [
      "A= [[0 3 0 4 2]\n",
      " [0 2 4 0 4]\n",
      " [0 4 3 0 2]\n",
      " [0 0 3 0 3]\n",
      " [4 4 3 1 3]\n",
      " [4 4 2 1 1]\n",
      " [0 4 3 2 3]] \n",
      "\n",
      "Matriz R [[-5.65685 -5.65685 -3.53553 -1.41421 -2.82843]\n",
      " [ 0.      -6.7082  -4.77028 -2.98142 -5.06842]\n",
      " [ 0.       0.       4.55461 -1.80525  3.69345]\n",
      " [ 0.       0.      -0.      -2.80217 -1.98293]\n",
      " [ 0.       0.       0.      -0.      -0.85879]\n",
      " [ 0.       0.      -0.      -0.       0.     ]\n",
      " [ 0.       0.      -0.       0.       0.     ]] \n",
      "\n",
      "Matriz Q [[-0.      -0.44721 -0.46839 -0.64989 -0.20334  0.15122 -0.30666]\n",
      " [ 0.      -0.29814  0.56597 -0.0474  -0.35457 -0.56812 -0.37425]\n",
      " [ 0.      -0.59628  0.03415  0.61243 -0.07689  0.47308 -0.1962 ]\n",
      " [ 0.       0.       0.65867 -0.42434  0.31931  0.52996 -0.05716]\n",
      " [-0.70711  0.       0.10978 -0.07072 -0.529    0.17064  0.41712]\n",
      " [-0.70711  0.      -0.10978  0.07072  0.529   -0.17064 -0.41712]\n",
      " [ 0.      -0.59628  0.03415 -0.10131  0.40668 -0.30244  0.61332]] \n",
      "\n",
      "Inversa de Q [[ 0.0000e+00  0.0000e+00  0.0000e+00  0.0000e+00 -7.0710e-01 -7.0710e-01\n",
      "   0.0000e+00]\n",
      " [-4.4722e-01 -2.9815e-01 -5.9629e-01 -1.0000e-05 -0.0000e+00  0.0000e+00\n",
      "  -5.9629e-01]\n",
      " [-4.6839e-01  5.6597e-01  3.4150e-02  6.5868e-01  1.0978e-01 -1.0978e-01\n",
      "   3.4150e-02]\n",
      " [-6.4989e-01 -4.7400e-02  6.1242e-01 -4.2434e-01 -7.0720e-02  7.0720e-02\n",
      "  -1.0130e-01]\n",
      " [-2.0334e-01 -3.5457e-01 -7.6880e-02  3.1930e-01 -5.2900e-01  5.2900e-01\n",
      "   4.0668e-01]\n",
      " [ 1.5122e-01 -5.6812e-01  4.7308e-01  5.2997e-01  1.7064e-01 -1.7064e-01\n",
      "  -3.0244e-01]\n",
      " [-3.0666e-01 -3.7425e-01 -1.9620e-01 -5.7160e-02  4.1712e-01 -4.1712e-01\n",
      "   6.1332e-01]] \n",
      "\n",
      "Q x R= [[ 0.  3. -0.  4.  2.]\n",
      " [ 0.  2.  4. -0.  4.]\n",
      " [ 0.  4.  3. -0.  2.]\n",
      " [ 0.  0.  3.  0.  3.]\n",
      " [ 4.  4.  3.  1.  3.]\n",
      " [ 4.  4.  2.  1.  1.]\n",
      " [ 0.  4.  3.  2.  3.]] \n",
      "\n"
     ]
    },
    {
     "data": {
      "text/plain": [
       "<matplotlib.lines.Line2D at 0x21adbb1d588>"
      ]
     },
     "execution_count": 313,
     "metadata": {},
     "output_type": "execute_result"
    },
    {
     "data": {
      "image/png": "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\n",
      "text/plain": [
       "<Figure size 576x396 with 1 Axes>"
      ]
     },
     "metadata": {},
     "output_type": "display_data"
    }
   ],
   "source": [
    "m,n = 7,5\n",
    "A = np.random.randint(0,5,(m,n))\n",
    "print('A=',A,'\\n')\n",
    "\n",
    "Q,R = QR_householder(A)\n",
    "R = np.around(R, decimals=5)                   #Arredonda R\n",
    "Q = np.around(Q, decimals=5)                   #Arredonda Q\n",
    "QxR = np.dot(Q,R)\n",
    "invQ = np.around(np.linalg.inv(Q),decimals=5)\n",
    "\n",
    "print('Matriz R',R,'\\n')\n",
    "print('Matriz Q',Q,'\\n')\n",
    "print('Inversa de Q', invQ,'\\n')               #Qt = Q-1\n",
    "print('Q x R=',np.around(QxR),'\\n')            #A = QR\n",
    "plt.spy(R,marker='o')                           #Plota aonde tem número !=0 na matriz R(triang. superior)"
   ]
  },
  {
   "cell_type": "code",
   "execution_count": 284,
   "metadata": {},
   "outputs": [],
   "source": []
  }
 ],
 "metadata": {
  "kernelspec": {
   "display_name": "Python 3",
   "language": "python",
   "name": "python3"
  },
  "language_info": {
   "codemirror_mode": {
    "name": "ipython",
    "version": 3
   },
   "file_extension": ".py",
   "mimetype": "text/x-python",
   "name": "python",
   "nbconvert_exporter": "python",
   "pygments_lexer": "ipython3",
   "version": "3.7.4"
  }
 },
 "nbformat": 4,
 "nbformat_minor": 2
}
