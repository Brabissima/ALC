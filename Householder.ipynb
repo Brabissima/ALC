{
 "cells": [
  {
   "cell_type": "code",
   "execution_count": 5,
   "metadata": {},
   "outputs": [],
   "source": [
    "import numpy as np\n",
    "import matplotlib.pyplot as plt\n",
    "plt.style.use('seaborn')"
   ]
  },
  {
   "cell_type": "code",
   "execution_count": 6,
   "metadata": {},
   "outputs": [],
   "source": [
    "def matriz_householder(v):\n",
    "    #Gera a matriz de refleccao para o vetor v\n",
    "    tam_v = v.shape[0]\n",
    "        \n",
    "    e1 = np.eye(tam_v)[0]                        #Primeira coluna da identidade                    \n",
    "    vetor = np.linalg.norm(v) * e1               #Vetor [||v||,0....]\n",
    "    \n",
    "    if v[0] < 0:                                 #Se o primeiro elemento for < 0,troca o sinal\n",
    "        vetor = - vetor\n",
    "    u = v + vetor\n",
    "    \n",
    "    H = np.eye(tam_v) -  ((2 * np.outer(u,u)) / np.dot(u,np.transpose(u)))      #Gera H\n",
    "    \n",
    "    return H"
   ]
  },
  {
   "cell_type": "code",
   "execution_count": 7,
   "metadata": {},
   "outputs": [],
   "source": [
    "def QR_householder(A):\n",
    "    m,n = A.shape                                 \n",
    "    Q = np.eye(m)\n",
    "    R = A\n",
    "    menor_dim = min(m,n)\n",
    "\n",
    "    for i in range(menor_dim):\n",
    "        v = R[i:, i]                               #linha it pra frente e coluna it\n",
    "        Hh = matriz_householder(v)                 #Recebe a matriz de refleccao para o vetor v\n",
    "\n",
    "        H = np.eye(m)                              #Identidade\n",
    "        H[i:, i:] = Hh                             #Preenche com a matriz de refleccao as linhas e colunas i pra frente\n",
    "\n",
    "        R = np.dot(H, R)                           #Gera R\n",
    "        Q = np.dot(Q, H)                           #Gera Q\n",
    "        \n",
    "    return Q,R"
   ]
  },
  {
   "cell_type": "code",
   "execution_count": 8,
   "metadata": {},
   "outputs": [
    {
     "name": "stdout",
     "output_type": "stream",
     "text": [
      "A= [[2 0 2 2 3]\n",
      " [0 1 1 3 2]\n",
      " [4 4 0 4 0]\n",
      " [4 4 2 3 2]\n",
      " [2 4 0 4 4]\n",
      " [4 0 1 3 4]\n",
      " [2 0 1 0 3]] \n",
      "\n",
      "Matriz R [[-7.74597 -5.16398 -2.32379 -6.71317 -5.68038]\n",
      " [-0.      -4.72582  0.63481 -2.60978  0.70535]\n",
      " [-0.      -0.       2.2797   0.90219  2.34779]\n",
      " [-0.      -0.      -0.       3.21068  2.36377]\n",
      " [ 0.      -0.      -0.      -0.      -3.75983]\n",
      " [ 0.      -0.      -0.      -0.       0.     ]\n",
      " [ 0.      -0.      -0.       0.       0.     ]] \n",
      "\n",
      "Matriz Q [[-0.2582   0.28214  0.53555  0.1619   0.08132 -0.67643 -0.27664]\n",
      " [ 0.      -0.2116   0.49758  0.62256  0.13047  0.27547  0.4766 ]\n",
      " [-0.5164  -0.28214 -0.44782  0.06261  0.48698 -0.3321   0.31911]\n",
      " [-0.5164  -0.28214  0.42949 -0.49537  0.15207  0.40096 -0.19996]\n",
      " [-0.2582  -0.56428 -0.10606  0.27711 -0.67166 -0.13774 -0.2383 ]\n",
      " [-0.5164   0.56428 -0.24486  0.38213 -0.0905   0.40096 -0.19996]\n",
      " [-0.2582   0.28214  0.0969  -0.33776 -0.50673 -0.12549  0.67656]] \n",
      "\n",
      "Inversa de Q [[-0.25819 -0.      -0.51639 -0.51639 -0.2582  -0.5164  -0.2582 ]\n",
      " [ 0.28214 -0.21161 -0.28214 -0.28214 -0.56427  0.56427  0.28214]\n",
      " [ 0.53555  0.49758 -0.44782  0.42949 -0.10606 -0.24486  0.0969 ]\n",
      " [ 0.1619   0.62257  0.06262 -0.49537  0.27711  0.38212 -0.33776]\n",
      " [ 0.08132  0.13048  0.48697  0.15207 -0.67166 -0.0905  -0.50673]\n",
      " [-0.67644  0.27547 -0.3321   0.40097 -0.13774  0.40097 -0.1255 ]\n",
      " [-0.27664  0.4766   0.31912 -0.19997 -0.2383  -0.19996  0.67656]] \n",
      "\n",
      "Q x R= [[ 2. -0.  2.  2.  3.]\n",
      " [ 0.  1.  1.  3.  2.]\n",
      " [ 4.  4.  0.  4. -0.]\n",
      " [ 4.  4.  2.  3.  2.]\n",
      " [ 2.  4.  0.  4.  4.]\n",
      " [ 4. -0.  1.  3.  4.]\n",
      " [ 2. -0.  1.  0.  3.]] \n",
      "\n"
     ]
    },
    {
     "data": {
      "text/plain": [
       "<matplotlib.lines.Line2D at 0x22031410a88>"
      ]
     },
     "execution_count": 8,
     "metadata": {},
     "output_type": "execute_result"
    },
    {
     "data": {
      "image/png": "[encoded data removed]",
      "text/plain": [
       "<Figure size 576x396 with 1 Axes>"
      ]
     },
     "metadata": {},
     "output_type": "display_data"
    }
   ],
   "source": [
    "m,n = 7,5\n",
    "A = np.random.randint(0,5,(m,n))\n",
    "print('A=',A,'\\n')\n",
    "\n",
    "Q,R = QR_householder(A)\n",
    "R = np.around(R, decimals=5)                   #Arredonda R\n",
    "Q = np.around(Q, decimals=5)                   #Arredonda Q\n",
    "QxR = np.dot(Q,R)\n",
    "invQ = np.around(np.linalg.inv(Q),decimals=5)\n",
    "\n",
    "print('Matriz R',R,'\\n')\n",
    "print('Matriz Q',Q,'\\n')\n",
    "print('Inversa de Q', invQ,'\\n')               #Qt = Q-1\n",
    "print('Q x R=',np.around(QxR),'\\n')            #A = QR\n",
    "plt.spy(R,marker='o')                           #Plota aonde tem número !=0 na matriz R(triang. superior)"
   ]
  },
  {
   "cell_type": "code",
   "execution_count": 284,
   "metadata": {},
   "outputs": [],
   "source": []
  }
 ],
 "metadata": {
  "kernelspec": {
   "display_name": "Python 3",
   "language": "python",
   "name": "python3"
  },
  "language_info": {
   "codemirror_mode": {
    "name": "ipython",
    "version": 3
   },
   "file_extension": ".py",
   "mimetype": "text/x-python",
   "name": "python",
   "nbconvert_exporter": "python",
   "pygments_lexer": "ipython3",
   "version": "3.7.4"
  }
 },
 "nbformat": 4,
 "nbformat_minor": 2
}
